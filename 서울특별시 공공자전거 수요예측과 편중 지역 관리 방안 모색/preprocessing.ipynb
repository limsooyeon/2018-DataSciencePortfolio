{
  "nbformat": 4,
  "nbformat_minor": 0,
  "metadata": {
    "colab": {
      "name": "FINAL_v1.ipynb",
      "version": "0.3.2",
      "provenance": []
    },
    "kernelspec": {
      "display_name": "Python 3",
      "language": "python",
      "name": "python3"
    }
  },
  "cells": [
    {
      "metadata": {
        "id": "VpzevW3RciP0",
        "colab_type": "text"
      },
      "cell_type": "markdown",
      "source": [
        "# 0. IMPORT Libraries"
      ]
    },
    {
      "metadata": {
        "id": "lB2gQda3ciP3",
        "colab_type": "code",
        "colab": {}
      },
      "cell_type": "code",
      "source": [
        "import os\n",
        "import glob\n",
        "import pandas as pd\n",
        "import numpy as np\n",
        "import datetime\n",
        "import matplotlib.pyplot as plt\n",
        "import seaborn as sns"
      ],
      "execution_count": 0,
      "outputs": []
    },
    {
      "metadata": {
        "id": "W_dxTa-fciP_",
        "colab_type": "code",
        "colab": {}
      },
      "cell_type": "code",
      "source": [
        "from sklearn.preprocessing import minmax_scale"
      ],
      "execution_count": 0,
      "outputs": []
    },
    {
      "metadata": {
        "id": "79fUbj5hciQG",
        "colab_type": "text"
      },
      "cell_type": "markdown",
      "source": [
        "# 1. IMPORT DATA"
      ]
    },
    {
      "metadata": {
        "id": "LXAOKxkdciQI",
        "colab_type": "code",
        "colab": {}
      },
      "cell_type": "code",
      "source": [
        "path = \"C:/Users/student/OneDrive/dr/DH_FINAL\""
      ],
      "execution_count": 0,
      "outputs": []
    },
    {
      "metadata": {
        "id": "fewSuRKbciQP",
        "colab_type": "code",
        "colab": {}
      },
      "cell_type": "code",
      "source": [
        "allFiles = glob.glob(os.path.join(path,\"201*.csv\"))"
      ],
      "execution_count": 0,
      "outputs": []
    },
    {
      "metadata": {
        "id": "M7ZloHqMciQX",
        "colab_type": "code",
        "colab": {}
      },
      "cell_type": "code",
      "source": [
        "np_array_list = []\n",
        "for file_ in allFiles:\n",
        "    df = pd.read_csv(file_, header=0, engine='python')\n",
        "    df = df.dropna()\n",
        "    np_array_list.append(df.as_matrix())"
      ],
      "execution_count": 0,
      "outputs": []
    },
    {
      "metadata": {
        "id": "6ReF8DOZciQe",
        "colab_type": "code",
        "outputId": "00dc0a40-3ff7-447c-fa85-f1f8c695bb75",
        "colab": {}
      },
      "cell_type": "code",
      "source": [
        "len(np_array_list)"
      ],
      "execution_count": 0,
      "outputs": [
        {
          "output_type": "execute_result",
          "data": {
            "text/plain": [
              "0"
            ]
          },
          "metadata": {
            "tags": []
          },
          "execution_count": 12
        }
      ]
    },
    {
      "metadata": {
        "id": "yegf7bMqciQq",
        "colab_type": "code",
        "colab": {}
      },
      "cell_type": "code",
      "source": [
        "comb_np_array = np.vstack(np_array_list)\n",
        "big_frame = pd.DataFrame(comb_np_array)\n",
        "\n",
        "big_frame.columns = ['BikeID', 'DepartureDate', 'DepartureID', 'DepartureName'\n",
        "                         , 'Num1', 'ArrivalDate', 'ArrivalID', 'ArrivalName', 'Num2'\n",
        "                         , 'Time', 'Dist']"
      ],
      "execution_count": 0,
      "outputs": []
    },
    {
      "metadata": {
        "id": "3BYN-jHzciQz",
        "colab_type": "code",
        "colab": {}
      },
      "cell_type": "code",
      "source": [
        "RD = big_frame[['DepartureDate','DepartureID','ArrivalDate','ArrivalID']]"
      ],
      "execution_count": 0,
      "outputs": []
    },
    {
      "metadata": {
        "id": "5-r2dA05ciQ8",
        "colab_type": "text"
      },
      "cell_type": "markdown",
      "source": [
        "# 2. 일부 DATA 에 따옴표가 들어있기 때문에 지웁니다"
      ]
    },
    {
      "metadata": {
        "id": "_FMzBnh-ciRO",
        "colab_type": "code",
        "colab": {}
      },
      "cell_type": "code",
      "source": [
        "RD_sort = RD.sort_values(by=['DepartureDate'], axis=0)"
      ],
      "execution_count": 0,
      "outputs": []
    },
    {
      "metadata": {
        "id": "BkEM6tBuciRY",
        "colab_type": "code",
        "outputId": "163e60df-50a6-4165-a4a9-4a928741ec74",
        "colab": {}
      },
      "cell_type": "code",
      "source": [
        "#위치를 찾기\n",
        "RD_sort.iloc[4411477:4411479]"
      ],
      "execution_count": 0,
      "outputs": [
        {
          "output_type": "execute_result",
          "data": {
            "text/html": [
              "<div>\n",
              "<style scoped>\n",
              "    .dataframe tbody tr th:only-of-type {\n",
              "        vertical-align: middle;\n",
              "    }\n",
              "\n",
              "    .dataframe tbody tr th {\n",
              "        vertical-align: top;\n",
              "    }\n",
              "\n",
              "    .dataframe thead th {\n",
              "        text-align: right;\n",
              "    }\n",
              "</style>\n",
              "<table border=\"1\" class=\"dataframe\">\n",
              "  <thead>\n",
              "    <tr style=\"text-align: right;\">\n",
              "      <th></th>\n",
              "      <th>DepartureDate</th>\n",
              "      <th>DepartureID</th>\n",
              "      <th>ArrivalDate</th>\n",
              "      <th>ArrivalID</th>\n",
              "    </tr>\n",
              "  </thead>\n",
              "  <tbody>\n",
              "    <tr>\n",
              "      <th>5088740</th>\n",
              "      <td>'2018-06-30 23:59:58'</td>\n",
              "      <td>'2169'</td>\n",
              "      <td>'2018-07-01 00:08:05'</td>\n",
              "      <td>'2112'</td>\n",
              "    </tr>\n",
              "    <tr>\n",
              "      <th>2307245</th>\n",
              "      <td>2018-04-01 0:00</td>\n",
              "      <td>266</td>\n",
              "      <td>2018-04-01 0:07</td>\n",
              "      <td>245</td>\n",
              "    </tr>\n",
              "  </tbody>\n",
              "</table>\n",
              "</div>"
            ],
            "text/plain": [
              "                 DepartureDate DepartureID            ArrivalDate ArrivalID\n",
              "5088740  '2018-06-30 23:59:58'      '2169'  '2018-07-01 00:08:05'    '2112'\n",
              "2307245        2018-04-01 0:00         266        2018-04-01 0:07       245"
            ]
          },
          "metadata": {
            "tags": []
          },
          "execution_count": 46
        }
      ]
    },
    {
      "metadata": {
        "id": "LaStZZ-jciRh",
        "colab_type": "code",
        "outputId": "44868831-cf2d-45b0-d400-0fea0caf2e5b",
        "colab": {}
      },
      "cell_type": "code",
      "source": [
        "RD1 = RD_sort[:4411478] ## 요기까진 따옴표가 있고\n",
        "RD2 = RD_sort[4411478:] ## 요기부턴 따옴표가 없음\n",
        "RD2.head()"
      ],
      "execution_count": 0,
      "outputs": [
        {
          "output_type": "execute_result",
          "data": {
            "text/html": [
              "<div>\n",
              "<style scoped>\n",
              "    .dataframe tbody tr th:only-of-type {\n",
              "        vertical-align: middle;\n",
              "    }\n",
              "\n",
              "    .dataframe tbody tr th {\n",
              "        vertical-align: top;\n",
              "    }\n",
              "\n",
              "    .dataframe thead th {\n",
              "        text-align: right;\n",
              "    }\n",
              "</style>\n",
              "<table border=\"1\" class=\"dataframe\">\n",
              "  <thead>\n",
              "    <tr style=\"text-align: right;\">\n",
              "      <th></th>\n",
              "      <th>DepartureDate</th>\n",
              "      <th>DepartureID</th>\n",
              "      <th>ArrivalDate</th>\n",
              "      <th>ArrivalID</th>\n",
              "    </tr>\n",
              "  </thead>\n",
              "  <tbody>\n",
              "    <tr>\n",
              "      <th>2307245</th>\n",
              "      <td>2018-04-01 0:00</td>\n",
              "      <td>266</td>\n",
              "      <td>2018-04-01 0:07</td>\n",
              "      <td>245</td>\n",
              "    </tr>\n",
              "    <tr>\n",
              "      <th>2307246</th>\n",
              "      <td>2018-04-01 0:00</td>\n",
              "      <td>1946</td>\n",
              "      <td>2018-04-01 0:44</td>\n",
              "      <td>1820</td>\n",
              "    </tr>\n",
              "    <tr>\n",
              "      <th>2307262</th>\n",
              "      <td>2018-04-01 0:00</td>\n",
              "      <td>574</td>\n",
              "      <td>2018-04-01 0:27</td>\n",
              "      <td>574</td>\n",
              "    </tr>\n",
              "    <tr>\n",
              "      <th>2307261</th>\n",
              "      <td>2018-04-01 0:00</td>\n",
              "      <td>3511</td>\n",
              "      <td>2018-04-01 1:31</td>\n",
              "      <td>3511</td>\n",
              "    </tr>\n",
              "    <tr>\n",
              "      <th>2307260</th>\n",
              "      <td>2018-04-01 0:00</td>\n",
              "      <td>1503</td>\n",
              "      <td>2018-04-01 1:24</td>\n",
              "      <td>1709</td>\n",
              "    </tr>\n",
              "  </tbody>\n",
              "</table>\n",
              "</div>"
            ],
            "text/plain": [
              "           DepartureDate DepartureID      ArrivalDate ArrivalID\n",
              "2307245  2018-04-01 0:00         266  2018-04-01 0:07       245\n",
              "2307246  2018-04-01 0:00        1946  2018-04-01 0:44      1820\n",
              "2307262  2018-04-01 0:00         574  2018-04-01 0:27       574\n",
              "2307261  2018-04-01 0:00        3511  2018-04-01 1:31      3511\n",
              "2307260  2018-04-01 0:00        1503  2018-04-01 1:24      1709"
            ]
          },
          "metadata": {
            "tags": []
          },
          "execution_count": 49
        }
      ]
    },
    {
      "metadata": {
        "id": "TQBmITQcciRq",
        "colab_type": "code",
        "outputId": "d96d9231-fbd6-4c7f-fc58-63bb313dee82",
        "colab": {}
      },
      "cell_type": "code",
      "source": [
        "# 따옴표 제거\n",
        "RD1.DepartureDate = RD1.DepartureDate.str.lstrip(\"'\").str.rstrip(\"'\")\n",
        "RD1.DepartureID = RD1.DepartureID.str.lstrip(\"'\").str.rstrip(\"'\")\n",
        "RD1.ArrivalDate = RD1.ArrivalDate.str.lstrip(\"'\").str.rstrip(\"'\")\n",
        "RD1.ArrivalID = RD1.ArrivalID.str.lstrip(\"'\").str.rstrip(\"'\")"
      ],
      "execution_count": 0,
      "outputs": [
        {
          "output_type": "stream",
          "text": [
            "C:\\Users\\student\\Anaconda3\\lib\\site-packages\\pandas\\core\\generic.py:4405: SettingWithCopyWarning: \n",
            "A value is trying to be set on a copy of a slice from a DataFrame.\n",
            "Try using .loc[row_indexer,col_indexer] = value instead\n",
            "\n",
            "See the caveats in the documentation: http://pandas.pydata.org/pandas-docs/stable/indexing.html#indexing-view-versus-copy\n",
            "  self[name] = value\n"
          ],
          "name": "stderr"
        }
      ]
    },
    {
      "metadata": {
        "id": "1uD6iVokciR1",
        "colab_type": "code",
        "colab": {}
      },
      "cell_type": "code",
      "source": [
        "RD_re = RD1.append(RD2)\n",
        "RD_re_sort = RD_re.sort_values(by=['DepartureDate'], axis=0)"
      ],
      "execution_count": 0,
      "outputs": []
    },
    {
      "metadata": {
        "id": "u4rwUs9aciR9",
        "colab_type": "code",
        "colab": {}
      },
      "cell_type": "code",
      "source": [
        "RD11 = RD_re_sort.reset_index()\n",
        "RD11 = RD11.drop('index', axis = 1)"
      ],
      "execution_count": 0,
      "outputs": []
    },
    {
      "metadata": {
        "id": "VZC8cznbciSG",
        "colab_type": "code",
        "outputId": "797aa4ba-864d-4d94-d653-db581fdb9faa",
        "colab": {}
      },
      "cell_type": "code",
      "source": [
        "# 2017년 10월부터 2018년 9월까지 1년치 데이터임을 확인\n",
        "RD11.head(5).append(RD11.tail(5))"
      ],
      "execution_count": 0,
      "outputs": [
        {
          "output_type": "execute_result",
          "data": {
            "text/html": [
              "<div>\n",
              "<style scoped>\n",
              "    .dataframe tbody tr th:only-of-type {\n",
              "        vertical-align: middle;\n",
              "    }\n",
              "\n",
              "    .dataframe tbody tr th {\n",
              "        vertical-align: top;\n",
              "    }\n",
              "\n",
              "    .dataframe thead th {\n",
              "        text-align: right;\n",
              "    }\n",
              "</style>\n",
              "<table border=\"1\" class=\"dataframe\">\n",
              "  <thead>\n",
              "    <tr style=\"text-align: right;\">\n",
              "      <th></th>\n",
              "      <th>DepartureDate</th>\n",
              "      <th>DepartureID</th>\n",
              "      <th>ArrivalDate</th>\n",
              "      <th>ArrivalID</th>\n",
              "    </tr>\n",
              "  </thead>\n",
              "  <tbody>\n",
              "    <tr>\n",
              "      <th>0</th>\n",
              "      <td>2017-10-01 00:00:00</td>\n",
              "      <td>1906</td>\n",
              "      <td>2017-10-01 00:37:41</td>\n",
              "      <td>1943</td>\n",
              "    </tr>\n",
              "    <tr>\n",
              "      <th>1</th>\n",
              "      <td>2017-10-01 00:00:00</td>\n",
              "      <td>1433</td>\n",
              "      <td>2017-10-01 00:13:50</td>\n",
              "      <td>1416</td>\n",
              "    </tr>\n",
              "    <tr>\n",
              "      <th>2</th>\n",
              "      <td>2017-10-01 00:00:01</td>\n",
              "      <td>2148</td>\n",
              "      <td>2017-10-01 00:27:43</td>\n",
              "      <td>2141</td>\n",
              "    </tr>\n",
              "    <tr>\n",
              "      <th>3</th>\n",
              "      <td>2017-10-01 00:00:05</td>\n",
              "      <td>567</td>\n",
              "      <td>2017-10-01 00:16:01</td>\n",
              "      <td>505</td>\n",
              "    </tr>\n",
              "    <tr>\n",
              "      <th>4</th>\n",
              "      <td>2017-10-01 00:00:06</td>\n",
              "      <td>106</td>\n",
              "      <td>2017-10-01 00:29:01</td>\n",
              "      <td>145</td>\n",
              "    </tr>\n",
              "    <tr>\n",
              "      <th>8637735</th>\n",
              "      <td>2018-09-30 9:59</td>\n",
              "      <td>1358</td>\n",
              "      <td>2018-09-30 10:53</td>\n",
              "      <td>1358</td>\n",
              "    </tr>\n",
              "    <tr>\n",
              "      <th>8637736</th>\n",
              "      <td>2018-09-30 9:59</td>\n",
              "      <td>1358</td>\n",
              "      <td>2018-09-30 10:54</td>\n",
              "      <td>1358</td>\n",
              "    </tr>\n",
              "    <tr>\n",
              "      <th>8637737</th>\n",
              "      <td>2018-09-30 9:59</td>\n",
              "      <td>314</td>\n",
              "      <td>2018-09-30 10:07</td>\n",
              "      <td>385</td>\n",
              "    </tr>\n",
              "    <tr>\n",
              "      <th>8637738</th>\n",
              "      <td>2018-09-30 9:59</td>\n",
              "      <td>339</td>\n",
              "      <td>2018-09-30 10:07</td>\n",
              "      <td>328</td>\n",
              "    </tr>\n",
              "    <tr>\n",
              "      <th>8637739</th>\n",
              "      <td>2018-09-30 9:59</td>\n",
              "      <td>1429</td>\n",
              "      <td>2018-09-30 10:09</td>\n",
              "      <td>1411</td>\n",
              "    </tr>\n",
              "  </tbody>\n",
              "</table>\n",
              "</div>"
            ],
            "text/plain": [
              "               DepartureDate DepartureID          ArrivalDate ArrivalID\n",
              "0        2017-10-01 00:00:00        1906  2017-10-01 00:37:41      1943\n",
              "1        2017-10-01 00:00:00        1433  2017-10-01 00:13:50      1416\n",
              "2        2017-10-01 00:00:01        2148  2017-10-01 00:27:43      2141\n",
              "3        2017-10-01 00:00:05         567  2017-10-01 00:16:01       505\n",
              "4        2017-10-01 00:00:06         106  2017-10-01 00:29:01       145\n",
              "8637735      2018-09-30 9:59        1358     2018-09-30 10:53      1358\n",
              "8637736      2018-09-30 9:59        1358     2018-09-30 10:54      1358\n",
              "8637737      2018-09-30 9:59         314     2018-09-30 10:07       385\n",
              "8637738      2018-09-30 9:59         339     2018-09-30 10:07       328\n",
              "8637739      2018-09-30 9:59        1429     2018-09-30 10:09      1411"
            ]
          },
          "metadata": {
            "tags": []
          },
          "execution_count": 53
        }
      ]
    },
    {
      "metadata": {
        "id": "CON6SPqSciSR",
        "colab_type": "code",
        "colab": {}
      },
      "cell_type": "code",
      "source": [
        "RD11.to_csv(\"refined_data.csv\", mode='w')"
      ],
      "execution_count": 0,
      "outputs": []
    },
    {
      "metadata": {
        "id": "CCMIk3IxciSX",
        "colab_type": "text"
      },
      "cell_type": "markdown",
      "source": [
        "# 3. 시간 데이터의 datatype이 string 이므로 datetime으로 바꿔줍니다"
      ]
    },
    {
      "metadata": {
        "id": "wQ9W6-aOciSZ",
        "colab_type": "code",
        "colab": {}
      },
      "cell_type": "code",
      "source": [
        "df = pd.read_csv('refined_data.csv')"
      ],
      "execution_count": 0,
      "outputs": []
    },
    {
      "metadata": {
        "id": "5sY490KmciSh",
        "colab_type": "code",
        "colab": {}
      },
      "cell_type": "code",
      "source": [
        "# 시간데이터가 '2018-00-00 00:00' 의 형태와 '2018-00-00 00:00:00'형태 두가지가 있어 두 경우를 나누어서 datetime 형태로 변환시켜줌\n",
        "departure = []\n",
        "arrival = []\n",
        "\n",
        "for i in range(len(df)):\n",
        "    \n",
        "    if len(df.DepartureDate[i]) < 17:\n",
        "        arrival.append(datetime.datetime.strptime(df.ArrivalDate[i],\"%Y-%m-%d %H:%M\"))\n",
        "        departure.append(datetime.datetime.strptime(df.DepartureDate[i],\"%Y-%m-%d %H:%M\"))\n",
        "        \n",
        "    elif len(df.DepartureDate[i]) == 19:\n",
        "        arrival.append(datetime.datetime.strptime(df.ArrivalDate[i],\"%Y-%m-%d %H:%M:%S\"))\n",
        "        departure.append(datetime.datetime.strptime(df.DepartureDate[i],\"%Y-%m-%d %H:%M:%S\"))\n",
        "    else:\n",
        "        pass\n"
      ],
      "execution_count": 0,
      "outputs": []
    },
    {
      "metadata": {
        "id": "Jda78cFeciSq",
        "colab_type": "code",
        "colab": {}
      },
      "cell_type": "code",
      "source": [
        "df['departure'] = departure \n",
        "df['arrival'] = arrival"
      ],
      "execution_count": 0,
      "outputs": []
    },
    {
      "metadata": {
        "id": "xJ1J6QF1ciSy",
        "colab_type": "code",
        "colab": {}
      },
      "cell_type": "code",
      "source": [
        "fin_dt = df.copy().drop(['Unnamed: 0', 'DepartureDate', 'ArrivalDate'], axis = 1)"
      ],
      "execution_count": 0,
      "outputs": []
    },
    {
      "metadata": {
        "id": "RIdViT7WciS7",
        "colab_type": "code",
        "outputId": "4a77ca24-47c4-46ac-e684-a02d1bedaf0c",
        "colab": {}
      },
      "cell_type": "code",
      "source": [
        "fin_dt.head(5).append(fin_dt.tail(5))"
      ],
      "execution_count": 0,
      "outputs": [
        {
          "output_type": "execute_result",
          "data": {
            "text/html": [
              "<div>\n",
              "<style scoped>\n",
              "    .dataframe tbody tr th:only-of-type {\n",
              "        vertical-align: middle;\n",
              "    }\n",
              "\n",
              "    .dataframe tbody tr th {\n",
              "        vertical-align: top;\n",
              "    }\n",
              "\n",
              "    .dataframe thead th {\n",
              "        text-align: right;\n",
              "    }\n",
              "</style>\n",
              "<table border=\"1\" class=\"dataframe\">\n",
              "  <thead>\n",
              "    <tr style=\"text-align: right;\">\n",
              "      <th></th>\n",
              "      <th>DepartureID</th>\n",
              "      <th>ArrivalID</th>\n",
              "      <th>departure</th>\n",
              "      <th>arrival</th>\n",
              "    </tr>\n",
              "  </thead>\n",
              "  <tbody>\n",
              "    <tr>\n",
              "      <th>0</th>\n",
              "      <td>1906</td>\n",
              "      <td>1943</td>\n",
              "      <td>2017-10-01 00:00:00</td>\n",
              "      <td>2017-10-01 00:37:41</td>\n",
              "    </tr>\n",
              "    <tr>\n",
              "      <th>1</th>\n",
              "      <td>1433</td>\n",
              "      <td>1416</td>\n",
              "      <td>2017-10-01 00:00:00</td>\n",
              "      <td>2017-10-01 00:13:50</td>\n",
              "    </tr>\n",
              "    <tr>\n",
              "      <th>2</th>\n",
              "      <td>2148</td>\n",
              "      <td>2141</td>\n",
              "      <td>2017-10-01 00:00:01</td>\n",
              "      <td>2017-10-01 00:27:43</td>\n",
              "    </tr>\n",
              "    <tr>\n",
              "      <th>3</th>\n",
              "      <td>567</td>\n",
              "      <td>505</td>\n",
              "      <td>2017-10-01 00:00:05</td>\n",
              "      <td>2017-10-01 00:16:01</td>\n",
              "    </tr>\n",
              "    <tr>\n",
              "      <th>4</th>\n",
              "      <td>106</td>\n",
              "      <td>145</td>\n",
              "      <td>2017-10-01 00:00:06</td>\n",
              "      <td>2017-10-01 00:29:01</td>\n",
              "    </tr>\n",
              "    <tr>\n",
              "      <th>8637735</th>\n",
              "      <td>1358</td>\n",
              "      <td>1358</td>\n",
              "      <td>2018-09-30 09:59:00</td>\n",
              "      <td>2018-09-30 10:53:00</td>\n",
              "    </tr>\n",
              "    <tr>\n",
              "      <th>8637736</th>\n",
              "      <td>1358</td>\n",
              "      <td>1358</td>\n",
              "      <td>2018-09-30 09:59:00</td>\n",
              "      <td>2018-09-30 10:54:00</td>\n",
              "    </tr>\n",
              "    <tr>\n",
              "      <th>8637737</th>\n",
              "      <td>314</td>\n",
              "      <td>385</td>\n",
              "      <td>2018-09-30 09:59:00</td>\n",
              "      <td>2018-09-30 10:07:00</td>\n",
              "    </tr>\n",
              "    <tr>\n",
              "      <th>8637738</th>\n",
              "      <td>339</td>\n",
              "      <td>328</td>\n",
              "      <td>2018-09-30 09:59:00</td>\n",
              "      <td>2018-09-30 10:07:00</td>\n",
              "    </tr>\n",
              "    <tr>\n",
              "      <th>8637739</th>\n",
              "      <td>1429</td>\n",
              "      <td>1411</td>\n",
              "      <td>2018-09-30 09:59:00</td>\n",
              "      <td>2018-09-30 10:09:00</td>\n",
              "    </tr>\n",
              "  </tbody>\n",
              "</table>\n",
              "</div>"
            ],
            "text/plain": [
              "         DepartureID  ArrivalID           departure             arrival\n",
              "0               1906       1943 2017-10-01 00:00:00 2017-10-01 00:37:41\n",
              "1               1433       1416 2017-10-01 00:00:00 2017-10-01 00:13:50\n",
              "2               2148       2141 2017-10-01 00:00:01 2017-10-01 00:27:43\n",
              "3                567        505 2017-10-01 00:00:05 2017-10-01 00:16:01\n",
              "4                106        145 2017-10-01 00:00:06 2017-10-01 00:29:01\n",
              "8637735         1358       1358 2018-09-30 09:59:00 2018-09-30 10:53:00\n",
              "8637736         1358       1358 2018-09-30 09:59:00 2018-09-30 10:54:00\n",
              "8637737          314        385 2018-09-30 09:59:00 2018-09-30 10:07:00\n",
              "8637738          339        328 2018-09-30 09:59:00 2018-09-30 10:07:00\n",
              "8637739         1429       1411 2018-09-30 09:59:00 2018-09-30 10:09:00"
            ]
          },
          "metadata": {
            "tags": []
          },
          "execution_count": 6
        }
      ]
    },
    {
      "metadata": {
        "id": "4E5AT6-gciTD",
        "colab_type": "code",
        "colab": {}
      },
      "cell_type": "code",
      "source": [
        "fin_dt.to_csv(\"data_format.csv\", mode='w')"
      ],
      "execution_count": 0,
      "outputs": []
    },
    {
      "metadata": {
        "id": "iFko0JYrciTJ",
        "colab_type": "code",
        "colab": {}
      },
      "cell_type": "code",
      "source": [
        "#235"
      ],
      "execution_count": 0,
      "outputs": []
    },
    {
      "metadata": {
        "id": "Bst-gWFHciTO",
        "colab_type": "text"
      },
      "cell_type": "markdown",
      "source": [
        "# 4. departure과 arrival의 dataframe으로 나누고 휴일/평일 정보 입력"
      ]
    },
    {
      "metadata": {
        "id": "PFXT2SBgaYgz",
        "colab_type": "text"
      },
      "cell_type": "markdown",
      "source": [
        ""
      ]
    },
    {
      "metadata": {
        "id": "2SW_OqNbciTQ",
        "colab_type": "text"
      },
      "cell_type": "markdown",
      "source": [
        "## *필수! 아래 df2를 로드하세요!!!!"
      ]
    },
    {
      "metadata": {
        "id": "mwiHKXywciTS",
        "colab_type": "code",
        "colab": {}
      },
      "cell_type": "code",
      "source": [
        "df2 = pd.read_csv('data_format.csv')"
      ],
      "execution_count": 0,
      "outputs": []
    },
    {
      "metadata": {
        "id": "c1xB00y3ciTX",
        "colab_type": "code",
        "colab": {}
      },
      "cell_type": "code",
      "source": [
        "df2 = df2.drop('Unnamed: 0', axis=1)"
      ],
      "execution_count": 0,
      "outputs": []
    },
    {
      "metadata": {
        "id": "fslvZq6EciTc",
        "colab_type": "code",
        "outputId": "3b9ea0c6-9692-4295-ba34-da9de6235b02",
        "colab": {}
      },
      "cell_type": "code",
      "source": [
        "df2.head(5).append(df2.tail(5))"
      ],
      "execution_count": 0,
      "outputs": [
        {
          "output_type": "execute_result",
          "data": {
            "text/html": [
              "<div>\n",
              "<style scoped>\n",
              "    .dataframe tbody tr th:only-of-type {\n",
              "        vertical-align: middle;\n",
              "    }\n",
              "\n",
              "    .dataframe tbody tr th {\n",
              "        vertical-align: top;\n",
              "    }\n",
              "\n",
              "    .dataframe thead th {\n",
              "        text-align: right;\n",
              "    }\n",
              "</style>\n",
              "<table border=\"1\" class=\"dataframe\">\n",
              "  <thead>\n",
              "    <tr style=\"text-align: right;\">\n",
              "      <th></th>\n",
              "      <th>DepartureID</th>\n",
              "      <th>ArrivalID</th>\n",
              "      <th>departure</th>\n",
              "      <th>arrival</th>\n",
              "    </tr>\n",
              "  </thead>\n",
              "  <tbody>\n",
              "    <tr>\n",
              "      <th>0</th>\n",
              "      <td>1906</td>\n",
              "      <td>1943</td>\n",
              "      <td>2017-10-01 00:00:00</td>\n",
              "      <td>2017-10-01 00:37:41</td>\n",
              "    </tr>\n",
              "    <tr>\n",
              "      <th>1</th>\n",
              "      <td>1433</td>\n",
              "      <td>1416</td>\n",
              "      <td>2017-10-01 00:00:00</td>\n",
              "      <td>2017-10-01 00:13:50</td>\n",
              "    </tr>\n",
              "    <tr>\n",
              "      <th>2</th>\n",
              "      <td>2148</td>\n",
              "      <td>2141</td>\n",
              "      <td>2017-10-01 00:00:01</td>\n",
              "      <td>2017-10-01 00:27:43</td>\n",
              "    </tr>\n",
              "    <tr>\n",
              "      <th>3</th>\n",
              "      <td>567</td>\n",
              "      <td>505</td>\n",
              "      <td>2017-10-01 00:00:05</td>\n",
              "      <td>2017-10-01 00:16:01</td>\n",
              "    </tr>\n",
              "    <tr>\n",
              "      <th>4</th>\n",
              "      <td>106</td>\n",
              "      <td>145</td>\n",
              "      <td>2017-10-01 00:00:06</td>\n",
              "      <td>2017-10-01 00:29:01</td>\n",
              "    </tr>\n",
              "    <tr>\n",
              "      <th>8637735</th>\n",
              "      <td>1358</td>\n",
              "      <td>1358</td>\n",
              "      <td>2018-09-30 09:59:00</td>\n",
              "      <td>2018-09-30 10:53:00</td>\n",
              "    </tr>\n",
              "    <tr>\n",
              "      <th>8637736</th>\n",
              "      <td>1358</td>\n",
              "      <td>1358</td>\n",
              "      <td>2018-09-30 09:59:00</td>\n",
              "      <td>2018-09-30 10:54:00</td>\n",
              "    </tr>\n",
              "    <tr>\n",
              "      <th>8637737</th>\n",
              "      <td>314</td>\n",
              "      <td>385</td>\n",
              "      <td>2018-09-30 09:59:00</td>\n",
              "      <td>2018-09-30 10:07:00</td>\n",
              "    </tr>\n",
              "    <tr>\n",
              "      <th>8637738</th>\n",
              "      <td>339</td>\n",
              "      <td>328</td>\n",
              "      <td>2018-09-30 09:59:00</td>\n",
              "      <td>2018-09-30 10:07:00</td>\n",
              "    </tr>\n",
              "    <tr>\n",
              "      <th>8637739</th>\n",
              "      <td>1429</td>\n",
              "      <td>1411</td>\n",
              "      <td>2018-09-30 09:59:00</td>\n",
              "      <td>2018-09-30 10:09:00</td>\n",
              "    </tr>\n",
              "  </tbody>\n",
              "</table>\n",
              "</div>"
            ],
            "text/plain": [
              "         DepartureID  ArrivalID            departure              arrival\n",
              "0               1906       1943  2017-10-01 00:00:00  2017-10-01 00:37:41\n",
              "1               1433       1416  2017-10-01 00:00:00  2017-10-01 00:13:50\n",
              "2               2148       2141  2017-10-01 00:00:01  2017-10-01 00:27:43\n",
              "3                567        505  2017-10-01 00:00:05  2017-10-01 00:16:01\n",
              "4                106        145  2017-10-01 00:00:06  2017-10-01 00:29:01\n",
              "8637735         1358       1358  2018-09-30 09:59:00  2018-09-30 10:53:00\n",
              "8637736         1358       1358  2018-09-30 09:59:00  2018-09-30 10:54:00\n",
              "8637737          314        385  2018-09-30 09:59:00  2018-09-30 10:07:00\n",
              "8637738          339        328  2018-09-30 09:59:00  2018-09-30 10:07:00\n",
              "8637739         1429       1411  2018-09-30 09:59:00  2018-09-30 10:09:00"
            ]
          },
          "metadata": {
            "tags": []
          },
          "execution_count": 5
        }
      ]
    },
    {
      "metadata": {
        "id": "dixlHDrcciTs",
        "colab_type": "code",
        "colab": {}
      },
      "cell_type": "code",
      "source": [
        "df2['arrival'] = pd.to_datetime(df2['arrival'])\n",
        "df2['departure'] = pd.to_datetime(df2['departure'])"
      ],
      "execution_count": 0,
      "outputs": []
    },
    {
      "metadata": {
        "id": "wAWnGVJcciT3",
        "colab_type": "code",
        "colab": {}
      },
      "cell_type": "code",
      "source": [
        "df2['depweekday'] = df2['departure'].dt.weekday\n",
        "df2['arrweekday'] = df2['arrival'].dt.weekday"
      ],
      "execution_count": 0,
      "outputs": []
    },
    {
      "metadata": {
        "id": "OEXdAQP7ciT_",
        "colab_type": "code",
        "colab": {}
      },
      "cell_type": "code",
      "source": [
        "df2['depweekend'] = df2['depweekday']>=5\n",
        "df2['arrweekend'] = df2['arrweekday']>=5"
      ],
      "execution_count": 0,
      "outputs": []
    },
    {
      "metadata": {
        "id": "_0eCTiV_ciUL",
        "colab_type": "code",
        "colab": {}
      },
      "cell_type": "code",
      "source": [
        "df2['depholiday'] = \\\n",
        "((df2['departure'].dt.date == datetime.date(2017, 10, 2))|\\\n",
        "(df2['departure'].dt.date == datetime.date(2017, 10, 3))|\\\n",
        "(df2['departure'].dt.date == datetime.date(2017, 10, 4))|\\\n",
        "(df2['departure'].dt.date == datetime.date(2017, 10, 5))|\\\n",
        "(df2['departure'].dt.date == datetime.date(2017, 10, 6))|\\\n",
        "(df2['departure'].dt.date == datetime.date(2017, 10, 9))|\\\n",
        "(df2['departure'].dt.date == datetime.date(2017, 12, 25))|\\\n",
        "(df2['departure'].dt.date == datetime.date(2018, 1, 1))|\\\n",
        "(df2['departure'].dt.date == datetime.date(2018, 2, 15))|\\\n",
        "(df2['departure'].dt.date == datetime.date(2018, 2, 16))|\\\n",
        "(df2['departure'].dt.date == datetime.date(2018, 2, 17))|\\\n",
        "(df2['departure'].dt.date == datetime.date(2018, 3, 1))|\\\n",
        "(df2['departure'].dt.date == datetime.date(2018, 5, 5))|\\\n",
        "(df2['departure'].dt.date == datetime.date(2018, 5, 7))|\\\n",
        "(df2['departure'].dt.date == datetime.date(2018, 5, 22))|\\\n",
        "(df2['departure'].dt.date == datetime.date(2018, 6, 6))|\\\n",
        "(df2['departure'].dt.date == datetime.date(2018, 6, 13))|\\\n",
        "(df2['departure'].dt.date == datetime.date(2018, 8, 15))|\\\n",
        "(df2['departure'].dt.date == datetime.date(2018, 9, 23))|\\\n",
        "(df2['departure'].dt.date == datetime.date(2018, 9, 24))|\\\n",
        "(df2['departure'].dt.date == datetime.date(2018, 9, 25))|\\\n",
        "(df2['departure'].dt.date == datetime.date(2018, 9, 26)))\n",
        "\n",
        "df2['arrholiday'] = \\\n",
        "((df2['arrival'].dt.date == datetime.date(2017, 10, 2))|\\\n",
        "(df2['arrival'].dt.date == datetime.date(2017, 10, 3))|\\\n",
        "(df2['arrival'].dt.date == datetime.date(2017, 10, 4))|\\\n",
        "(df2['arrival'].dt.date == datetime.date(2017, 10, 5))|\\\n",
        "(df2['arrival'].dt.date == datetime.date(2017, 10, 6))|\\\n",
        "(df2['arrival'].dt.date == datetime.date(2017, 10, 9))|\\\n",
        "(df2['arrival'].dt.date == datetime.date(2017, 12, 25))|\\\n",
        "(df2['arrival'].dt.date == datetime.date(2018, 1, 1))|\\\n",
        "(df2['arrival'].dt.date == datetime.date(2018, 2, 15))|\\\n",
        "(df2['arrival'].dt.date == datetime.date(2018, 2, 16))|\\\n",
        "(df2['arrival'].dt.date == datetime.date(2018, 2, 17))|\\\n",
        "(df2['arrival'].dt.date == datetime.date(2018, 3, 1))|\\\n",
        "(df2['arrival'].dt.date == datetime.date(2018, 5, 5))|\\\n",
        "(df2['arrival'].dt.date == datetime.date(2018, 5, 7))|\\\n",
        "(df2['arrival'].dt.date == datetime.date(2018, 5, 22))|\\\n",
        "(df2['arrival'].dt.date == datetime.date(2018, 6, 6))|\\\n",
        "(df2['arrival'].dt.date == datetime.date(2018, 6, 13))|\\\n",
        "(df2['arrival'].dt.date == datetime.date(2018, 8, 15))|\\\n",
        "(df2['arrival'].dt.date == datetime.date(2018, 9, 23))|\\\n",
        "(df2['arrival'].dt.date == datetime.date(2018, 9, 24))|\\\n",
        "(df2['arrival'].dt.date == datetime.date(2018, 9, 25))|\\\n",
        "(df2['arrival'].dt.date == datetime.date(2018, 9, 26)))\n"
      ],
      "execution_count": 0,
      "outputs": []
    },
    {
      "metadata": {
        "id": "RZWmnfmQciUU",
        "colab_type": "code",
        "outputId": "012fcfe4-c0d9-4a95-fa64-977dc92bf6bb",
        "colab": {}
      },
      "cell_type": "code",
      "source": [
        "df2.head(5).append(df2.tail(5))"
      ],
      "execution_count": 0,
      "outputs": [
        {
          "output_type": "execute_result",
          "data": {
            "text/html": [
              "<div>\n",
              "<style scoped>\n",
              "    .dataframe tbody tr th:only-of-type {\n",
              "        vertical-align: middle;\n",
              "    }\n",
              "\n",
              "    .dataframe tbody tr th {\n",
              "        vertical-align: top;\n",
              "    }\n",
              "\n",
              "    .dataframe thead th {\n",
              "        text-align: right;\n",
              "    }\n",
              "</style>\n",
              "<table border=\"1\" class=\"dataframe\">\n",
              "  <thead>\n",
              "    <tr style=\"text-align: right;\">\n",
              "      <th></th>\n",
              "      <th>DepartureID</th>\n",
              "      <th>ArrivalID</th>\n",
              "      <th>departure</th>\n",
              "      <th>arrival</th>\n",
              "      <th>depweekday</th>\n",
              "      <th>arrweekday</th>\n",
              "      <th>depweekend</th>\n",
              "      <th>arrweekend</th>\n",
              "      <th>depholiday</th>\n",
              "      <th>arrholiday</th>\n",
              "    </tr>\n",
              "  </thead>\n",
              "  <tbody>\n",
              "    <tr>\n",
              "      <th>0</th>\n",
              "      <td>1906</td>\n",
              "      <td>1943</td>\n",
              "      <td>2017-10-01 00:00:00</td>\n",
              "      <td>2017-10-01 00:37:41</td>\n",
              "      <td>6</td>\n",
              "      <td>6</td>\n",
              "      <td>True</td>\n",
              "      <td>True</td>\n",
              "      <td>False</td>\n",
              "      <td>False</td>\n",
              "    </tr>\n",
              "    <tr>\n",
              "      <th>1</th>\n",
              "      <td>1433</td>\n",
              "      <td>1416</td>\n",
              "      <td>2017-10-01 00:00:00</td>\n",
              "      <td>2017-10-01 00:13:50</td>\n",
              "      <td>6</td>\n",
              "      <td>6</td>\n",
              "      <td>True</td>\n",
              "      <td>True</td>\n",
              "      <td>False</td>\n",
              "      <td>False</td>\n",
              "    </tr>\n",
              "    <tr>\n",
              "      <th>2</th>\n",
              "      <td>2148</td>\n",
              "      <td>2141</td>\n",
              "      <td>2017-10-01 00:00:01</td>\n",
              "      <td>2017-10-01 00:27:43</td>\n",
              "      <td>6</td>\n",
              "      <td>6</td>\n",
              "      <td>True</td>\n",
              "      <td>True</td>\n",
              "      <td>False</td>\n",
              "      <td>False</td>\n",
              "    </tr>\n",
              "    <tr>\n",
              "      <th>3</th>\n",
              "      <td>567</td>\n",
              "      <td>505</td>\n",
              "      <td>2017-10-01 00:00:05</td>\n",
              "      <td>2017-10-01 00:16:01</td>\n",
              "      <td>6</td>\n",
              "      <td>6</td>\n",
              "      <td>True</td>\n",
              "      <td>True</td>\n",
              "      <td>False</td>\n",
              "      <td>False</td>\n",
              "    </tr>\n",
              "    <tr>\n",
              "      <th>4</th>\n",
              "      <td>106</td>\n",
              "      <td>145</td>\n",
              "      <td>2017-10-01 00:00:06</td>\n",
              "      <td>2017-10-01 00:29:01</td>\n",
              "      <td>6</td>\n",
              "      <td>6</td>\n",
              "      <td>True</td>\n",
              "      <td>True</td>\n",
              "      <td>False</td>\n",
              "      <td>False</td>\n",
              "    </tr>\n",
              "    <tr>\n",
              "      <th>8637735</th>\n",
              "      <td>1358</td>\n",
              "      <td>1358</td>\n",
              "      <td>2018-09-30 09:59:00</td>\n",
              "      <td>2018-09-30 10:53:00</td>\n",
              "      <td>6</td>\n",
              "      <td>6</td>\n",
              "      <td>True</td>\n",
              "      <td>True</td>\n",
              "      <td>False</td>\n",
              "      <td>False</td>\n",
              "    </tr>\n",
              "    <tr>\n",
              "      <th>8637736</th>\n",
              "      <td>1358</td>\n",
              "      <td>1358</td>\n",
              "      <td>2018-09-30 09:59:00</td>\n",
              "      <td>2018-09-30 10:54:00</td>\n",
              "      <td>6</td>\n",
              "      <td>6</td>\n",
              "      <td>True</td>\n",
              "      <td>True</td>\n",
              "      <td>False</td>\n",
              "      <td>False</td>\n",
              "    </tr>\n",
              "    <tr>\n",
              "      <th>8637737</th>\n",
              "      <td>314</td>\n",
              "      <td>385</td>\n",
              "      <td>2018-09-30 09:59:00</td>\n",
              "      <td>2018-09-30 10:07:00</td>\n",
              "      <td>6</td>\n",
              "      <td>6</td>\n",
              "      <td>True</td>\n",
              "      <td>True</td>\n",
              "      <td>False</td>\n",
              "      <td>False</td>\n",
              "    </tr>\n",
              "    <tr>\n",
              "      <th>8637738</th>\n",
              "      <td>339</td>\n",
              "      <td>328</td>\n",
              "      <td>2018-09-30 09:59:00</td>\n",
              "      <td>2018-09-30 10:07:00</td>\n",
              "      <td>6</td>\n",
              "      <td>6</td>\n",
              "      <td>True</td>\n",
              "      <td>True</td>\n",
              "      <td>False</td>\n",
              "      <td>False</td>\n",
              "    </tr>\n",
              "    <tr>\n",
              "      <th>8637739</th>\n",
              "      <td>1429</td>\n",
              "      <td>1411</td>\n",
              "      <td>2018-09-30 09:59:00</td>\n",
              "      <td>2018-09-30 10:09:00</td>\n",
              "      <td>6</td>\n",
              "      <td>6</td>\n",
              "      <td>True</td>\n",
              "      <td>True</td>\n",
              "      <td>False</td>\n",
              "      <td>False</td>\n",
              "    </tr>\n",
              "  </tbody>\n",
              "</table>\n",
              "</div>"
            ],
            "text/plain": [
              "         DepartureID  ArrivalID           departure             arrival  \\\n",
              "0               1906       1943 2017-10-01 00:00:00 2017-10-01 00:37:41   \n",
              "1               1433       1416 2017-10-01 00:00:00 2017-10-01 00:13:50   \n",
              "2               2148       2141 2017-10-01 00:00:01 2017-10-01 00:27:43   \n",
              "3                567        505 2017-10-01 00:00:05 2017-10-01 00:16:01   \n",
              "4                106        145 2017-10-01 00:00:06 2017-10-01 00:29:01   \n",
              "8637735         1358       1358 2018-09-30 09:59:00 2018-09-30 10:53:00   \n",
              "8637736         1358       1358 2018-09-30 09:59:00 2018-09-30 10:54:00   \n",
              "8637737          314        385 2018-09-30 09:59:00 2018-09-30 10:07:00   \n",
              "8637738          339        328 2018-09-30 09:59:00 2018-09-30 10:07:00   \n",
              "8637739         1429       1411 2018-09-30 09:59:00 2018-09-30 10:09:00   \n",
              "\n",
              "         depweekday  arrweekday  depweekend  arrweekend  depholiday  \\\n",
              "0                 6           6        True        True       False   \n",
              "1                 6           6        True        True       False   \n",
              "2                 6           6        True        True       False   \n",
              "3                 6           6        True        True       False   \n",
              "4                 6           6        True        True       False   \n",
              "8637735           6           6        True        True       False   \n",
              "8637736           6           6        True        True       False   \n",
              "8637737           6           6        True        True       False   \n",
              "8637738           6           6        True        True       False   \n",
              "8637739           6           6        True        True       False   \n",
              "\n",
              "         arrholiday  \n",
              "0             False  \n",
              "1             False  \n",
              "2             False  \n",
              "3             False  \n",
              "4             False  \n",
              "8637735       False  \n",
              "8637736       False  \n",
              "8637737       False  \n",
              "8637738       False  \n",
              "8637739       False  "
            ]
          },
          "metadata": {
            "tags": []
          },
          "execution_count": 21
        }
      ]
    },
    {
      "metadata": {
        "id": "Wb_PUpa0ciUc",
        "colab_type": "code",
        "colab": {}
      },
      "cell_type": "code",
      "source": [
        "df_nred_dep = (df2[(df2['depholiday']==0) & (df2['depweekend']==0)])\n",
        "df_nred_arr = (df2[(df2['arrholiday']==0) & (df2['arrweekend']==0)])"
      ],
      "execution_count": 0,
      "outputs": []
    },
    {
      "metadata": {
        "id": "JCoEJt4wciUp",
        "colab_type": "code",
        "colab": {}
      },
      "cell_type": "code",
      "source": [
        "df_nred_dep = df_nred_dep[['DepartureID','departure','depweekday','depweekend','depholiday']]\n",
        "df_nred_arr = df_nred_arr[['ArrivalID', 'arrival', 'arrweekday', 'arrweekend', 'arrholiday']]"
      ],
      "execution_count": 0,
      "outputs": []
    },
    {
      "metadata": {
        "id": "wLGp7HG9ciUy",
        "colab_type": "code",
        "outputId": "ce812469-0acb-49fe-c2e1-11f142dae585",
        "colab": {}
      },
      "cell_type": "code",
      "source": [
        "df_nred_dep.head().append(df_nred_dep.tail())"
      ],
      "execution_count": 0,
      "outputs": [
        {
          "output_type": "execute_result",
          "data": {
            "text/html": [
              "<div>\n",
              "<style scoped>\n",
              "    .dataframe tbody tr th:only-of-type {\n",
              "        vertical-align: middle;\n",
              "    }\n",
              "\n",
              "    .dataframe tbody tr th {\n",
              "        vertical-align: top;\n",
              "    }\n",
              "\n",
              "    .dataframe thead th {\n",
              "        text-align: right;\n",
              "    }\n",
              "</style>\n",
              "<table border=\"1\" class=\"dataframe\">\n",
              "  <thead>\n",
              "    <tr style=\"text-align: right;\">\n",
              "      <th></th>\n",
              "      <th>DepartureID</th>\n",
              "      <th>departure</th>\n",
              "      <th>depweekday</th>\n",
              "      <th>depweekend</th>\n",
              "      <th>depholiday</th>\n",
              "    </tr>\n",
              "  </thead>\n",
              "  <tbody>\n",
              "    <tr>\n",
              "      <th>240256</th>\n",
              "      <td>320</td>\n",
              "      <td>2017-10-10 00:00:01</td>\n",
              "      <td>1</td>\n",
              "      <td>False</td>\n",
              "      <td>False</td>\n",
              "    </tr>\n",
              "    <tr>\n",
              "      <th>240257</th>\n",
              "      <td>579</td>\n",
              "      <td>2017-10-10 00:00:03</td>\n",
              "      <td>1</td>\n",
              "      <td>False</td>\n",
              "      <td>False</td>\n",
              "    </tr>\n",
              "    <tr>\n",
              "      <th>240258</th>\n",
              "      <td>1606</td>\n",
              "      <td>2017-10-10 00:00:05</td>\n",
              "      <td>1</td>\n",
              "      <td>False</td>\n",
              "      <td>False</td>\n",
              "    </tr>\n",
              "    <tr>\n",
              "      <th>240259</th>\n",
              "      <td>1601</td>\n",
              "      <td>2017-10-10 00:00:06</td>\n",
              "      <td>1</td>\n",
              "      <td>False</td>\n",
              "      <td>False</td>\n",
              "    </tr>\n",
              "    <tr>\n",
              "      <th>240260</th>\n",
              "      <td>184</td>\n",
              "      <td>2017-10-10 00:00:15</td>\n",
              "      <td>1</td>\n",
              "      <td>False</td>\n",
              "      <td>False</td>\n",
              "    </tr>\n",
              "    <tr>\n",
              "      <th>8518942</th>\n",
              "      <td>943</td>\n",
              "      <td>2018-09-28 09:59:00</td>\n",
              "      <td>4</td>\n",
              "      <td>False</td>\n",
              "      <td>False</td>\n",
              "    </tr>\n",
              "    <tr>\n",
              "      <th>8518943</th>\n",
              "      <td>108</td>\n",
              "      <td>2018-09-28 09:59:00</td>\n",
              "      <td>4</td>\n",
              "      <td>False</td>\n",
              "      <td>False</td>\n",
              "    </tr>\n",
              "    <tr>\n",
              "      <th>8518944</th>\n",
              "      <td>301</td>\n",
              "      <td>2018-09-28 09:59:00</td>\n",
              "      <td>4</td>\n",
              "      <td>False</td>\n",
              "      <td>False</td>\n",
              "    </tr>\n",
              "    <tr>\n",
              "      <th>8518945</th>\n",
              "      <td>1668</td>\n",
              "      <td>2018-09-28 09:59:00</td>\n",
              "      <td>4</td>\n",
              "      <td>False</td>\n",
              "      <td>False</td>\n",
              "    </tr>\n",
              "    <tr>\n",
              "      <th>8518946</th>\n",
              "      <td>1348</td>\n",
              "      <td>2018-09-28 09:59:00</td>\n",
              "      <td>4</td>\n",
              "      <td>False</td>\n",
              "      <td>False</td>\n",
              "    </tr>\n",
              "  </tbody>\n",
              "</table>\n",
              "</div>"
            ],
            "text/plain": [
              "         DepartureID           departure  depweekday  depweekend  depholiday\n",
              "240256           320 2017-10-10 00:00:01           1       False       False\n",
              "240257           579 2017-10-10 00:00:03           1       False       False\n",
              "240258          1606 2017-10-10 00:00:05           1       False       False\n",
              "240259          1601 2017-10-10 00:00:06           1       False       False\n",
              "240260           184 2017-10-10 00:00:15           1       False       False\n",
              "8518942          943 2018-09-28 09:59:00           4       False       False\n",
              "8518943          108 2018-09-28 09:59:00           4       False       False\n",
              "8518944          301 2018-09-28 09:59:00           4       False       False\n",
              "8518945         1668 2018-09-28 09:59:00           4       False       False\n",
              "8518946         1348 2018-09-28 09:59:00           4       False       False"
            ]
          },
          "metadata": {
            "tags": []
          },
          "execution_count": 24
        }
      ]
    },
    {
      "metadata": {
        "id": "o7YYXLMXciU6",
        "colab_type": "code",
        "colab": {}
      },
      "cell_type": "code",
      "source": [
        "df_red_dep = (df2[(df2['depholiday']==1) | (df2['depweekend']==1)])\n",
        "df_red_arr = (df2[(df2['arrholiday']==1) | (df2['arrweekend']==1)])"
      ],
      "execution_count": 0,
      "outputs": []
    },
    {
      "metadata": {
        "id": "cPYZfsDyciU_",
        "colab_type": "code",
        "colab": {}
      },
      "cell_type": "code",
      "source": [
        "df_red_dep = df_red_dep[['DepartureID','departure','depweekday','depweekend','depholiday']]\n",
        "df_red_arr = df_red_arr[['ArrivalID', 'arrival', 'arrweekday', 'arrweekend', 'arrholiday']]"
      ],
      "execution_count": 0,
      "outputs": []
    },
    {
      "metadata": {
        "id": "OTh4pkyaciVG",
        "colab_type": "code",
        "outputId": "1c3b8a2e-a8a2-4f04-b327-19bd1e0b0e5d",
        "colab": {}
      },
      "cell_type": "code",
      "source": [
        "df_red_dep.head().append(df_red_dep.tail())"
      ],
      "execution_count": 0,
      "outputs": [
        {
          "output_type": "execute_result",
          "data": {
            "text/html": [
              "<div>\n",
              "<style scoped>\n",
              "    .dataframe tbody tr th:only-of-type {\n",
              "        vertical-align: middle;\n",
              "    }\n",
              "\n",
              "    .dataframe tbody tr th {\n",
              "        vertical-align: top;\n",
              "    }\n",
              "\n",
              "    .dataframe thead th {\n",
              "        text-align: right;\n",
              "    }\n",
              "</style>\n",
              "<table border=\"1\" class=\"dataframe\">\n",
              "  <thead>\n",
              "    <tr style=\"text-align: right;\">\n",
              "      <th></th>\n",
              "      <th>DepartureID</th>\n",
              "      <th>departure</th>\n",
              "      <th>depweekday</th>\n",
              "      <th>depweekend</th>\n",
              "      <th>depholiday</th>\n",
              "    </tr>\n",
              "  </thead>\n",
              "  <tbody>\n",
              "    <tr>\n",
              "      <th>0</th>\n",
              "      <td>1906</td>\n",
              "      <td>2017-10-01 00:00:00</td>\n",
              "      <td>6</td>\n",
              "      <td>True</td>\n",
              "      <td>False</td>\n",
              "    </tr>\n",
              "    <tr>\n",
              "      <th>1</th>\n",
              "      <td>1433</td>\n",
              "      <td>2017-10-01 00:00:00</td>\n",
              "      <td>6</td>\n",
              "      <td>True</td>\n",
              "      <td>False</td>\n",
              "    </tr>\n",
              "    <tr>\n",
              "      <th>2</th>\n",
              "      <td>2148</td>\n",
              "      <td>2017-10-01 00:00:01</td>\n",
              "      <td>6</td>\n",
              "      <td>True</td>\n",
              "      <td>False</td>\n",
              "    </tr>\n",
              "    <tr>\n",
              "      <th>3</th>\n",
              "      <td>567</td>\n",
              "      <td>2017-10-01 00:00:05</td>\n",
              "      <td>6</td>\n",
              "      <td>True</td>\n",
              "      <td>False</td>\n",
              "    </tr>\n",
              "    <tr>\n",
              "      <th>4</th>\n",
              "      <td>106</td>\n",
              "      <td>2017-10-01 00:00:06</td>\n",
              "      <td>6</td>\n",
              "      <td>True</td>\n",
              "      <td>False</td>\n",
              "    </tr>\n",
              "    <tr>\n",
              "      <th>8637735</th>\n",
              "      <td>1358</td>\n",
              "      <td>2018-09-30 09:59:00</td>\n",
              "      <td>6</td>\n",
              "      <td>True</td>\n",
              "      <td>False</td>\n",
              "    </tr>\n",
              "    <tr>\n",
              "      <th>8637736</th>\n",
              "      <td>1358</td>\n",
              "      <td>2018-09-30 09:59:00</td>\n",
              "      <td>6</td>\n",
              "      <td>True</td>\n",
              "      <td>False</td>\n",
              "    </tr>\n",
              "    <tr>\n",
              "      <th>8637737</th>\n",
              "      <td>314</td>\n",
              "      <td>2018-09-30 09:59:00</td>\n",
              "      <td>6</td>\n",
              "      <td>True</td>\n",
              "      <td>False</td>\n",
              "    </tr>\n",
              "    <tr>\n",
              "      <th>8637738</th>\n",
              "      <td>339</td>\n",
              "      <td>2018-09-30 09:59:00</td>\n",
              "      <td>6</td>\n",
              "      <td>True</td>\n",
              "      <td>False</td>\n",
              "    </tr>\n",
              "    <tr>\n",
              "      <th>8637739</th>\n",
              "      <td>1429</td>\n",
              "      <td>2018-09-30 09:59:00</td>\n",
              "      <td>6</td>\n",
              "      <td>True</td>\n",
              "      <td>False</td>\n",
              "    </tr>\n",
              "  </tbody>\n",
              "</table>\n",
              "</div>"
            ],
            "text/plain": [
              "         DepartureID           departure  depweekday  depweekend  depholiday\n",
              "0               1906 2017-10-01 00:00:00           6        True       False\n",
              "1               1433 2017-10-01 00:00:00           6        True       False\n",
              "2               2148 2017-10-01 00:00:01           6        True       False\n",
              "3                567 2017-10-01 00:00:05           6        True       False\n",
              "4                106 2017-10-01 00:00:06           6        True       False\n",
              "8637735         1358 2018-09-30 09:59:00           6        True       False\n",
              "8637736         1358 2018-09-30 09:59:00           6        True       False\n",
              "8637737          314 2018-09-30 09:59:00           6        True       False\n",
              "8637738          339 2018-09-30 09:59:00           6        True       False\n",
              "8637739         1429 2018-09-30 09:59:00           6        True       False"
            ]
          },
          "metadata": {
            "tags": []
          },
          "execution_count": 27
        }
      ]
    },
    {
      "metadata": {
        "id": "MFyD9UHNciVM",
        "colab_type": "text"
      },
      "cell_type": "markdown",
      "source": [
        "# 5. 많이 사용되는 시간대 확인"
      ]
    },
    {
      "metadata": {
        "id": "oXcp82OxciVO",
        "colab_type": "text"
      },
      "cell_type": "markdown",
      "source": [
        "### (1) 일일 이용량 - 1년 그래프 (x ~ 날짜 / y ~ 이용량)\n"
      ]
    },
    {
      "metadata": {
        "id": "FkLnNslbciVW",
        "colab_type": "code",
        "outputId": "a1f1a59a-5e23-48d9-a283-99c8b4076232",
        "colab": {}
      },
      "cell_type": "code",
      "source": [
        "dd4 = df2['departure'].dt.date.value_counts()\n",
        "dd4 = dd4.sort_index(ascending=1)\n",
        "dd4.head().append(dd4.tail())"
      ],
      "execution_count": 0,
      "outputs": [
        {
          "output_type": "execute_result",
          "data": {
            "text/plain": [
              "2017-10-01    10529\n",
              "2017-10-02    27980\n",
              "2017-10-03    22077\n",
              "2017-10-04    19417\n",
              "2017-10-05    26262\n",
              "2018-09-26    57289\n",
              "2018-09-27    57705\n",
              "2018-09-28    59107\n",
              "2018-09-29    63399\n",
              "2018-09-30    55394\n",
              "Name: departure, dtype: int64"
            ]
          },
          "metadata": {
            "tags": []
          },
          "execution_count": 28
        }
      ]
    },
    {
      "metadata": {
        "id": "iAHDc6fAciVh",
        "colab_type": "code",
        "outputId": "03e63173-aa68-4652-b49a-6991702561df",
        "colab": {}
      },
      "cell_type": "code",
      "source": [
        "%matplotlib inline\n",
        "with plt.style.context('ggplot'):\n",
        "    fig, ax = plt.subplots(figsize=(15,5))\n",
        "    dd4.plot(ax=ax)\n",
        "    \n",
        "    plt.ylabel('usage')\n",
        "    plt.title('The number of DDAREUNGYI departures by day')  "
      ],
      "execution_count": 0,
      "outputs": [
        {
          "output_type": "display_data",
          "data": {
            "image/png": "[encoded data removed]",
            "text/plain": [
              "<Figure size 1080x360 with 1 Axes>"
            ]
          },
          "metadata": {
            "tags": []
          }
        }
      ]
    },
    {
      "metadata": {
        "id": "xUMVJeapciVm",
        "colab_type": "text"
      },
      "cell_type": "markdown",
      "source": [
        "### (2) 연간 요일 평균 그래프 (x ~ 요일 / y ~ 이용량)"
      ]
    },
    {
      "metadata": {
        "id": "DUwlgXNiciVo",
        "colab_type": "code",
        "outputId": "dd38eb39-2de7-4444-e110-869ad23f5b48",
        "colab": {}
      },
      "cell_type": "code",
      "source": [
        "df3 = df2[(df2['depholiday']==0)]\n",
        "df4 = df2[(df2['depholiday']==1)&(df2['depweekend']==1)]\n",
        "df5 = df3.append(df4)\n",
        "df5.head()"
      ],
      "execution_count": 0,
      "outputs": [
        {
          "output_type": "execute_result",
          "data": {
            "text/html": [
              "<div>\n",
              "<style scoped>\n",
              "    .dataframe tbody tr th:only-of-type {\n",
              "        vertical-align: middle;\n",
              "    }\n",
              "\n",
              "    .dataframe tbody tr th {\n",
              "        vertical-align: top;\n",
              "    }\n",
              "\n",
              "    .dataframe thead th {\n",
              "        text-align: right;\n",
              "    }\n",
              "</style>\n",
              "<table border=\"1\" class=\"dataframe\">\n",
              "  <thead>\n",
              "    <tr style=\"text-align: right;\">\n",
              "      <th></th>\n",
              "      <th>DepartureID</th>\n",
              "      <th>ArrivalID</th>\n",
              "      <th>departure</th>\n",
              "      <th>arrival</th>\n",
              "      <th>depweekday</th>\n",
              "      <th>arrweekday</th>\n",
              "      <th>depweekend</th>\n",
              "      <th>arrweekend</th>\n",
              "      <th>depholiday</th>\n",
              "      <th>arrholiday</th>\n",
              "    </tr>\n",
              "  </thead>\n",
              "  <tbody>\n",
              "    <tr>\n",
              "      <th>0</th>\n",
              "      <td>1906</td>\n",
              "      <td>1943</td>\n",
              "      <td>2017-10-01 00:00:00</td>\n",
              "      <td>2017-10-01 00:37:41</td>\n",
              "      <td>6</td>\n",
              "      <td>6</td>\n",
              "      <td>True</td>\n",
              "      <td>True</td>\n",
              "      <td>False</td>\n",
              "      <td>False</td>\n",
              "    </tr>\n",
              "    <tr>\n",
              "      <th>1</th>\n",
              "      <td>1433</td>\n",
              "      <td>1416</td>\n",
              "      <td>2017-10-01 00:00:00</td>\n",
              "      <td>2017-10-01 00:13:50</td>\n",
              "      <td>6</td>\n",
              "      <td>6</td>\n",
              "      <td>True</td>\n",
              "      <td>True</td>\n",
              "      <td>False</td>\n",
              "      <td>False</td>\n",
              "    </tr>\n",
              "    <tr>\n",
              "      <th>2</th>\n",
              "      <td>2148</td>\n",
              "      <td>2141</td>\n",
              "      <td>2017-10-01 00:00:01</td>\n",
              "      <td>2017-10-01 00:27:43</td>\n",
              "      <td>6</td>\n",
              "      <td>6</td>\n",
              "      <td>True</td>\n",
              "      <td>True</td>\n",
              "      <td>False</td>\n",
              "      <td>False</td>\n",
              "    </tr>\n",
              "    <tr>\n",
              "      <th>3</th>\n",
              "      <td>567</td>\n",
              "      <td>505</td>\n",
              "      <td>2017-10-01 00:00:05</td>\n",
              "      <td>2017-10-01 00:16:01</td>\n",
              "      <td>6</td>\n",
              "      <td>6</td>\n",
              "      <td>True</td>\n",
              "      <td>True</td>\n",
              "      <td>False</td>\n",
              "      <td>False</td>\n",
              "    </tr>\n",
              "    <tr>\n",
              "      <th>4</th>\n",
              "      <td>106</td>\n",
              "      <td>145</td>\n",
              "      <td>2017-10-01 00:00:06</td>\n",
              "      <td>2017-10-01 00:29:01</td>\n",
              "      <td>6</td>\n",
              "      <td>6</td>\n",
              "      <td>True</td>\n",
              "      <td>True</td>\n",
              "      <td>False</td>\n",
              "      <td>False</td>\n",
              "    </tr>\n",
              "  </tbody>\n",
              "</table>\n",
              "</div>"
            ],
            "text/plain": [
              "   DepartureID  ArrivalID           departure             arrival  depweekday  \\\n",
              "0         1906       1943 2017-10-01 00:00:00 2017-10-01 00:37:41           6   \n",
              "1         1433       1416 2017-10-01 00:00:00 2017-10-01 00:13:50           6   \n",
              "2         2148       2141 2017-10-01 00:00:01 2017-10-01 00:27:43           6   \n",
              "3          567        505 2017-10-01 00:00:05 2017-10-01 00:16:01           6   \n",
              "4          106        145 2017-10-01 00:00:06 2017-10-01 00:29:01           6   \n",
              "\n",
              "   arrweekday  depweekend  arrweekend  depholiday  arrholiday  \n",
              "0           6        True        True       False       False  \n",
              "1           6        True        True       False       False  \n",
              "2           6        True        True       False       False  \n",
              "3           6        True        True       False       False  \n",
              "4           6        True        True       False       False  "
            ]
          },
          "metadata": {
            "tags": []
          },
          "execution_count": 30
        }
      ]
    },
    {
      "metadata": {
        "id": "iqQImCCvciVz",
        "colab_type": "code",
        "outputId": "d47ec334-c9d0-4422-8ccc-fe8a5878a6cd",
        "colab": {}
      },
      "cell_type": "code",
      "source": [
        "dd3 = pd.DataFrame(df5['departure'].dt.weekday.value_counts())\n",
        "dd3 = dd3.sort_index(ascending=1)\n",
        "dd3 # (0:월, 1:화, 2:수, 3:목, 4:금, 5:토, 6:일)"
      ],
      "execution_count": 0,
      "outputs": [
        {
          "output_type": "execute_result",
          "data": {
            "text/html": [
              "<div>\n",
              "<style scoped>\n",
              "    .dataframe tbody tr th:only-of-type {\n",
              "        vertical-align: middle;\n",
              "    }\n",
              "\n",
              "    .dataframe tbody tr th {\n",
              "        vertical-align: top;\n",
              "    }\n",
              "\n",
              "    .dataframe thead th {\n",
              "        text-align: right;\n",
              "    }\n",
              "</style>\n",
              "<table border=\"1\" class=\"dataframe\">\n",
              "  <thead>\n",
              "    <tr style=\"text-align: right;\">\n",
              "      <th></th>\n",
              "      <th>departure</th>\n",
              "    </tr>\n",
              "  </thead>\n",
              "  <tbody>\n",
              "    <tr>\n",
              "      <th>0</th>\n",
              "      <td>1039213</td>\n",
              "    </tr>\n",
              "    <tr>\n",
              "      <th>1</th>\n",
              "      <td>1179932</td>\n",
              "    </tr>\n",
              "    <tr>\n",
              "      <th>2</th>\n",
              "      <td>1061574</td>\n",
              "    </tr>\n",
              "    <tr>\n",
              "      <th>3</th>\n",
              "      <td>1172303</td>\n",
              "    </tr>\n",
              "    <tr>\n",
              "      <th>4</th>\n",
              "      <td>1302468</td>\n",
              "    </tr>\n",
              "    <tr>\n",
              "      <th>5</th>\n",
              "      <td>1281419</td>\n",
              "    </tr>\n",
              "    <tr>\n",
              "      <th>6</th>\n",
              "      <td>1147031</td>\n",
              "    </tr>\n",
              "  </tbody>\n",
              "</table>\n",
              "</div>"
            ],
            "text/plain": [
              "   departure\n",
              "0    1039213\n",
              "1    1179932\n",
              "2    1061574\n",
              "3    1172303\n",
              "4    1302468\n",
              "5    1281419\n",
              "6    1147031"
            ]
          },
          "metadata": {
            "tags": []
          },
          "execution_count": 31
        }
      ]
    },
    {
      "metadata": {
        "id": "b5gZuZkEciWC",
        "colab_type": "code",
        "outputId": "ced8d2ef-04a1-40c7-8fa0-46e63aec7fb8",
        "colab": {}
      },
      "cell_type": "code",
      "source": [
        "%matplotlib inline\n",
        "with plt.style.context('ggplot'):\n",
        "    plt.figure(figsize=(10,5))\n",
        "    plt.bar(x = dd3.index, height = dd3.departure, label='the day of the week', color = 'green', width = 0.5)\n",
        "    a = ['mon', 'tue', 'wed', 'thu', 'fri', 'sat', 'sun']\n",
        "    plt.xticks(dd3.index, a)\n",
        "    plt.xlabel('the day of the week')\n",
        "    plt.ylabel('usage')\n",
        "    #plt.legend()\n",
        "    plt.title('The number of DDAREUNGYI departures by day of the week')    \n",
        "    plt.ylim(900000, 1400000)\n",
        "    plt.show()"
      ],
      "execution_count": 0,
      "outputs": [
        {
          "output_type": "display_data",
          "data": {
            "image/png": "[encoded data removed]",
            "text/plain": [
              "<Figure size 720x360 with 1 Axes>"
            ]
          },
          "metadata": {
            "tags": []
          }
        }
      ]
    },
    {
      "metadata": {
        "id": "t2TfUzrDciWL",
        "colab_type": "text"
      },
      "cell_type": "markdown",
      "source": [
        "### (3) 연간 평일/휴일 시간대별 출발 그래프 (x ~ 시간대 / y ~ 이용량)"
      ]
    },
    {
      "metadata": {
        "id": "MJOQfZI-ciWM",
        "colab_type": "code",
        "colab": {}
      },
      "cell_type": "code",
      "source": [
        "dd1 = pd.DataFrame(df_nred_dep['departure'].dt.hour.value_counts())\n",
        "dd1 = dd1.sort_index(ascending=1)\n",
        "dd2 = pd.DataFrame(df_red_dep['departure'].dt.hour.value_counts())\n",
        "dd2 = dd2.sort_index(ascending=1)"
      ],
      "execution_count": 0,
      "outputs": []
    },
    {
      "metadata": {
        "id": "Oyw6zuphciWR",
        "colab_type": "code",
        "outputId": "1de1bc49-7fe2-40ab-ea37-30868bc557af",
        "colab": {}
      },
      "cell_type": "code",
      "source": [
        "%matplotlib inline\n",
        "with plt.style.context('ggplot'):\n",
        "    plt.figure(figsize=(12,7))\n",
        "    plt.bar(x = dd1.index-0.2, height = dd1.departure, label='weekday', color = 'blue', width=0.37)\n",
        "    plt.bar(x = dd1.index+0.2, height = dd2.departure, label='holiday', color = 'red', width=0.37)\n",
        "    plt.xticks(dd2.index)\n",
        "    plt.xlabel('time')\n",
        "    plt.ylabel('usage')\n",
        "    plt.legend()\n",
        "    plt.title('The number of DDAREUNGYI departures by time zone')    \n",
        "    plt.ylim(0,700000)\n",
        "    plt.show()"
      ],
      "execution_count": 0,
      "outputs": [
        {
          "output_type": "display_data",
          "data": {
            "image/png": "[encoded data removed]",
            "text/plain": [
              "<Figure size 864x504 with 1 Axes>"
            ]
          },
          "metadata": {
            "tags": []
          }
        }
      ]
    },
    {
      "metadata": {
        "id": "b4IVfgwsciWY",
        "colab_type": "text"
      },
      "cell_type": "markdown",
      "source": [
        "### (4) 연간 평일/휴일 시간대별 도착 그래프 (x ~ 시간대 / y ~ 이용량)"
      ]
    },
    {
      "metadata": {
        "id": "xO3bk2BqciWZ",
        "colab_type": "code",
        "colab": {}
      },
      "cell_type": "code",
      "source": [
        "dd5 = pd.DataFrame(df_nred_arr['arrival'].dt.hour.value_counts())\n",
        "dd5 = dd5.sort_index(ascending=1)\n",
        "dd6 = pd.DataFrame(df_red_arr['arrival'].dt.hour.value_counts())\n",
        "dd6 = dd6.sort_index(ascending=1)"
      ],
      "execution_count": 0,
      "outputs": []
    },
    {
      "metadata": {
        "id": "yFKByaSvciWd",
        "colab_type": "code",
        "outputId": "734d1ef1-355d-430f-fba7-761b4de39ca1",
        "colab": {}
      },
      "cell_type": "code",
      "source": [
        "%matplotlib inline\n",
        "with plt.style.context('ggplot'):\n",
        "    plt.figure(figsize=(12,7))\n",
        "    plt.bar(x = dd5.index-0.2, height = dd5.arrival, label='weekday', color = 'blue', width=0.37)\n",
        "    plt.bar(x = dd6.index+0.2, height = dd6.arrival, label='holiday', color = 'red', width=0.37)\n",
        "    plt.xticks(dd2.index)\n",
        "    plt.xlabel('time')\n",
        "    plt.ylabel('usage')\n",
        "    plt.legend()\n",
        "    plt.title('The number of DDAREUNGYI arrivals by time zone')    \n",
        "    plt.ylim(0,700000)\n",
        "    plt.show()"
      ],
      "execution_count": 0,
      "outputs": [
        {
          "output_type": "display_data",
          "data": {
            "image/png": "[encoded data removed]",
            "text/plain": [
              "<Figure size 864x504 with 1 Axes>"
            ]
          },
          "metadata": {
            "tags": []
          }
        }
      ]
    },
    {
      "metadata": {
        "id": "JVfUg7ErciWi",
        "colab_type": "text"
      },
      "cell_type": "markdown",
      "source": [
        "### 따릉이가 주로 '주중'의 '7~10시' 및 '17~18시' 에 많이 이용되는 것을 확인하였다."
      ]
    },
    {
      "metadata": {
        "id": "pMeE6FYxciWk",
        "colab_type": "text"
      },
      "cell_type": "markdown",
      "source": [
        "# 6. 데이터를 시간대로 나누고, 각 시간대의 대여 반납으로 나눈다."
      ]
    },
    {
      "metadata": {
        "id": "AUh9qhpbciWl",
        "colab_type": "text"
      },
      "cell_type": "markdown",
      "source": [
        "출근 : 07:00 ~ 09:59  (3시간)\n",
        "퇴근 : 17:00 ~ 19:59  (3시간)\n"
      ]
    },
    {
      "metadata": {
        "id": "z-EKf8yyciWm",
        "colab_type": "code",
        "colab": {}
      },
      "cell_type": "code",
      "source": [
        "nred_chulgeun_dep = df_nred_dep[(df_nred_dep['departure'].dt.hour >= 7 ) & (df_nred_dep['departure'].dt.hour<10)] \n",
        "nred_toegeun_dep = df_nred_dep[(df_nred_dep['departure'].dt.hour >= 17 ) & (df_nred_dep['departure'].dt.hour<20)]\n",
        "nred_8_dep = df_nred_dep[(df_nred_dep['departure'].dt.hour == 8)]\n",
        "nred_18_dep = df_nred_dep[(df_nred_dep['departure'].dt.hour == 18)]"
      ],
      "execution_count": 0,
      "outputs": []
    },
    {
      "metadata": {
        "id": "_NhRKRGzciWq",
        "colab_type": "code",
        "colab": {}
      },
      "cell_type": "code",
      "source": [
        "nred_chulgeun_dep_count = pd.DataFrame(nred_chulgeun_dep.groupby('DepartureID').count()['departure'])\n",
        "nred_toegeun_dep_count = pd.DataFrame(nred_toegeun_dep.groupby('DepartureID').count()['departure'])\n",
        "nred_8_dep_count = pd.DataFrame(nred_8_dep.groupby('DepartureID').count()['departure'])\n",
        "nred_18_dep_count = pd.DataFrame(nred_18_dep.groupby('DepartureID').count()['departure'])"
      ],
      "execution_count": 0,
      "outputs": []
    },
    {
      "metadata": {
        "id": "PKHshmSfciWv",
        "colab_type": "code",
        "colab": {}
      },
      "cell_type": "code",
      "source": [
        "nred_chulgeun_dep_count.columns = ['chulgeun_dep_count']\n",
        "nred_toegeun_dep_count.columns = ['toegeun_dep_count']\n",
        "nred_8_dep_count.columns = ['8_dep_count']\n",
        "nred_18_dep_count.columns = ['18_dep_count']"
      ],
      "execution_count": 0,
      "outputs": []
    },
    {
      "metadata": {
        "id": "Tn4YNYtMciWz",
        "colab_type": "code",
        "outputId": "31e39ed5-63f0-45f0-d17b-df20221af8ea",
        "colab": {}
      },
      "cell_type": "code",
      "source": [
        "nred_8_dep_count.head()"
      ],
      "execution_count": 0,
      "outputs": [
        {
          "output_type": "execute_result",
          "data": {
            "text/html": [
              "<div>\n",
              "<style scoped>\n",
              "    .dataframe tbody tr th:only-of-type {\n",
              "        vertical-align: middle;\n",
              "    }\n",
              "\n",
              "    .dataframe tbody tr th {\n",
              "        vertical-align: top;\n",
              "    }\n",
              "\n",
              "    .dataframe thead th {\n",
              "        text-align: right;\n",
              "    }\n",
              "</style>\n",
              "<table border=\"1\" class=\"dataframe\">\n",
              "  <thead>\n",
              "    <tr style=\"text-align: right;\">\n",
              "      <th></th>\n",
              "      <th>8_dep_count</th>\n",
              "    </tr>\n",
              "    <tr>\n",
              "      <th>DepartureID</th>\n",
              "      <th></th>\n",
              "    </tr>\n",
              "  </thead>\n",
              "  <tbody>\n",
              "    <tr>\n",
              "      <th>101</th>\n",
              "      <td>378</td>\n",
              "    </tr>\n",
              "    <tr>\n",
              "      <th>102</th>\n",
              "      <td>1059</td>\n",
              "    </tr>\n",
              "    <tr>\n",
              "      <th>103</th>\n",
              "      <td>380</td>\n",
              "    </tr>\n",
              "    <tr>\n",
              "      <th>104</th>\n",
              "      <td>244</td>\n",
              "    </tr>\n",
              "    <tr>\n",
              "      <th>105</th>\n",
              "      <td>354</td>\n",
              "    </tr>\n",
              "  </tbody>\n",
              "</table>\n",
              "</div>"
            ],
            "text/plain": [
              "             8_dep_count\n",
              "DepartureID             \n",
              "101                  378\n",
              "102                 1059\n",
              "103                  380\n",
              "104                  244\n",
              "105                  354"
            ]
          },
          "metadata": {
            "tags": []
          },
          "execution_count": 36
        }
      ]
    },
    {
      "metadata": {
        "id": "aSg8vEemciW5",
        "colab_type": "code",
        "colab": {}
      },
      "cell_type": "code",
      "source": [
        "nred_chulgeun_arr = df_nred_arr[(df_nred_arr['arrival'].dt.hour >= 7 ) & (df_nred_arr['arrival'].dt.hour<10)] \n",
        "nred_toegeun_arr = df_nred_arr[(df_nred_arr['arrival'].dt.hour >= 17 ) & (df_nred_arr['arrival'].dt.hour<20)]\n",
        "nred_8_arr = df_nred_arr[(df_nred_arr['arrival'].dt.hour == 8)]\n",
        "nred_18_arr = df_nred_arr[(df_nred_arr['arrival'].dt.hour == 18)]\n"
      ],
      "execution_count": 0,
      "outputs": []
    },
    {
      "metadata": {
        "id": "sNTGuzORciW9",
        "colab_type": "code",
        "colab": {}
      },
      "cell_type": "code",
      "source": [
        "nred_chulgeun_arr_count = pd.DataFrame(nred_chulgeun_arr.groupby('ArrivalID').count()['arrival'])\n",
        "nred_toegeun_arr_count = pd.DataFrame(nred_toegeun_arr.groupby('ArrivalID').count()['arrival'])\n",
        "nred_8_arr_count = pd.DataFrame(nred_8_arr.groupby('ArrivalID').count()['arrival'])\n",
        "nred_18_arr_count = pd.DataFrame(nred_18_arr.groupby('ArrivalID').count()['arrival'])"
      ],
      "execution_count": 0,
      "outputs": []
    },
    {
      "metadata": {
        "id": "q8iCqkJsciXC",
        "colab_type": "code",
        "colab": {}
      },
      "cell_type": "code",
      "source": [
        "nred_chulgeun_arr_count.columns = ['chulgeun_arr_count']\n",
        "nred_toegeun_arr_count.columns = ['toegeun_arr_count']\n",
        "nred_8_arr_count.columns = ['8_arr_count']\n",
        "nred_18_arr_count.columns = ['18_arr_count']"
      ],
      "execution_count": 0,
      "outputs": []
    },
    {
      "metadata": {
        "id": "-tBrx-pmciXJ",
        "colab_type": "code",
        "outputId": "f1d1d710-5d8a-458d-c6dc-264efbe37f8c",
        "colab": {}
      },
      "cell_type": "code",
      "source": [
        "nred_8_arr_count.head()"
      ],
      "execution_count": 0,
      "outputs": [
        {
          "output_type": "execute_result",
          "data": {
            "text/html": [
              "<div>\n",
              "<style scoped>\n",
              "    .dataframe tbody tr th:only-of-type {\n",
              "        vertical-align: middle;\n",
              "    }\n",
              "\n",
              "    .dataframe tbody tr th {\n",
              "        vertical-align: top;\n",
              "    }\n",
              "\n",
              "    .dataframe thead th {\n",
              "        text-align: right;\n",
              "    }\n",
              "</style>\n",
              "<table border=\"1\" class=\"dataframe\">\n",
              "  <thead>\n",
              "    <tr style=\"text-align: right;\">\n",
              "      <th></th>\n",
              "      <th>8_arr_count</th>\n",
              "    </tr>\n",
              "    <tr>\n",
              "      <th>ArrivalID</th>\n",
              "      <th></th>\n",
              "    </tr>\n",
              "  </thead>\n",
              "  <tbody>\n",
              "    <tr>\n",
              "      <th>101</th>\n",
              "      <td>85</td>\n",
              "    </tr>\n",
              "    <tr>\n",
              "      <th>102</th>\n",
              "      <td>463</td>\n",
              "    </tr>\n",
              "    <tr>\n",
              "      <th>103</th>\n",
              "      <td>417</td>\n",
              "    </tr>\n",
              "    <tr>\n",
              "      <th>104</th>\n",
              "      <td>684</td>\n",
              "    </tr>\n",
              "    <tr>\n",
              "      <th>105</th>\n",
              "      <td>201</td>\n",
              "    </tr>\n",
              "  </tbody>\n",
              "</table>\n",
              "</div>"
            ],
            "text/plain": [
              "           8_arr_count\n",
              "ArrivalID             \n",
              "101                 85\n",
              "102                463\n",
              "103                417\n",
              "104                684\n",
              "105                201"
            ]
          },
          "metadata": {
            "tags": []
          },
          "execution_count": 40
        }
      ]
    },
    {
      "metadata": {
        "id": "n8-m3IKSciXQ",
        "colab_type": "code",
        "colab": {}
      },
      "cell_type": "code",
      "source": [
        "nred_chulgeun = pd.merge(nred_chulgeun_dep_count, nred_chulgeun_arr_count, left_index=True, right_index=True, how = 'outer')\n",
        "nred_toegeun = pd.merge(nred_toegeun_dep_count, nred_toegeun_arr_count, left_index=True, right_index=True, how = 'outer')\n",
        "nred_8 = pd.merge(nred_8_dep_count, nred_8_arr_count, left_index=True, right_index=True, how = 'outer')\n",
        "nred_18 = pd.merge(nred_18_dep_count, nred_18_arr_count, left_index=True, right_index=True, how = 'outer')"
      ],
      "execution_count": 0,
      "outputs": []
    },
    {
      "metadata": {
        "id": "Np473c4gciXU",
        "colab_type": "code",
        "outputId": "715f48e0-f936-4dc5-cff2-a678a9f4298e",
        "colab": {}
      },
      "cell_type": "code",
      "source": [
        "nonred1 = pd.merge(nred_chulgeun, nred_toegeun, left_index=True, right_index=True, how = 'outer')\n",
        "nonred2 = pd.merge(nred_8, nred_18,  left_index=True, right_index=True, how = 'outer')\n",
        "nonred = pd.merge(nonred1, nonred2,  left_index=True, right_index=True, how = 'outer')\n",
        "nonred.head()"
      ],
      "execution_count": 0,
      "outputs": [
        {
          "output_type": "execute_result",
          "data": {
            "text/html": [
              "<div>\n",
              "<style scoped>\n",
              "    .dataframe tbody tr th:only-of-type {\n",
              "        vertical-align: middle;\n",
              "    }\n",
              "\n",
              "    .dataframe tbody tr th {\n",
              "        vertical-align: top;\n",
              "    }\n",
              "\n",
              "    .dataframe thead th {\n",
              "        text-align: right;\n",
              "    }\n",
              "</style>\n",
              "<table border=\"1\" class=\"dataframe\">\n",
              "  <thead>\n",
              "    <tr style=\"text-align: right;\">\n",
              "      <th></th>\n",
              "      <th>chulgeun_dep_count</th>\n",
              "      <th>chulgeun_arr_count</th>\n",
              "      <th>toegeun_dep_count</th>\n",
              "      <th>toegeun_arr_count</th>\n",
              "      <th>8_dep_count</th>\n",
              "      <th>8_arr_count</th>\n",
              "      <th>18_dep_count</th>\n",
              "      <th>18_arr_count</th>\n",
              "    </tr>\n",
              "  </thead>\n",
              "  <tbody>\n",
              "    <tr>\n",
              "      <th>101</th>\n",
              "      <td>879.0</td>\n",
              "      <td>241.0</td>\n",
              "      <td>843.0</td>\n",
              "      <td>881</td>\n",
              "      <td>378.0</td>\n",
              "      <td>85.0</td>\n",
              "      <td>379.0</td>\n",
              "      <td>332.0</td>\n",
              "    </tr>\n",
              "    <tr>\n",
              "      <th>102</th>\n",
              "      <td>2003.0</td>\n",
              "      <td>1338.0</td>\n",
              "      <td>3434.0</td>\n",
              "      <td>3362</td>\n",
              "      <td>1059.0</td>\n",
              "      <td>463.0</td>\n",
              "      <td>1362.0</td>\n",
              "      <td>1273.0</td>\n",
              "    </tr>\n",
              "    <tr>\n",
              "      <th>103</th>\n",
              "      <td>1062.0</td>\n",
              "      <td>969.0</td>\n",
              "      <td>2015.0</td>\n",
              "      <td>2179</td>\n",
              "      <td>380.0</td>\n",
              "      <td>417.0</td>\n",
              "      <td>719.0</td>\n",
              "      <td>809.0</td>\n",
              "    </tr>\n",
              "    <tr>\n",
              "      <th>104</th>\n",
              "      <td>592.0</td>\n",
              "      <td>1480.0</td>\n",
              "      <td>2916.0</td>\n",
              "      <td>2226</td>\n",
              "      <td>244.0</td>\n",
              "      <td>684.0</td>\n",
              "      <td>1287.0</td>\n",
              "      <td>874.0</td>\n",
              "    </tr>\n",
              "    <tr>\n",
              "      <th>105</th>\n",
              "      <td>722.0</td>\n",
              "      <td>487.0</td>\n",
              "      <td>1456.0</td>\n",
              "      <td>1208</td>\n",
              "      <td>354.0</td>\n",
              "      <td>201.0</td>\n",
              "      <td>516.0</td>\n",
              "      <td>450.0</td>\n",
              "    </tr>\n",
              "  </tbody>\n",
              "</table>\n",
              "</div>"
            ],
            "text/plain": [
              "     chulgeun_dep_count  chulgeun_arr_count  toegeun_dep_count  \\\n",
              "101               879.0               241.0              843.0   \n",
              "102              2003.0              1338.0             3434.0   \n",
              "103              1062.0               969.0             2015.0   \n",
              "104               592.0              1480.0             2916.0   \n",
              "105               722.0               487.0             1456.0   \n",
              "\n",
              "     toegeun_arr_count  8_dep_count  8_arr_count  18_dep_count  18_arr_count  \n",
              "101                881        378.0         85.0         379.0         332.0  \n",
              "102               3362       1059.0        463.0        1362.0        1273.0  \n",
              "103               2179        380.0        417.0         719.0         809.0  \n",
              "104               2226        244.0        684.0        1287.0         874.0  \n",
              "105               1208        354.0        201.0         516.0         450.0  "
            ]
          },
          "metadata": {
            "tags": []
          },
          "execution_count": 42
        }
      ]
    },
    {
      "metadata": {
        "id": "kmRV8qrfciXa",
        "colab_type": "code",
        "outputId": "403bc275-c817-4a82-8a5c-7d30d64366f4",
        "colab": {}
      },
      "cell_type": "code",
      "source": [
        "len(nonred)"
      ],
      "execution_count": 0,
      "outputs": [
        {
          "output_type": "execute_result",
          "data": {
            "text/plain": [
              "1317"
            ]
          },
          "metadata": {
            "tags": []
          },
          "execution_count": 43
        }
      ]
    },
    {
      "metadata": {
        "id": "ke1FeoWTciXk",
        "colab_type": "text"
      },
      "cell_type": "markdown",
      "source": [
        "# 7. 각 대여소별 출/퇴근 시간대의 일평균 사용량\n"
      ]
    },
    {
      "metadata": {
        "id": "tNxLFpxGciXm",
        "colab_type": "code",
        "outputId": "c8a1606d-8a9b-4824-a554-e6f1c97ca34a",
        "colab": {}
      },
      "cell_type": "code",
      "source": [
        "nred_chulgeun_dep.head()"
      ],
      "execution_count": 0,
      "outputs": [
        {
          "output_type": "execute_result",
          "data": {
            "text/html": [
              "<div>\n",
              "<style scoped>\n",
              "    .dataframe tbody tr th:only-of-type {\n",
              "        vertical-align: middle;\n",
              "    }\n",
              "\n",
              "    .dataframe tbody tr th {\n",
              "        vertical-align: top;\n",
              "    }\n",
              "\n",
              "    .dataframe thead th {\n",
              "        text-align: right;\n",
              "    }\n",
              "</style>\n",
              "<table border=\"1\" class=\"dataframe\">\n",
              "  <thead>\n",
              "    <tr style=\"text-align: right;\">\n",
              "      <th></th>\n",
              "      <th>DepartureID</th>\n",
              "      <th>departure</th>\n",
              "      <th>depweekday</th>\n",
              "      <th>depweekend</th>\n",
              "      <th>depholiday</th>\n",
              "    </tr>\n",
              "  </thead>\n",
              "  <tbody>\n",
              "    <tr>\n",
              "      <th>243230</th>\n",
              "      <td>1603</td>\n",
              "      <td>2017-10-10 07:00:01</td>\n",
              "      <td>1</td>\n",
              "      <td>False</td>\n",
              "      <td>False</td>\n",
              "    </tr>\n",
              "    <tr>\n",
              "      <th>243231</th>\n",
              "      <td>916</td>\n",
              "      <td>2017-10-10 07:00:07</td>\n",
              "      <td>1</td>\n",
              "      <td>False</td>\n",
              "      <td>False</td>\n",
              "    </tr>\n",
              "    <tr>\n",
              "      <th>243232</th>\n",
              "      <td>909</td>\n",
              "      <td>2017-10-10 07:00:23</td>\n",
              "      <td>1</td>\n",
              "      <td>False</td>\n",
              "      <td>False</td>\n",
              "    </tr>\n",
              "    <tr>\n",
              "      <th>243233</th>\n",
              "      <td>1213</td>\n",
              "      <td>2017-10-10 07:00:24</td>\n",
              "      <td>1</td>\n",
              "      <td>False</td>\n",
              "      <td>False</td>\n",
              "    </tr>\n",
              "    <tr>\n",
              "      <th>243234</th>\n",
              "      <td>1218</td>\n",
              "      <td>2017-10-10 07:00:26</td>\n",
              "      <td>1</td>\n",
              "      <td>False</td>\n",
              "      <td>False</td>\n",
              "    </tr>\n",
              "  </tbody>\n",
              "</table>\n",
              "</div>"
            ],
            "text/plain": [
              "        DepartureID           departure  depweekday  depweekend  depholiday\n",
              "243230         1603 2017-10-10 07:00:01           1       False       False\n",
              "243231          916 2017-10-10 07:00:07           1       False       False\n",
              "243232          909 2017-10-10 07:00:23           1       False       False\n",
              "243233         1213 2017-10-10 07:00:24           1       False       False\n",
              "243234         1218 2017-10-10 07:00:26           1       False       False"
            ]
          },
          "metadata": {
            "tags": []
          },
          "execution_count": 44
        }
      ]
    },
    {
      "metadata": {
        "id": "6mxTI2EGciXw",
        "colab_type": "code",
        "colab": {}
      },
      "cell_type": "code",
      "source": [
        "nred_chulgeun_dep_pivot = nred_chulgeun_dep.pivot_table(index = 'DepartureID', columns = nred_chulgeun_dep['departure'].dt.date, aggfunc={'DepartureID' : 'count'})\n",
        "nred_chulgeun_arr_pivot = nred_chulgeun_arr.pivot_table(index = 'ArrivalID', columns = nred_chulgeun_arr['arrival'].dt.date, aggfunc={'ArrivalID' : 'count'})\n",
        "nred_toegeun_dep_pivot = nred_toegeun_dep.pivot_table(index = 'DepartureID', columns = nred_toegeun_dep['departure'].dt.date, aggfunc={'DepartureID' : 'count'})\n",
        "nred_toegeun_arr_pivot = nred_toegeun_arr.pivot_table(index = 'ArrivalID', columns = nred_toegeun_arr['arrival'].dt.date, aggfunc={'ArrivalID' : 'count'})\n",
        "nred_8_dep_pivot = nred_8_dep.pivot_table(index = 'DepartureID', columns = nred_8_dep['departure'].dt.date, aggfunc={'DepartureID' : 'count'})\n",
        "nred_8_arr_pivot = nred_8_arr.pivot_table(index = 'ArrivalID', columns = nred_8_arr['arrival'].dt.date, aggfunc={'ArrivalID' : 'count'})\n",
        "nred_18_dep_pivot = nred_18_dep.pivot_table(index = 'DepartureID', columns = nred_18_dep['departure'].dt.date, aggfunc={'DepartureID' : 'count'})\n",
        "nred_18_arr_pivot = nred_18_arr.pivot_table(index = 'ArrivalID', columns = nred_18_arr['arrival'].dt.date, aggfunc={'ArrivalID' : 'count'})"
      ],
      "execution_count": 0,
      "outputs": []
    },
    {
      "metadata": {
        "id": "C-SJjLLhciX2",
        "colab_type": "code",
        "colab": {}
      },
      "cell_type": "code",
      "source": [
        "nred_chulgeun_dep_pivot['mean'] = nred_chulgeun_dep_pivot.mean(axis=1)\n",
        "nred_chulgeun_arr_pivot['mean'] = nred_chulgeun_arr_pivot.mean(axis=1)\n",
        "nred_toegeun_dep_pivot['mean'] = nred_toegeun_dep_pivot.mean(axis=1)\n",
        "nred_toegeun_arr_pivot['mean'] = nred_toegeun_arr_pivot.mean(axis=1)\n",
        "nred_8_dep_pivot['mean'] = nred_8_dep_pivot.mean(axis=1)\n",
        "nred_8_arr_pivot['mean'] = nred_8_arr_pivot.mean(axis=1)\n",
        "nred_18_dep_pivot['mean'] = nred_18_dep_pivot.mean(axis=1)\n",
        "nred_18_arr_pivot['mean'] = nred_18_arr_pivot.mean(axis=1)"
      ],
      "execution_count": 0,
      "outputs": []
    },
    {
      "metadata": {
        "id": "Qe9OWlGQciX7",
        "colab_type": "code",
        "colab": {}
      },
      "cell_type": "code",
      "source": [
        "nred_chulgeun_dep_pivot.index.name = 'ID' \n",
        "nred_chulgeun_arr_pivot.index.name = 'ID'\n",
        "nred_toegeun_dep_pivot.index.name = 'ID' \n",
        "nred_toegeun_arr_pivot.index.name = 'ID'\n",
        "nred_8_dep_pivot.index.name = 'ID' \n",
        "nred_8_arr_pivot.index.name = 'ID'\n",
        "nred_18_dep_pivot.index.name = 'ID' \n",
        "nred_18_arr_pivot.index.name = 'ID'"
      ],
      "execution_count": 0,
      "outputs": []
    },
    {
      "metadata": {
        "id": "wiOto2RyciYB",
        "colab_type": "code",
        "outputId": "1013b1a6-4389-47a3-fcd5-c1d72bb42a93",
        "colab": {}
      },
      "cell_type": "code",
      "source": [
        "nr_cg = pd.merge(nred_chulgeun_dep_pivot, nred_chulgeun_arr_pivot, left_index=True, right_index=True, how = 'outer')\n",
        "nr_cg1 = nr_cg.copy()[['mean_x', 'mean_y']]\n",
        "nr_cg1.index.name = 'ID'\n",
        "nr_cg1.columns = ['dep', 'arr']\n",
        "nr_cg1.head()"
      ],
      "execution_count": 0,
      "outputs": [
        {
          "output_type": "execute_result",
          "data": {
            "text/html": [
              "<div>\n",
              "<style scoped>\n",
              "    .dataframe tbody tr th:only-of-type {\n",
              "        vertical-align: middle;\n",
              "    }\n",
              "\n",
              "    .dataframe tbody tr th {\n",
              "        vertical-align: top;\n",
              "    }\n",
              "\n",
              "    .dataframe thead th {\n",
              "        text-align: right;\n",
              "    }\n",
              "</style>\n",
              "<table border=\"1\" class=\"dataframe\">\n",
              "  <thead>\n",
              "    <tr style=\"text-align: right;\">\n",
              "      <th></th>\n",
              "      <th>dep</th>\n",
              "      <th>arr</th>\n",
              "    </tr>\n",
              "    <tr>\n",
              "      <th>ID</th>\n",
              "      <th></th>\n",
              "      <th></th>\n",
              "    </tr>\n",
              "  </thead>\n",
              "  <tbody>\n",
              "    <tr>\n",
              "      <th>101</th>\n",
              "      <td>3.977376</td>\n",
              "      <td>1.709220</td>\n",
              "    </tr>\n",
              "    <tr>\n",
              "      <th>102</th>\n",
              "      <td>8.487288</td>\n",
              "      <td>6.341232</td>\n",
              "    </tr>\n",
              "    <tr>\n",
              "      <th>103</th>\n",
              "      <td>4.720000</td>\n",
              "      <td>4.486111</td>\n",
              "    </tr>\n",
              "    <tr>\n",
              "      <th>104</th>\n",
              "      <td>3.035897</td>\n",
              "      <td>6.607143</td>\n",
              "    </tr>\n",
              "    <tr>\n",
              "      <th>105</th>\n",
              "      <td>3.740933</td>\n",
              "      <td>2.675824</td>\n",
              "    </tr>\n",
              "  </tbody>\n",
              "</table>\n",
              "</div>"
            ],
            "text/plain": [
              "          dep       arr\n",
              "ID                     \n",
              "101  3.977376  1.709220\n",
              "102  8.487288  6.341232\n",
              "103  4.720000  4.486111\n",
              "104  3.035897  6.607143\n",
              "105  3.740933  2.675824"
            ]
          },
          "metadata": {
            "tags": []
          },
          "execution_count": 48
        }
      ]
    },
    {
      "metadata": {
        "id": "sPASPF_NciYG",
        "colab_type": "code",
        "outputId": "9f82b3ed-e6fe-444d-d0bc-5f627f723b6d",
        "colab": {}
      },
      "cell_type": "code",
      "source": [
        "nr_tg = pd.merge(nred_toegeun_dep_pivot, nred_toegeun_arr_pivot, left_index=True, right_index=True, how = 'outer')\n",
        "nr_tg1 = nr_tg.copy()[['mean_x', 'mean_y']]\n",
        "nr_tg1.index.name = 'ID'\n",
        "nr_tg1.columns = ['dep', 'arr']\n",
        "nr_tg1.head()"
      ],
      "execution_count": 0,
      "outputs": [
        {
          "output_type": "execute_result",
          "data": {
            "text/html": [
              "<div>\n",
              "<style scoped>\n",
              "    .dataframe tbody tr th:only-of-type {\n",
              "        vertical-align: middle;\n",
              "    }\n",
              "\n",
              "    .dataframe tbody tr th {\n",
              "        vertical-align: top;\n",
              "    }\n",
              "\n",
              "    .dataframe thead th {\n",
              "        text-align: right;\n",
              "    }\n",
              "</style>\n",
              "<table border=\"1\" class=\"dataframe\">\n",
              "  <thead>\n",
              "    <tr style=\"text-align: right;\">\n",
              "      <th></th>\n",
              "      <th>dep</th>\n",
              "      <th>arr</th>\n",
              "    </tr>\n",
              "    <tr>\n",
              "      <th>ID</th>\n",
              "      <th></th>\n",
              "      <th></th>\n",
              "    </tr>\n",
              "  </thead>\n",
              "  <tbody>\n",
              "    <tr>\n",
              "      <th>101</th>\n",
              "      <td>4.033493</td>\n",
              "      <td>4.155660</td>\n",
              "    </tr>\n",
              "    <tr>\n",
              "      <th>102</th>\n",
              "      <td>15.330357</td>\n",
              "      <td>14.245763</td>\n",
              "    </tr>\n",
              "    <tr>\n",
              "      <th>103</th>\n",
              "      <td>9.243119</td>\n",
              "      <td>9.949772</td>\n",
              "    </tr>\n",
              "    <tr>\n",
              "      <th>104</th>\n",
              "      <td>12.568966</td>\n",
              "      <td>9.763158</td>\n",
              "    </tr>\n",
              "    <tr>\n",
              "      <th>105</th>\n",
              "      <td>6.558559</td>\n",
              "      <td>5.752381</td>\n",
              "    </tr>\n",
              "  </tbody>\n",
              "</table>\n",
              "</div>"
            ],
            "text/plain": [
              "           dep        arr\n",
              "ID                       \n",
              "101   4.033493   4.155660\n",
              "102  15.330357  14.245763\n",
              "103   9.243119   9.949772\n",
              "104  12.568966   9.763158\n",
              "105   6.558559   5.752381"
            ]
          },
          "metadata": {
            "tags": []
          },
          "execution_count": 49
        }
      ]
    },
    {
      "metadata": {
        "id": "5nmF-utyciYL",
        "colab_type": "code",
        "outputId": "220ef1dd-2861-4a6f-b704-926f825ac372",
        "colab": {}
      },
      "cell_type": "code",
      "source": [
        "nr_8 = pd.merge(nred_8_dep_pivot, nred_8_arr_pivot, left_index=True, right_index=True, how = 'outer')\n",
        "nr_81 = nr_8.copy()[['mean_x', 'mean_y']]\n",
        "nr_81.index.name = 'ID'\n",
        "nr_81.columns = ['dep', 'arr']\n",
        "nr_81.head()"
      ],
      "execution_count": 0,
      "outputs": [
        {
          "output_type": "execute_result",
          "data": {
            "text/html": [
              "<div>\n",
              "<style scoped>\n",
              "    .dataframe tbody tr th:only-of-type {\n",
              "        vertical-align: middle;\n",
              "    }\n",
              "\n",
              "    .dataframe tbody tr th {\n",
              "        vertical-align: top;\n",
              "    }\n",
              "\n",
              "    .dataframe thead th {\n",
              "        text-align: right;\n",
              "    }\n",
              "</style>\n",
              "<table border=\"1\" class=\"dataframe\">\n",
              "  <thead>\n",
              "    <tr style=\"text-align: right;\">\n",
              "      <th></th>\n",
              "      <th>dep</th>\n",
              "      <th>arr</th>\n",
              "    </tr>\n",
              "    <tr>\n",
              "      <th>ID</th>\n",
              "      <th></th>\n",
              "      <th></th>\n",
              "    </tr>\n",
              "  </thead>\n",
              "  <tbody>\n",
              "    <tr>\n",
              "      <th>101</th>\n",
              "      <td>2.088398</td>\n",
              "      <td>1.214286</td>\n",
              "    </tr>\n",
              "    <tr>\n",
              "      <th>102</th>\n",
              "      <td>4.545064</td>\n",
              "      <td>2.789157</td>\n",
              "    </tr>\n",
              "    <tr>\n",
              "      <th>103</th>\n",
              "      <td>2.159091</td>\n",
              "      <td>2.194737</td>\n",
              "    </tr>\n",
              "    <tr>\n",
              "      <th>104</th>\n",
              "      <td>1.807407</td>\n",
              "      <td>3.152074</td>\n",
              "    </tr>\n",
              "    <tr>\n",
              "      <th>105</th>\n",
              "      <td>2.171779</td>\n",
              "      <td>1.582677</td>\n",
              "    </tr>\n",
              "  </tbody>\n",
              "</table>\n",
              "</div>"
            ],
            "text/plain": [
              "          dep       arr\n",
              "ID                     \n",
              "101  2.088398  1.214286\n",
              "102  4.545064  2.789157\n",
              "103  2.159091  2.194737\n",
              "104  1.807407  3.152074\n",
              "105  2.171779  1.582677"
            ]
          },
          "metadata": {
            "tags": []
          },
          "execution_count": 50
        }
      ]
    },
    {
      "metadata": {
        "id": "N4V8w_sRciYR",
        "colab_type": "code",
        "outputId": "1bfcbbf2-76c6-4726-ce5e-6a6326dfaa88",
        "colab": {}
      },
      "cell_type": "code",
      "source": [
        "nr_18 = pd.merge(nred_18_dep_pivot, nred_18_arr_pivot, left_index=True, right_index=True, how = 'outer')\n",
        "nr_181 = nr_18.copy()[['mean_x', 'mean_y']]\n",
        "nr_181.index.name = 'ID'\n",
        "nr_181.columns = ['dep', 'arr']\n",
        "nr_181.head()"
      ],
      "execution_count": 0,
      "outputs": [
        {
          "output_type": "execute_result",
          "data": {
            "text/html": [
              "<div>\n",
              "<style scoped>\n",
              "    .dataframe tbody tr th:only-of-type {\n",
              "        vertical-align: middle;\n",
              "    }\n",
              "\n",
              "    .dataframe tbody tr th {\n",
              "        vertical-align: top;\n",
              "    }\n",
              "\n",
              "    .dataframe thead th {\n",
              "        text-align: right;\n",
              "    }\n",
              "</style>\n",
              "<table border=\"1\" class=\"dataframe\">\n",
              "  <thead>\n",
              "    <tr style=\"text-align: right;\">\n",
              "      <th></th>\n",
              "      <th>dep</th>\n",
              "      <th>arr</th>\n",
              "    </tr>\n",
              "    <tr>\n",
              "      <th>ID</th>\n",
              "      <th></th>\n",
              "      <th></th>\n",
              "    </tr>\n",
              "  </thead>\n",
              "  <tbody>\n",
              "    <tr>\n",
              "      <th>101</th>\n",
              "      <td>2.669014</td>\n",
              "      <td>2.155844</td>\n",
              "    </tr>\n",
              "    <tr>\n",
              "      <th>102</th>\n",
              "      <td>6.742574</td>\n",
              "      <td>5.866359</td>\n",
              "    </tr>\n",
              "    <tr>\n",
              "      <th>103</th>\n",
              "      <td>3.744792</td>\n",
              "      <td>4.257895</td>\n",
              "    </tr>\n",
              "    <tr>\n",
              "      <th>104</th>\n",
              "      <td>5.903670</td>\n",
              "      <td>4.414141</td>\n",
              "    </tr>\n",
              "    <tr>\n",
              "      <th>105</th>\n",
              "      <td>2.882682</td>\n",
              "      <td>2.743902</td>\n",
              "    </tr>\n",
              "  </tbody>\n",
              "</table>\n",
              "</div>"
            ],
            "text/plain": [
              "          dep       arr\n",
              "ID                     \n",
              "101  2.669014  2.155844\n",
              "102  6.742574  5.866359\n",
              "103  3.744792  4.257895\n",
              "104  5.903670  4.414141\n",
              "105  2.882682  2.743902"
            ]
          },
          "metadata": {
            "tags": []
          },
          "execution_count": 51
        }
      ]
    },
    {
      "metadata": {
        "id": "qXEOquDXciYh",
        "colab_type": "code",
        "colab": {}
      },
      "cell_type": "code",
      "source": [
        "nr_cg.to_csv('nr_cg_2.csv',mode='w')\n",
        "nr_tg.to_csv('nr_tg_2.csv',mode='w')\n",
        "nr_8.to_csv('nr_8_2.csv',mode='w')\n",
        "nr_18.to_csv('nr_18_2.csv',mode='w')"
      ],
      "execution_count": 0,
      "outputs": []
    },
    {
      "metadata": {
        "id": "vHAsYwCFciYm",
        "colab_type": "text"
      },
      "cell_type": "markdown",
      "source": [
        "pivot 으로 구한 데이터에서 Nan 값은 이용이 되지 않았다는 뜻이므로, 평균을 구할때 Nan라 포함이 안되는 것을 방지하기위해 직접 셀 갯수를 세서 평균을 재 계산 함 (엑셀에서 작업함)"
      ]
    },
    {
      "metadata": {
        "id": "ELBSNYsNciYn",
        "colab_type": "code",
        "colab": {}
      },
      "cell_type": "code",
      "source": [
        "nr_cg_p_re = pd.read_csv('nr_cg_2.csv')\n",
        "nr_tg_p_re = pd.read_csv('nr_tg_2.csv')\n",
        "nr_8_p_re = pd.read_csv('nr_8_2.csv')\n",
        "nr_18_p_re = pd.read_csv('nr_18_2.csv')"
      ],
      "execution_count": 0,
      "outputs": []
    },
    {
      "metadata": {
        "id": "zowoCBJqciYx",
        "colab_type": "code",
        "colab": {}
      },
      "cell_type": "code",
      "source": [
        "nr_cg_p_re = nr_cg_p_re[['Unnamed: 0','dep_mean', 'arr_mean']]\n",
        "nr_tg_p_re = nr_tg_p_re[['Unnamed: 0','dep_mean', 'arr_mean']]\n",
        "nr_8_p_re = nr_8_p_re[['Unnamed: 0','dep_mean', 'arr_mean']]\n",
        "nr_18_p_re = nr_18_p_re[['Unnamed: 0','dep_mean', 'arr_mean']]"
      ],
      "execution_count": 0,
      "outputs": []
    },
    {
      "metadata": {
        "id": "_8wIOB_BciY1",
        "colab_type": "code",
        "colab": {}
      },
      "cell_type": "code",
      "source": [
        "nr_cg_p_re = nr_cg_p_re.drop([0,1], axis=0)\n",
        "nr_tg_p_re = nr_tg_p_re.drop([0,1], axis=0)\n",
        "nr_8_p_re = nr_8_p_re.drop([0,1], axis=0)\n",
        "nr_18_p_re = nr_18_p_re.drop([0,1], axis=0)"
      ],
      "execution_count": 0,
      "outputs": []
    },
    {
      "metadata": {
        "id": "f20XKH04ciY8",
        "colab_type": "code",
        "colab": {}
      },
      "cell_type": "code",
      "source": [
        "nr_cg_p_re.columns = ['ID','cg_dep','cg_arr']\n",
        "nr_tg_p_re.columns = ['ID','tg_dep','tg_arr']\n",
        "nr_8_p_re.columns = [ 'ID','8_dep','8_arr']\n",
        "nr_18_p_re.columns = ['ID','18_dep','18_arr']"
      ],
      "execution_count": 0,
      "outputs": []
    },
    {
      "metadata": {
        "id": "t54QAABYciY-",
        "colab_type": "code",
        "outputId": "1c95e59a-35c5-4aab-ac4b-e23d601be495",
        "colab": {}
      },
      "cell_type": "code",
      "source": [
        "print(len(nr_cg_p_re), len(nr_tg_p_re), len(nr_8_p_re), len(nr_18_p_re))"
      ],
      "execution_count": 0,
      "outputs": [
        {
          "output_type": "stream",
          "text": [
            "1313 1317 1310 1315\n"
          ],
          "name": "stdout"
        }
      ]
    },
    {
      "metadata": {
        "id": "xK39C53WciZC",
        "colab_type": "code",
        "outputId": "b3e70c35-8d2e-4ad4-9c38-7968ed6548d4",
        "colab": {}
      },
      "cell_type": "code",
      "source": [
        "merge1 = pd.merge(nr_cg_p_re, nr_tg_p_re, left_on='ID', right_on = 'ID', how = 'outer')\n",
        "merge2 = pd.merge(nr_8_p_re, nr_18_p_re,  left_on='ID', right_on = 'ID', how = 'outer')\n",
        "print(len(merge1), len(merge2))\n",
        "print(merge1.isna().sum())\n",
        "print(merge2.isna().sum())"
      ],
      "execution_count": 0,
      "outputs": [
        {
          "output_type": "stream",
          "text": [
            "1317 1315\n",
            "ID        0\n",
            "cg_dep    4\n",
            "cg_arr    4\n",
            "tg_dep    0\n",
            "tg_arr    0\n",
            "dtype: int64\n",
            "ID        0\n",
            "8_dep     5\n",
            "8_arr     5\n",
            "18_dep    0\n",
            "18_arr    0\n",
            "dtype: int64\n"
          ],
          "name": "stdout"
        }
      ]
    },
    {
      "metadata": {
        "id": "xd0NZTTyciZG",
        "colab_type": "code",
        "outputId": "c5b67ea3-862d-4894-ec5b-e28cf65ec5f6",
        "colab": {}
      },
      "cell_type": "code",
      "source": [
        "nr_df_group = pd.merge(merge1, merge2,  left_on='ID', right_on = 'ID', how = 'outer')\n",
        "print(len(nr_df_group), '\\n\\n', nr_df_group.isna().sum())"
      ],
      "execution_count": 0,
      "outputs": [
        {
          "output_type": "stream",
          "text": [
            "1317 \n",
            "\n",
            " ID        0\n",
            "cg_dep    4\n",
            "cg_arr    4\n",
            "tg_dep    0\n",
            "tg_arr    0\n",
            "8_dep     7\n",
            "8_arr     7\n",
            "18_dep    2\n",
            "18_arr    2\n",
            "dtype: int64\n"
          ],
          "name": "stdout"
        }
      ]
    },
    {
      "metadata": {
        "id": "VP5SHzfRciZK",
        "colab_type": "code",
        "colab": {}
      },
      "cell_type": "code",
      "source": [
        "nr_df_group1 = nr_df_group.set_index(keys='ID')\n",
        "nr_df_group1.index = nr_df_group1.index.astype(int)\n",
        "nr_df_group1 = nr_df_group1.sort_values(by=['ID'], axis=0, ascending = 1)"
      ],
      "execution_count": 0,
      "outputs": []
    },
    {
      "metadata": {
        "id": "RyP3A8T3ciZM",
        "colab_type": "code",
        "outputId": "2b20ece1-318e-4b84-fc6b-a6380132ff69",
        "colab": {}
      },
      "cell_type": "code",
      "source": [
        "nr_df_group1.head()"
      ],
      "execution_count": 0,
      "outputs": [
        {
          "output_type": "execute_result",
          "data": {
            "text/html": [
              "<div>\n",
              "<style scoped>\n",
              "    .dataframe tbody tr th:only-of-type {\n",
              "        vertical-align: middle;\n",
              "    }\n",
              "\n",
              "    .dataframe tbody tr th {\n",
              "        vertical-align: top;\n",
              "    }\n",
              "\n",
              "    .dataframe thead th {\n",
              "        text-align: right;\n",
              "    }\n",
              "</style>\n",
              "<table border=\"1\" class=\"dataframe\">\n",
              "  <thead>\n",
              "    <tr style=\"text-align: right;\">\n",
              "      <th></th>\n",
              "      <th>cg_dep</th>\n",
              "      <th>cg_arr</th>\n",
              "      <th>tg_dep</th>\n",
              "      <th>tg_arr</th>\n",
              "      <th>8_dep</th>\n",
              "      <th>8_arr</th>\n",
              "      <th>18_dep</th>\n",
              "      <th>18_arr</th>\n",
              "    </tr>\n",
              "    <tr>\n",
              "      <th>ID</th>\n",
              "      <th></th>\n",
              "      <th></th>\n",
              "      <th></th>\n",
              "      <th></th>\n",
              "      <th></th>\n",
              "      <th></th>\n",
              "      <th></th>\n",
              "      <th></th>\n",
              "    </tr>\n",
              "  </thead>\n",
              "  <tbody>\n",
              "    <tr>\n",
              "      <th>101</th>\n",
              "      <td>3.647303</td>\n",
              "      <td>0.995868</td>\n",
              "      <td>3.497925</td>\n",
              "      <td>3.655602</td>\n",
              "      <td>1.568465</td>\n",
              "      <td>0.352697</td>\n",
              "      <td>1.572614</td>\n",
              "      <td>1.377593</td>\n",
              "    </tr>\n",
              "    <tr>\n",
              "      <th>102</th>\n",
              "      <td>8.311203</td>\n",
              "      <td>5.528926</td>\n",
              "      <td>14.248963</td>\n",
              "      <td>13.950207</td>\n",
              "      <td>4.394191</td>\n",
              "      <td>1.921162</td>\n",
              "      <td>5.651452</td>\n",
              "      <td>5.282158</td>\n",
              "    </tr>\n",
              "    <tr>\n",
              "      <th>103</th>\n",
              "      <td>4.406639</td>\n",
              "      <td>4.004132</td>\n",
              "      <td>8.360996</td>\n",
              "      <td>9.041494</td>\n",
              "      <td>1.576763</td>\n",
              "      <td>1.730290</td>\n",
              "      <td>2.983402</td>\n",
              "      <td>3.356846</td>\n",
              "    </tr>\n",
              "    <tr>\n",
              "      <th>104</th>\n",
              "      <td>2.456432</td>\n",
              "      <td>6.115702</td>\n",
              "      <td>12.099585</td>\n",
              "      <td>9.236515</td>\n",
              "      <td>1.012448</td>\n",
              "      <td>2.838174</td>\n",
              "      <td>5.340249</td>\n",
              "      <td>3.626556</td>\n",
              "    </tr>\n",
              "    <tr>\n",
              "      <th>105</th>\n",
              "      <td>2.995851</td>\n",
              "      <td>2.012397</td>\n",
              "      <td>6.041494</td>\n",
              "      <td>5.012448</td>\n",
              "      <td>1.468880</td>\n",
              "      <td>0.834025</td>\n",
              "      <td>2.141079</td>\n",
              "      <td>1.867220</td>\n",
              "    </tr>\n",
              "  </tbody>\n",
              "</table>\n",
              "</div>"
            ],
            "text/plain": [
              "       cg_dep    cg_arr     tg_dep     tg_arr     8_dep     8_arr    18_dep  \\\n",
              "ID                                                                            \n",
              "101  3.647303  0.995868   3.497925   3.655602  1.568465  0.352697  1.572614   \n",
              "102  8.311203  5.528926  14.248963  13.950207  4.394191  1.921162  5.651452   \n",
              "103  4.406639  4.004132   8.360996   9.041494  1.576763  1.730290  2.983402   \n",
              "104  2.456432  6.115702  12.099585   9.236515  1.012448  2.838174  5.340249   \n",
              "105  2.995851  2.012397   6.041494   5.012448  1.468880  0.834025  2.141079   \n",
              "\n",
              "       18_arr  \n",
              "ID             \n",
              "101  1.377593  \n",
              "102  5.282158  \n",
              "103  3.356846  \n",
              "104  3.626556  \n",
              "105  1.867220  "
            ]
          },
          "metadata": {
            "tags": []
          },
          "execution_count": 45
        }
      ]
    },
    {
      "metadata": {
        "id": "JEBEwuKMciZQ",
        "colab_type": "code",
        "outputId": "7ec900dd-e3c5-4087-cf18-f6b15cf2f118",
        "colab": {}
      },
      "cell_type": "code",
      "source": [
        "nr_df_group1.describe()"
      ],
      "execution_count": 0,
      "outputs": [
        {
          "output_type": "execute_result",
          "data": {
            "text/html": [
              "<div>\n",
              "<style scoped>\n",
              "    .dataframe tbody tr th:only-of-type {\n",
              "        vertical-align: middle;\n",
              "    }\n",
              "\n",
              "    .dataframe tbody tr th {\n",
              "        vertical-align: top;\n",
              "    }\n",
              "\n",
              "    .dataframe thead th {\n",
              "        text-align: right;\n",
              "    }\n",
              "</style>\n",
              "<table border=\"1\" class=\"dataframe\">\n",
              "  <thead>\n",
              "    <tr style=\"text-align: right;\">\n",
              "      <th></th>\n",
              "      <th>cg_dep</th>\n",
              "      <th>cg_arr</th>\n",
              "      <th>tg_dep</th>\n",
              "      <th>tg_arr</th>\n",
              "      <th>8_dep</th>\n",
              "      <th>8_arr</th>\n",
              "      <th>18_dep</th>\n",
              "      <th>18_arr</th>\n",
              "    </tr>\n",
              "  </thead>\n",
              "  <tbody>\n",
              "    <tr>\n",
              "      <th>count</th>\n",
              "      <td>1313.000000</td>\n",
              "      <td>1313.000000</td>\n",
              "      <td>1317.000000</td>\n",
              "      <td>1317.000000</td>\n",
              "      <td>1310.000000</td>\n",
              "      <td>1310.000000</td>\n",
              "      <td>1315.000000</td>\n",
              "      <td>1315.000000</td>\n",
              "    </tr>\n",
              "    <tr>\n",
              "      <th>mean</th>\n",
              "      <td>2.755490</td>\n",
              "      <td>2.678825</td>\n",
              "      <td>4.628279</td>\n",
              "      <td>4.387272</td>\n",
              "      <td>1.349973</td>\n",
              "      <td>1.384736</td>\n",
              "      <td>2.004433</td>\n",
              "      <td>1.757973</td>\n",
              "    </tr>\n",
              "    <tr>\n",
              "      <th>std</th>\n",
              "      <td>2.672096</td>\n",
              "      <td>3.843834</td>\n",
              "      <td>4.485290</td>\n",
              "      <td>4.090288</td>\n",
              "      <td>1.441301</td>\n",
              "      <td>2.217494</td>\n",
              "      <td>2.131253</td>\n",
              "      <td>1.716674</td>\n",
              "    </tr>\n",
              "    <tr>\n",
              "      <th>min</th>\n",
              "      <td>0.000000</td>\n",
              "      <td>0.000000</td>\n",
              "      <td>0.000000</td>\n",
              "      <td>0.004149</td>\n",
              "      <td>0.000000</td>\n",
              "      <td>0.000000</td>\n",
              "      <td>0.000000</td>\n",
              "      <td>0.004149</td>\n",
              "    </tr>\n",
              "    <tr>\n",
              "      <th>25%</th>\n",
              "      <td>0.995851</td>\n",
              "      <td>0.578512</td>\n",
              "      <td>1.676349</td>\n",
              "      <td>1.659751</td>\n",
              "      <td>0.419087</td>\n",
              "      <td>0.254149</td>\n",
              "      <td>0.620332</td>\n",
              "      <td>0.634855</td>\n",
              "    </tr>\n",
              "    <tr>\n",
              "      <th>50%</th>\n",
              "      <td>2.004149</td>\n",
              "      <td>1.438017</td>\n",
              "      <td>3.452282</td>\n",
              "      <td>3.344398</td>\n",
              "      <td>0.919087</td>\n",
              "      <td>0.688797</td>\n",
              "      <td>1.377593</td>\n",
              "      <td>1.311203</td>\n",
              "    </tr>\n",
              "    <tr>\n",
              "      <th>75%</th>\n",
              "      <td>3.630705</td>\n",
              "      <td>3.301653</td>\n",
              "      <td>6.278008</td>\n",
              "      <td>5.950207</td>\n",
              "      <td>1.788382</td>\n",
              "      <td>1.667012</td>\n",
              "      <td>2.665975</td>\n",
              "      <td>2.354772</td>\n",
              "    </tr>\n",
              "    <tr>\n",
              "      <th>max</th>\n",
              "      <td>30.755187</td>\n",
              "      <td>56.917355</td>\n",
              "      <td>46.717842</td>\n",
              "      <td>45.892116</td>\n",
              "      <td>15.506224</td>\n",
              "      <td>30.580913</td>\n",
              "      <td>20.510373</td>\n",
              "      <td>19.423237</td>\n",
              "    </tr>\n",
              "  </tbody>\n",
              "</table>\n",
              "</div>"
            ],
            "text/plain": [
              "            cg_dep       cg_arr       tg_dep       tg_arr        8_dep  \\\n",
              "count  1313.000000  1313.000000  1317.000000  1317.000000  1310.000000   \n",
              "mean      2.755490     2.678825     4.628279     4.387272     1.349973   \n",
              "std       2.672096     3.843834     4.485290     4.090288     1.441301   \n",
              "min       0.000000     0.000000     0.000000     0.004149     0.000000   \n",
              "25%       0.995851     0.578512     1.676349     1.659751     0.419087   \n",
              "50%       2.004149     1.438017     3.452282     3.344398     0.919087   \n",
              "75%       3.630705     3.301653     6.278008     5.950207     1.788382   \n",
              "max      30.755187    56.917355    46.717842    45.892116    15.506224   \n",
              "\n",
              "             8_arr       18_dep       18_arr  \n",
              "count  1310.000000  1315.000000  1315.000000  \n",
              "mean      1.384736     2.004433     1.757973  \n",
              "std       2.217494     2.131253     1.716674  \n",
              "min       0.000000     0.000000     0.004149  \n",
              "25%       0.254149     0.620332     0.634855  \n",
              "50%       0.688797     1.377593     1.311203  \n",
              "75%       1.667012     2.665975     2.354772  \n",
              "max      30.580913    20.510373    19.423237  "
            ]
          },
          "metadata": {
            "tags": []
          },
          "execution_count": 46
        }
      ]
    },
    {
      "metadata": {
        "id": "aSZpOUNCciZU",
        "colab_type": "code",
        "colab": {}
      },
      "cell_type": "code",
      "source": [
        "# 지도 정보를 불러옵니다\n",
        "loc = pd.read_csv('Rag_ID_map.csv')"
      ],
      "execution_count": 0,
      "outputs": []
    },
    {
      "metadata": {
        "id": "OSFsestpciZW",
        "colab_type": "code",
        "colab": {}
      },
      "cell_type": "code",
      "source": [
        "loc = loc[['ID','lat','long']]\n",
        "loc = loc.set_index(keys='ID')\n",
        "loc.head()"
      ],
      "execution_count": 0,
      "outputs": []
    },
    {
      "metadata": {
        "id": "WUgzRln3ciZa",
        "colab_type": "code",
        "colab": {}
      },
      "cell_type": "code",
      "source": [
        "print(len(nr_df_group1), len(loc))"
      ],
      "execution_count": 0,
      "outputs": []
    },
    {
      "metadata": {
        "id": "WaJtMpzCciZc",
        "colab_type": "code",
        "colab": {}
      },
      "cell_type": "code",
      "source": [
        "#지도 정보를 기존의 데이터 프레임에 merge 시켜줍니다.\n",
        "nr_df_group2 = pd.merge(nr_df_group1, loc,  left_on='ID', right_on = 'ID', how = 'left')"
      ],
      "execution_count": 0,
      "outputs": []
    },
    {
      "metadata": {
        "id": "xK40xhofciZf",
        "colab_type": "code",
        "outputId": "63cf74c8-591b-4e97-bfe1-a0521505aa15",
        "colab": {}
      },
      "cell_type": "code",
      "source": [
        "nr_df_group2.head()"
      ],
      "execution_count": 0,
      "outputs": [
        {
          "output_type": "execute_result",
          "data": {
            "text/html": [
              "<div>\n",
              "<style scoped>\n",
              "    .dataframe tbody tr th:only-of-type {\n",
              "        vertical-align: middle;\n",
              "    }\n",
              "\n",
              "    .dataframe tbody tr th {\n",
              "        vertical-align: top;\n",
              "    }\n",
              "\n",
              "    .dataframe thead th {\n",
              "        text-align: right;\n",
              "    }\n",
              "</style>\n",
              "<table border=\"1\" class=\"dataframe\">\n",
              "  <thead>\n",
              "    <tr style=\"text-align: right;\">\n",
              "      <th></th>\n",
              "      <th>cg_dep</th>\n",
              "      <th>cg_arr</th>\n",
              "      <th>tg_dep</th>\n",
              "      <th>tg_arr</th>\n",
              "      <th>8_dep</th>\n",
              "      <th>8_arr</th>\n",
              "      <th>18_dep</th>\n",
              "      <th>18_arr</th>\n",
              "      <th>lat</th>\n",
              "      <th>long</th>\n",
              "    </tr>\n",
              "    <tr>\n",
              "      <th>ID</th>\n",
              "      <th></th>\n",
              "      <th></th>\n",
              "      <th></th>\n",
              "      <th></th>\n",
              "      <th></th>\n",
              "      <th></th>\n",
              "      <th></th>\n",
              "      <th></th>\n",
              "      <th></th>\n",
              "      <th></th>\n",
              "    </tr>\n",
              "  </thead>\n",
              "  <tbody>\n",
              "    <tr>\n",
              "      <th>101</th>\n",
              "      <td>3.647303</td>\n",
              "      <td>0.995868</td>\n",
              "      <td>3.497925</td>\n",
              "      <td>3.655602</td>\n",
              "      <td>1.568465</td>\n",
              "      <td>0.352697</td>\n",
              "      <td>1.572614</td>\n",
              "      <td>1.377593</td>\n",
              "      <td>37.549561</td>\n",
              "      <td>126.905754</td>\n",
              "    </tr>\n",
              "    <tr>\n",
              "      <th>102</th>\n",
              "      <td>8.311203</td>\n",
              "      <td>5.528926</td>\n",
              "      <td>14.248963</td>\n",
              "      <td>13.950207</td>\n",
              "      <td>4.394191</td>\n",
              "      <td>1.921162</td>\n",
              "      <td>5.651452</td>\n",
              "      <td>5.282158</td>\n",
              "      <td>37.555649</td>\n",
              "      <td>126.910629</td>\n",
              "    </tr>\n",
              "    <tr>\n",
              "      <th>103</th>\n",
              "      <td>4.406639</td>\n",
              "      <td>4.004132</td>\n",
              "      <td>8.360996</td>\n",
              "      <td>9.041494</td>\n",
              "      <td>1.576763</td>\n",
              "      <td>1.730290</td>\n",
              "      <td>2.983402</td>\n",
              "      <td>3.356846</td>\n",
              "      <td>37.554951</td>\n",
              "      <td>126.910835</td>\n",
              "    </tr>\n",
              "    <tr>\n",
              "      <th>104</th>\n",
              "      <td>2.456432</td>\n",
              "      <td>6.115702</td>\n",
              "      <td>12.099585</td>\n",
              "      <td>9.236515</td>\n",
              "      <td>1.012448</td>\n",
              "      <td>2.838174</td>\n",
              "      <td>5.340249</td>\n",
              "      <td>3.626556</td>\n",
              "      <td>37.550629</td>\n",
              "      <td>126.914986</td>\n",
              "    </tr>\n",
              "    <tr>\n",
              "      <th>105</th>\n",
              "      <td>2.995851</td>\n",
              "      <td>2.012397</td>\n",
              "      <td>6.041494</td>\n",
              "      <td>5.012448</td>\n",
              "      <td>1.468880</td>\n",
              "      <td>0.834025</td>\n",
              "      <td>2.141079</td>\n",
              "      <td>1.867220</td>\n",
              "      <td>37.550007</td>\n",
              "      <td>126.914825</td>\n",
              "    </tr>\n",
              "  </tbody>\n",
              "</table>\n",
              "</div>"
            ],
            "text/plain": [
              "       cg_dep    cg_arr     tg_dep     tg_arr     8_dep     8_arr    18_dep  \\\n",
              "ID                                                                            \n",
              "101  3.647303  0.995868   3.497925   3.655602  1.568465  0.352697  1.572614   \n",
              "102  8.311203  5.528926  14.248963  13.950207  4.394191  1.921162  5.651452   \n",
              "103  4.406639  4.004132   8.360996   9.041494  1.576763  1.730290  2.983402   \n",
              "104  2.456432  6.115702  12.099585   9.236515  1.012448  2.838174  5.340249   \n",
              "105  2.995851  2.012397   6.041494   5.012448  1.468880  0.834025  2.141079   \n",
              "\n",
              "       18_arr        lat        long  \n",
              "ID                                    \n",
              "101  1.377593  37.549561  126.905754  \n",
              "102  5.282158  37.555649  126.910629  \n",
              "103  3.356846  37.554951  126.910835  \n",
              "104  3.626556  37.550629  126.914986  \n",
              "105  1.867220  37.550007  126.914825  "
            ]
          },
          "metadata": {
            "tags": []
          },
          "execution_count": 51
        }
      ]
    },
    {
      "metadata": {
        "id": "O20C1TLDciZi",
        "colab_type": "code",
        "colab": {}
      },
      "cell_type": "code",
      "source": [
        "nr_df_group2.to_csv('nr_avg_by_day.csv',mode='w')"
      ],
      "execution_count": 0,
      "outputs": []
    },
    {
      "metadata": {
        "id": "gbNvUScaciZm",
        "colab_type": "code",
        "colab": {}
      },
      "cell_type": "code",
      "source": [
        "Clst_Data = nr_df_group1.copy()"
      ],
      "execution_count": 0,
      "outputs": []
    },
    {
      "metadata": {
        "id": "_b4JY7HXciZp",
        "colab_type": "code",
        "outputId": "f8206d95-d94d-426a-aafd-7c724a4e418b",
        "colab": {}
      },
      "cell_type": "code",
      "source": [
        "# 그룹화를 위해 na가 포함된 행을 삭제합니다.\n",
        "print(len(Clst_Data))\n",
        "Clst_Data = Clst_Data.dropna()\n",
        "print(len(Clst_Data))\n"
      ],
      "execution_count": 0,
      "outputs": [
        {
          "output_type": "stream",
          "text": [
            "1486\n",
            "1476\n"
          ],
          "name": "stdout"
        }
      ]
    },
    {
      "metadata": {
        "id": "X0Enru2TciZt",
        "colab_type": "code",
        "colab": {}
      },
      "cell_type": "code",
      "source": [
        "sns.set(font_scale=1.3)\n",
        "plt.figure(figsize = (10,10))\n",
        "sns.heatmap(Clst_Data.corr(), annot=True, fmt='.2f', linewidths = 1, cmap = 'Reds', vmin=0.3)"
      ],
      "execution_count": 0,
      "outputs": []
    },
    {
      "metadata": {
        "id": "XpY_5NIXciZx",
        "colab_type": "code",
        "colab": {}
      },
      "cell_type": "code",
      "source": [
        "from sklearn.cluster import DBSCAN, AgglomerativeClustering\n",
        "from sklearn.preprocessing import StandardScaler"
      ],
      "execution_count": 0,
      "outputs": []
    },
    {
      "metadata": {
        "id": "Caz4tef8ciZ4",
        "colab_type": "code",
        "colab": {}
      },
      "cell_type": "code",
      "source": [
        "agg1 = AgglomerativeClustering(n_clusters = 16)\n",
        "cluster1 = pd.DataFrame(agg1.fit_predict(Clst_Data))\n",
        "cluster1.columns=['cluster']\n",
        "cluster1.index = Clst_Data.index\n",
        "Result_agg1 = pd.concat([Clst_Data, cluster1], axis = 1)"
      ],
      "execution_count": 0,
      "outputs": []
    },
    {
      "metadata": {
        "id": "waCQDTERciZ6",
        "colab_type": "code",
        "colab": {}
      },
      "cell_type": "code",
      "source": [
        "Result_agg1.to_csv('Result1.csv',mode='w')"
      ],
      "execution_count": 0,
      "outputs": []
    },
    {
      "metadata": {
        "id": "vZ6CruUZciZ8",
        "colab_type": "code",
        "colab": {}
      },
      "cell_type": "code",
      "source": [
        "Result_agg1_map = pd.merge(Result_agg1, loc,  left_on='ID', right_on = 'ID', how = 'left')"
      ],
      "execution_count": 0,
      "outputs": []
    },
    {
      "metadata": {
        "id": "shMSVQ9aciZ_",
        "colab_type": "code",
        "colab": {}
      },
      "cell_type": "code",
      "source": [
        "x = Result_agg1_map['long']\n",
        "y = Result_agg1_map['lat']\n",
        "col = Result_agg1_map['cluster']\n",
        "\n",
        "%matplotlib inline\n",
        "with plt.style.context('ggplot'):\n",
        "    \n",
        "    plt.figure(figsize=(10, 10))\n",
        "    plt.scatter(x, y, c=col, s= 20)\n",
        "    plt.legend()\n",
        "    plt.title('Grouping by usage pattern')\n",
        "    plt.show()\n"
      ],
      "execution_count": 0,
      "outputs": []
    },
    {
      "metadata": {
        "id": "OO_3P1YAciaB",
        "colab_type": "text"
      },
      "cell_type": "markdown",
      "source": [
        "### 2차시도"
      ]
    },
    {
      "metadata": {
        "id": "q7AQ8xhVciaC",
        "colab_type": "code",
        "colab": {}
      },
      "cell_type": "code",
      "source": [
        "clst_cg = Clst_Data[['cg_dep', 'cg_arr']]"
      ],
      "execution_count": 0,
      "outputs": []
    },
    {
      "metadata": {
        "id": "DoxofKrIciaE",
        "colab_type": "code",
        "colab": {}
      },
      "cell_type": "code",
      "source": [
        "agg2 = AgglomerativeClustering(n_clusters = 4)\n",
        "cluster2 = pd.DataFrame(agg2.fit_predict(clst_cg))\n",
        "cluster2.columns=['cluster']\n",
        "cluster2.index = Clst_Data.index\n",
        "Result_agg2 = pd.concat([clst_cg, cluster2], axis = 1)"
      ],
      "execution_count": 0,
      "outputs": []
    },
    {
      "metadata": {
        "id": "Nh_oStUFciaI",
        "colab_type": "code",
        "colab": {}
      },
      "cell_type": "code",
      "source": [
        "Result_agg2.to_csv('Result_cg.csv',mode='w')"
      ],
      "execution_count": 0,
      "outputs": []
    },
    {
      "metadata": {
        "id": "g9ey4WJsciat",
        "colab_type": "text"
      },
      "cell_type": "markdown",
      "source": [
        "# 10. 동차니의 커뮤니티 데이터와 합침 "
      ]
    },
    {
      "metadata": {
        "id": "ZaAnds9Eciau",
        "colab_type": "code",
        "colab": {}
      },
      "cell_type": "code",
      "source": [
        "cmnt = pd.read_csv('nonred_comm_list.csv')"
      ],
      "execution_count": 0,
      "outputs": []
    },
    {
      "metadata": {
        "id": "BytVOr1ociaw",
        "colab_type": "code",
        "outputId": "e547b83d-d04f-44a5-819c-f84015bbba07",
        "colab": {}
      },
      "cell_type": "code",
      "source": [
        "cmnt = cmnt[['ID', 'nonred_chulgeun_Membership', 'nonred_toegeun_Membership']]\n",
        "cmnt.columns = ['ID', 'cg_com', 'tg_com']\n",
        "cmnt.head()"
      ],
      "execution_count": 0,
      "outputs": [
        {
          "output_type": "execute_result",
          "data": {
            "text/html": [
              "<div>\n",
              "<style scoped>\n",
              "    .dataframe tbody tr th:only-of-type {\n",
              "        vertical-align: middle;\n",
              "    }\n",
              "\n",
              "    .dataframe tbody tr th {\n",
              "        vertical-align: top;\n",
              "    }\n",
              "\n",
              "    .dataframe thead th {\n",
              "        text-align: right;\n",
              "    }\n",
              "</style>\n",
              "<table border=\"1\" class=\"dataframe\">\n",
              "  <thead>\n",
              "    <tr style=\"text-align: right;\">\n",
              "      <th></th>\n",
              "      <th>ID</th>\n",
              "      <th>cg_com</th>\n",
              "      <th>tg_com</th>\n",
              "    </tr>\n",
              "  </thead>\n",
              "  <tbody>\n",
              "    <tr>\n",
              "      <th>0</th>\n",
              "      <td>101</td>\n",
              "      <td>1.0</td>\n",
              "      <td>6.0</td>\n",
              "    </tr>\n",
              "    <tr>\n",
              "      <th>1</th>\n",
              "      <td>102</td>\n",
              "      <td>1.0</td>\n",
              "      <td>6.0</td>\n",
              "    </tr>\n",
              "    <tr>\n",
              "      <th>2</th>\n",
              "      <td>103</td>\n",
              "      <td>1.0</td>\n",
              "      <td>6.0</td>\n",
              "    </tr>\n",
              "    <tr>\n",
              "      <th>3</th>\n",
              "      <td>104</td>\n",
              "      <td>1.0</td>\n",
              "      <td>6.0</td>\n",
              "    </tr>\n",
              "    <tr>\n",
              "      <th>4</th>\n",
              "      <td>105</td>\n",
              "      <td>1.0</td>\n",
              "      <td>6.0</td>\n",
              "    </tr>\n",
              "  </tbody>\n",
              "</table>\n",
              "</div>"
            ],
            "text/plain": [
              "    ID  cg_com  tg_com\n",
              "0  101     1.0     6.0\n",
              "1  102     1.0     6.0\n",
              "2  103     1.0     6.0\n",
              "3  104     1.0     6.0\n",
              "4  105     1.0     6.0"
            ]
          },
          "metadata": {
            "tags": []
          },
          "execution_count": 23
        }
      ]
    },
    {
      "metadata": {
        "id": "olBYJLqrcia1",
        "colab_type": "code",
        "outputId": "579f5f91-1969-4deb-d1dd-c5e92a805194",
        "colab": {}
      },
      "cell_type": "code",
      "source": [
        "clst_re_map_dropna.head()"
      ],
      "execution_count": 0,
      "outputs": [
        {
          "output_type": "execute_result",
          "data": {
            "text/html": [
              "<div>\n",
              "<style scoped>\n",
              "    .dataframe tbody tr th:only-of-type {\n",
              "        vertical-align: middle;\n",
              "    }\n",
              "\n",
              "    .dataframe tbody tr th {\n",
              "        vertical-align: top;\n",
              "    }\n",
              "\n",
              "    .dataframe thead th {\n",
              "        text-align: right;\n",
              "    }\n",
              "</style>\n",
              "<table border=\"1\" class=\"dataframe\">\n",
              "  <thead>\n",
              "    <tr style=\"text-align: right;\">\n",
              "      <th></th>\n",
              "      <th>ID</th>\n",
              "      <th>cg_dep</th>\n",
              "      <th>cg_arr</th>\n",
              "      <th>cg_diff</th>\n",
              "      <th>cg_clst</th>\n",
              "      <th>tg_dep</th>\n",
              "      <th>tg_arr</th>\n",
              "      <th>tg_diff</th>\n",
              "      <th>tg_clst</th>\n",
              "      <th>8_dep</th>\n",
              "      <th>8_arr</th>\n",
              "      <th>8_diff</th>\n",
              "      <th>8_clst</th>\n",
              "      <th>18_dep</th>\n",
              "      <th>18_arr</th>\n",
              "      <th>18_diff</th>\n",
              "      <th>18_clst</th>\n",
              "      <th>lat</th>\n",
              "      <th>long</th>\n",
              "    </tr>\n",
              "  </thead>\n",
              "  <tbody>\n",
              "    <tr>\n",
              "      <th>0</th>\n",
              "      <td>259</td>\n",
              "      <td>30.755187</td>\n",
              "      <td>4.706612</td>\n",
              "      <td>26.048575</td>\n",
              "      <td>10</td>\n",
              "      <td>10.033195</td>\n",
              "      <td>29.410788</td>\n",
              "      <td>-19.377593</td>\n",
              "      <td>1</td>\n",
              "      <td>15.315353</td>\n",
              "      <td>2.211618</td>\n",
              "      <td>13.103734</td>\n",
              "      <td>9</td>\n",
              "      <td>3.962656</td>\n",
              "      <td>16.182573</td>\n",
              "      <td>-12.219917</td>\n",
              "      <td>2</td>\n",
              "      <td>37.513592</td>\n",
              "      <td>126.925934</td>\n",
              "    </tr>\n",
              "    <tr>\n",
              "      <th>1</th>\n",
              "      <td>274</td>\n",
              "      <td>3.178423</td>\n",
              "      <td>1.809917</td>\n",
              "      <td>1.368506</td>\n",
              "      <td>7</td>\n",
              "      <td>8.746888</td>\n",
              "      <td>16.477178</td>\n",
              "      <td>-7.730290</td>\n",
              "      <td>3</td>\n",
              "      <td>1.751037</td>\n",
              "      <td>0.726141</td>\n",
              "      <td>1.024896</td>\n",
              "      <td>7</td>\n",
              "      <td>3.730290</td>\n",
              "      <td>8.099585</td>\n",
              "      <td>-4.369295</td>\n",
              "      <td>4</td>\n",
              "      <td>37.516651</td>\n",
              "      <td>126.907990</td>\n",
              "    </tr>\n",
              "    <tr>\n",
              "      <th>2</th>\n",
              "      <td>1221</td>\n",
              "      <td>11.655602</td>\n",
              "      <td>2.384298</td>\n",
              "      <td>9.271304</td>\n",
              "      <td>8</td>\n",
              "      <td>5.323651</td>\n",
              "      <td>14.319502</td>\n",
              "      <td>-8.995851</td>\n",
              "      <td>3</td>\n",
              "      <td>6.352697</td>\n",
              "      <td>1.174274</td>\n",
              "      <td>5.178423</td>\n",
              "      <td>8</td>\n",
              "      <td>1.941909</td>\n",
              "      <td>5.614108</td>\n",
              "      <td>-3.672199</td>\n",
              "      <td>4</td>\n",
              "      <td>37.504200</td>\n",
              "      <td>127.087532</td>\n",
              "    </tr>\n",
              "    <tr>\n",
              "      <th>3</th>\n",
              "      <td>257</td>\n",
              "      <td>8.979253</td>\n",
              "      <td>3.297521</td>\n",
              "      <td>5.681732</td>\n",
              "      <td>8</td>\n",
              "      <td>6.278008</td>\n",
              "      <td>12.663900</td>\n",
              "      <td>-6.385892</td>\n",
              "      <td>3</td>\n",
              "      <td>4.381743</td>\n",
              "      <td>1.232365</td>\n",
              "      <td>3.149378</td>\n",
              "      <td>7</td>\n",
              "      <td>2.136929</td>\n",
              "      <td>5.585062</td>\n",
              "      <td>-3.448133</td>\n",
              "      <td>4</td>\n",
              "      <td>37.513844</td>\n",
              "      <td>126.919357</td>\n",
              "    </tr>\n",
              "    <tr>\n",
              "      <th>4</th>\n",
              "      <td>624</td>\n",
              "      <td>8.580913</td>\n",
              "      <td>1.623967</td>\n",
              "      <td>6.956946</td>\n",
              "      <td>8</td>\n",
              "      <td>3.327801</td>\n",
              "      <td>10.182573</td>\n",
              "      <td>-6.854772</td>\n",
              "      <td>3</td>\n",
              "      <td>4.248963</td>\n",
              "      <td>0.531120</td>\n",
              "      <td>3.717842</td>\n",
              "      <td>7</td>\n",
              "      <td>1.091286</td>\n",
              "      <td>4.240664</td>\n",
              "      <td>-3.149378</td>\n",
              "      <td>4</td>\n",
              "      <td>37.574188</td>\n",
              "      <td>127.045891</td>\n",
              "    </tr>\n",
              "  </tbody>\n",
              "</table>\n",
              "</div>"
            ],
            "text/plain": [
              "     ID     cg_dep    cg_arr    cg_diff  cg_clst     tg_dep     tg_arr  \\\n",
              "0   259  30.755187  4.706612  26.048575       10  10.033195  29.410788   \n",
              "1   274   3.178423  1.809917   1.368506        7   8.746888  16.477178   \n",
              "2  1221  11.655602  2.384298   9.271304        8   5.323651  14.319502   \n",
              "3   257   8.979253  3.297521   5.681732        8   6.278008  12.663900   \n",
              "4   624   8.580913  1.623967   6.956946        8   3.327801  10.182573   \n",
              "\n",
              "     tg_diff  tg_clst      8_dep     8_arr     8_diff  8_clst    18_dep  \\\n",
              "0 -19.377593        1  15.315353  2.211618  13.103734       9  3.962656   \n",
              "1  -7.730290        3   1.751037  0.726141   1.024896       7  3.730290   \n",
              "2  -8.995851        3   6.352697  1.174274   5.178423       8  1.941909   \n",
              "3  -6.385892        3   4.381743  1.232365   3.149378       7  2.136929   \n",
              "4  -6.854772        3   4.248963  0.531120   3.717842       7  1.091286   \n",
              "\n",
              "      18_arr    18_diff  18_clst        lat        long  \n",
              "0  16.182573 -12.219917        2  37.513592  126.925934  \n",
              "1   8.099585  -4.369295        4  37.516651  126.907990  \n",
              "2   5.614108  -3.672199        4  37.504200  127.087532  \n",
              "3   5.585062  -3.448133        4  37.513844  126.919357  \n",
              "4   4.240664  -3.149378        4  37.574188  127.045891  "
            ]
          },
          "metadata": {
            "tags": []
          },
          "execution_count": 24
        }
      ]
    },
    {
      "metadata": {
        "id": "rZitWqfocia4",
        "colab_type": "code",
        "colab": {}
      },
      "cell_type": "code",
      "source": [
        "cl = clst_re.set_index('ID')"
      ],
      "execution_count": 0,
      "outputs": []
    },
    {
      "metadata": {
        "id": "JcDdAsW7cia-",
        "colab_type": "code",
        "colab": {}
      },
      "cell_type": "code",
      "source": [
        "cm = cmnt.set_index('ID')"
      ],
      "execution_count": 0,
      "outputs": []
    },
    {
      "metadata": {
        "id": "7vIQetkQcibM",
        "colab_type": "code",
        "outputId": "a57782d7-4d89-4da1-b4a5-06bc723c0fb8",
        "colab": {}
      },
      "cell_type": "code",
      "source": [
        "cl.head()"
      ],
      "execution_count": 0,
      "outputs": [
        {
          "output_type": "execute_result",
          "data": {
            "text/html": [
              "<div>\n",
              "<style scoped>\n",
              "    .dataframe tbody tr th:only-of-type {\n",
              "        vertical-align: middle;\n",
              "    }\n",
              "\n",
              "    .dataframe tbody tr th {\n",
              "        vertical-align: top;\n",
              "    }\n",
              "\n",
              "    .dataframe thead th {\n",
              "        text-align: right;\n",
              "    }\n",
              "</style>\n",
              "<table border=\"1\" class=\"dataframe\">\n",
              "  <thead>\n",
              "    <tr style=\"text-align: right;\">\n",
              "      <th></th>\n",
              "      <th>cg_dep</th>\n",
              "      <th>cg_arr</th>\n",
              "      <th>cg_diff</th>\n",
              "      <th>cg_clst</th>\n",
              "      <th>tg_dep</th>\n",
              "      <th>tg_arr</th>\n",
              "      <th>tg_diff</th>\n",
              "      <th>tg_clst</th>\n",
              "      <th>8_dep</th>\n",
              "      <th>8_arr</th>\n",
              "      <th>8_diff</th>\n",
              "      <th>8_clst</th>\n",
              "      <th>18_dep</th>\n",
              "      <th>18_arr</th>\n",
              "      <th>18_diff</th>\n",
              "      <th>18_clst</th>\n",
              "      <th>lat</th>\n",
              "      <th>long</th>\n",
              "    </tr>\n",
              "    <tr>\n",
              "      <th>ID</th>\n",
              "      <th></th>\n",
              "      <th></th>\n",
              "      <th></th>\n",
              "      <th></th>\n",
              "      <th></th>\n",
              "      <th></th>\n",
              "      <th></th>\n",
              "      <th></th>\n",
              "      <th></th>\n",
              "      <th></th>\n",
              "      <th></th>\n",
              "      <th></th>\n",
              "      <th></th>\n",
              "      <th></th>\n",
              "      <th></th>\n",
              "      <th></th>\n",
              "      <th></th>\n",
              "      <th></th>\n",
              "    </tr>\n",
              "  </thead>\n",
              "  <tbody>\n",
              "    <tr>\n",
              "      <th>259</th>\n",
              "      <td>30.755187</td>\n",
              "      <td>4.706612</td>\n",
              "      <td>26.048575</td>\n",
              "      <td>10</td>\n",
              "      <td>10.033195</td>\n",
              "      <td>29.410788</td>\n",
              "      <td>-19.377593</td>\n",
              "      <td>1</td>\n",
              "      <td>15.315353</td>\n",
              "      <td>2.211618</td>\n",
              "      <td>13.103734</td>\n",
              "      <td>9</td>\n",
              "      <td>3.962656</td>\n",
              "      <td>16.182573</td>\n",
              "      <td>-12.219917</td>\n",
              "      <td>2</td>\n",
              "      <td>37.513592</td>\n",
              "      <td>126.925934</td>\n",
              "    </tr>\n",
              "    <tr>\n",
              "      <th>274</th>\n",
              "      <td>3.178423</td>\n",
              "      <td>1.809917</td>\n",
              "      <td>1.368506</td>\n",
              "      <td>7</td>\n",
              "      <td>8.746888</td>\n",
              "      <td>16.477178</td>\n",
              "      <td>-7.730290</td>\n",
              "      <td>3</td>\n",
              "      <td>1.751037</td>\n",
              "      <td>0.726141</td>\n",
              "      <td>1.024896</td>\n",
              "      <td>7</td>\n",
              "      <td>3.730290</td>\n",
              "      <td>8.099585</td>\n",
              "      <td>-4.369295</td>\n",
              "      <td>4</td>\n",
              "      <td>37.516651</td>\n",
              "      <td>126.907990</td>\n",
              "    </tr>\n",
              "    <tr>\n",
              "      <th>1221</th>\n",
              "      <td>11.655602</td>\n",
              "      <td>2.384298</td>\n",
              "      <td>9.271304</td>\n",
              "      <td>8</td>\n",
              "      <td>5.323651</td>\n",
              "      <td>14.319502</td>\n",
              "      <td>-8.995851</td>\n",
              "      <td>3</td>\n",
              "      <td>6.352697</td>\n",
              "      <td>1.174274</td>\n",
              "      <td>5.178423</td>\n",
              "      <td>8</td>\n",
              "      <td>1.941909</td>\n",
              "      <td>5.614108</td>\n",
              "      <td>-3.672199</td>\n",
              "      <td>4</td>\n",
              "      <td>37.504200</td>\n",
              "      <td>127.087532</td>\n",
              "    </tr>\n",
              "    <tr>\n",
              "      <th>257</th>\n",
              "      <td>8.979253</td>\n",
              "      <td>3.297521</td>\n",
              "      <td>5.681732</td>\n",
              "      <td>8</td>\n",
              "      <td>6.278008</td>\n",
              "      <td>12.663900</td>\n",
              "      <td>-6.385892</td>\n",
              "      <td>3</td>\n",
              "      <td>4.381743</td>\n",
              "      <td>1.232365</td>\n",
              "      <td>3.149378</td>\n",
              "      <td>7</td>\n",
              "      <td>2.136929</td>\n",
              "      <td>5.585062</td>\n",
              "      <td>-3.448133</td>\n",
              "      <td>4</td>\n",
              "      <td>37.513844</td>\n",
              "      <td>126.919357</td>\n",
              "    </tr>\n",
              "    <tr>\n",
              "      <th>624</th>\n",
              "      <td>8.580913</td>\n",
              "      <td>1.623967</td>\n",
              "      <td>6.956946</td>\n",
              "      <td>8</td>\n",
              "      <td>3.327801</td>\n",
              "      <td>10.182573</td>\n",
              "      <td>-6.854772</td>\n",
              "      <td>3</td>\n",
              "      <td>4.248963</td>\n",
              "      <td>0.531120</td>\n",
              "      <td>3.717842</td>\n",
              "      <td>7</td>\n",
              "      <td>1.091286</td>\n",
              "      <td>4.240664</td>\n",
              "      <td>-3.149378</td>\n",
              "      <td>4</td>\n",
              "      <td>37.574188</td>\n",
              "      <td>127.045891</td>\n",
              "    </tr>\n",
              "  </tbody>\n",
              "</table>\n",
              "</div>"
            ],
            "text/plain": [
              "         cg_dep    cg_arr    cg_diff  cg_clst     tg_dep     tg_arr  \\\n",
              "ID                                                                    \n",
              "259   30.755187  4.706612  26.048575       10  10.033195  29.410788   \n",
              "274    3.178423  1.809917   1.368506        7   8.746888  16.477178   \n",
              "1221  11.655602  2.384298   9.271304        8   5.323651  14.319502   \n",
              "257    8.979253  3.297521   5.681732        8   6.278008  12.663900   \n",
              "624    8.580913  1.623967   6.956946        8   3.327801  10.182573   \n",
              "\n",
              "        tg_diff  tg_clst      8_dep     8_arr     8_diff  8_clst    18_dep  \\\n",
              "ID                                                                           \n",
              "259  -19.377593        1  15.315353  2.211618  13.103734       9  3.962656   \n",
              "274   -7.730290        3   1.751037  0.726141   1.024896       7  3.730290   \n",
              "1221  -8.995851        3   6.352697  1.174274   5.178423       8  1.941909   \n",
              "257   -6.385892        3   4.381743  1.232365   3.149378       7  2.136929   \n",
              "624   -6.854772        3   4.248963  0.531120   3.717842       7  1.091286   \n",
              "\n",
              "         18_arr    18_diff  18_clst        lat        long  \n",
              "ID                                                          \n",
              "259   16.182573 -12.219917        2  37.513592  126.925934  \n",
              "274    8.099585  -4.369295        4  37.516651  126.907990  \n",
              "1221   5.614108  -3.672199        4  37.504200  127.087532  \n",
              "257    5.585062  -3.448133        4  37.513844  126.919357  \n",
              "624    4.240664  -3.149378        4  37.574188  127.045891  "
            ]
          },
          "metadata": {
            "tags": []
          },
          "execution_count": 27
        }
      ]
    },
    {
      "metadata": {
        "id": "WIeSCENtcibc",
        "colab_type": "code",
        "outputId": "2da5661d-1077-4ac5-b032-4eb276baf7f7",
        "colab": {}
      },
      "cell_type": "code",
      "source": [
        "clst_w_cmnt = pd.merge(pd.DataFrame(cl), pd.DataFrame(cm), left_index = True, right_index = True, how = 'left')\n",
        "print(len(clst_w_cmnt))\n",
        "clst_w_cmnt.head()"
      ],
      "execution_count": 0,
      "outputs": [
        {
          "output_type": "stream",
          "text": [
            "1317\n"
          ],
          "name": "stdout"
        },
        {
          "output_type": "execute_result",
          "data": {
            "text/html": [
              "<div>\n",
              "<style scoped>\n",
              "    .dataframe tbody tr th:only-of-type {\n",
              "        vertical-align: middle;\n",
              "    }\n",
              "\n",
              "    .dataframe tbody tr th {\n",
              "        vertical-align: top;\n",
              "    }\n",
              "\n",
              "    .dataframe thead th {\n",
              "        text-align: right;\n",
              "    }\n",
              "</style>\n",
              "<table border=\"1\" class=\"dataframe\">\n",
              "  <thead>\n",
              "    <tr style=\"text-align: right;\">\n",
              "      <th></th>\n",
              "      <th>cg_dep</th>\n",
              "      <th>cg_arr</th>\n",
              "      <th>cg_diff</th>\n",
              "      <th>cg_clst</th>\n",
              "      <th>tg_dep</th>\n",
              "      <th>tg_arr</th>\n",
              "      <th>tg_diff</th>\n",
              "      <th>tg_clst</th>\n",
              "      <th>8_dep</th>\n",
              "      <th>8_arr</th>\n",
              "      <th>8_diff</th>\n",
              "      <th>8_clst</th>\n",
              "      <th>18_dep</th>\n",
              "      <th>18_arr</th>\n",
              "      <th>18_diff</th>\n",
              "      <th>18_clst</th>\n",
              "      <th>lat</th>\n",
              "      <th>long</th>\n",
              "      <th>cg_com</th>\n",
              "      <th>tg_com</th>\n",
              "    </tr>\n",
              "    <tr>\n",
              "      <th>ID</th>\n",
              "      <th></th>\n",
              "      <th></th>\n",
              "      <th></th>\n",
              "      <th></th>\n",
              "      <th></th>\n",
              "      <th></th>\n",
              "      <th></th>\n",
              "      <th></th>\n",
              "      <th></th>\n",
              "      <th></th>\n",
              "      <th></th>\n",
              "      <th></th>\n",
              "      <th></th>\n",
              "      <th></th>\n",
              "      <th></th>\n",
              "      <th></th>\n",
              "      <th></th>\n",
              "      <th></th>\n",
              "      <th></th>\n",
              "      <th></th>\n",
              "    </tr>\n",
              "  </thead>\n",
              "  <tbody>\n",
              "    <tr>\n",
              "      <th>259</th>\n",
              "      <td>30.755187</td>\n",
              "      <td>4.706612</td>\n",
              "      <td>26.048575</td>\n",
              "      <td>10</td>\n",
              "      <td>10.033195</td>\n",
              "      <td>29.410788</td>\n",
              "      <td>-19.377593</td>\n",
              "      <td>1</td>\n",
              "      <td>15.315353</td>\n",
              "      <td>2.211618</td>\n",
              "      <td>13.103734</td>\n",
              "      <td>9</td>\n",
              "      <td>3.962656</td>\n",
              "      <td>16.182573</td>\n",
              "      <td>-12.219917</td>\n",
              "      <td>2</td>\n",
              "      <td>37.513592</td>\n",
              "      <td>126.925934</td>\n",
              "      <td>8.0</td>\n",
              "      <td>2.0</td>\n",
              "    </tr>\n",
              "    <tr>\n",
              "      <th>274</th>\n",
              "      <td>3.178423</td>\n",
              "      <td>1.809917</td>\n",
              "      <td>1.368506</td>\n",
              "      <td>7</td>\n",
              "      <td>8.746888</td>\n",
              "      <td>16.477178</td>\n",
              "      <td>-7.730290</td>\n",
              "      <td>3</td>\n",
              "      <td>1.751037</td>\n",
              "      <td>0.726141</td>\n",
              "      <td>1.024896</td>\n",
              "      <td>7</td>\n",
              "      <td>3.730290</td>\n",
              "      <td>8.099585</td>\n",
              "      <td>-4.369295</td>\n",
              "      <td>4</td>\n",
              "      <td>37.516651</td>\n",
              "      <td>126.907990</td>\n",
              "      <td>8.0</td>\n",
              "      <td>2.0</td>\n",
              "    </tr>\n",
              "    <tr>\n",
              "      <th>1221</th>\n",
              "      <td>11.655602</td>\n",
              "      <td>2.384298</td>\n",
              "      <td>9.271304</td>\n",
              "      <td>8</td>\n",
              "      <td>5.323651</td>\n",
              "      <td>14.319502</td>\n",
              "      <td>-8.995851</td>\n",
              "      <td>3</td>\n",
              "      <td>6.352697</td>\n",
              "      <td>1.174274</td>\n",
              "      <td>5.178423</td>\n",
              "      <td>8</td>\n",
              "      <td>1.941909</td>\n",
              "      <td>5.614108</td>\n",
              "      <td>-3.672199</td>\n",
              "      <td>4</td>\n",
              "      <td>37.504200</td>\n",
              "      <td>127.087532</td>\n",
              "      <td>5.0</td>\n",
              "      <td>3.0</td>\n",
              "    </tr>\n",
              "    <tr>\n",
              "      <th>257</th>\n",
              "      <td>8.979253</td>\n",
              "      <td>3.297521</td>\n",
              "      <td>5.681732</td>\n",
              "      <td>8</td>\n",
              "      <td>6.278008</td>\n",
              "      <td>12.663900</td>\n",
              "      <td>-6.385892</td>\n",
              "      <td>3</td>\n",
              "      <td>4.381743</td>\n",
              "      <td>1.232365</td>\n",
              "      <td>3.149378</td>\n",
              "      <td>7</td>\n",
              "      <td>2.136929</td>\n",
              "      <td>5.585062</td>\n",
              "      <td>-3.448133</td>\n",
              "      <td>4</td>\n",
              "      <td>37.513844</td>\n",
              "      <td>126.919357</td>\n",
              "      <td>8.0</td>\n",
              "      <td>2.0</td>\n",
              "    </tr>\n",
              "    <tr>\n",
              "      <th>624</th>\n",
              "      <td>8.580913</td>\n",
              "      <td>1.623967</td>\n",
              "      <td>6.956946</td>\n",
              "      <td>8</td>\n",
              "      <td>3.327801</td>\n",
              "      <td>10.182573</td>\n",
              "      <td>-6.854772</td>\n",
              "      <td>3</td>\n",
              "      <td>4.248963</td>\n",
              "      <td>0.531120</td>\n",
              "      <td>3.717842</td>\n",
              "      <td>7</td>\n",
              "      <td>1.091286</td>\n",
              "      <td>4.240664</td>\n",
              "      <td>-3.149378</td>\n",
              "      <td>4</td>\n",
              "      <td>37.574188</td>\n",
              "      <td>127.045891</td>\n",
              "      <td>6.0</td>\n",
              "      <td>4.0</td>\n",
              "    </tr>\n",
              "  </tbody>\n",
              "</table>\n",
              "</div>"
            ],
            "text/plain": [
              "         cg_dep    cg_arr    cg_diff  cg_clst     tg_dep     tg_arr  \\\n",
              "ID                                                                    \n",
              "259   30.755187  4.706612  26.048575       10  10.033195  29.410788   \n",
              "274    3.178423  1.809917   1.368506        7   8.746888  16.477178   \n",
              "1221  11.655602  2.384298   9.271304        8   5.323651  14.319502   \n",
              "257    8.979253  3.297521   5.681732        8   6.278008  12.663900   \n",
              "624    8.580913  1.623967   6.956946        8   3.327801  10.182573   \n",
              "\n",
              "        tg_diff  tg_clst      8_dep     8_arr     8_diff  8_clst    18_dep  \\\n",
              "ID                                                                           \n",
              "259  -19.377593        1  15.315353  2.211618  13.103734       9  3.962656   \n",
              "274   -7.730290        3   1.751037  0.726141   1.024896       7  3.730290   \n",
              "1221  -8.995851        3   6.352697  1.174274   5.178423       8  1.941909   \n",
              "257   -6.385892        3   4.381743  1.232365   3.149378       7  2.136929   \n",
              "624   -6.854772        3   4.248963  0.531120   3.717842       7  1.091286   \n",
              "\n",
              "         18_arr    18_diff  18_clst        lat        long  cg_com  tg_com  \n",
              "ID                                                                          \n",
              "259   16.182573 -12.219917        2  37.513592  126.925934     8.0     2.0  \n",
              "274    8.099585  -4.369295        4  37.516651  126.907990     8.0     2.0  \n",
              "1221   5.614108  -3.672199        4  37.504200  127.087532     5.0     3.0  \n",
              "257    5.585062  -3.448133        4  37.513844  126.919357     8.0     2.0  \n",
              "624    4.240664  -3.149378        4  37.574188  127.045891     6.0     4.0  "
            ]
          },
          "metadata": {
            "tags": []
          },
          "execution_count": 28
        }
      ]
    },
    {
      "metadata": {
        "id": "AajLq5iJcibh",
        "colab_type": "code",
        "colab": {}
      },
      "cell_type": "code",
      "source": [
        "clst_w_cmnt = clst_w_cmnt.dropna()"
      ],
      "execution_count": 0,
      "outputs": []
    },
    {
      "metadata": {
        "id": "QPqAKxvncibr",
        "colab_type": "code",
        "outputId": "186b113e-0a86-4039-adc3-b4de7d38711d",
        "colab": {}
      },
      "cell_type": "code",
      "source": [
        "len(clst_w_cmnt)"
      ],
      "execution_count": 0,
      "outputs": [
        {
          "output_type": "execute_result",
          "data": {
            "text/plain": [
              "1303"
            ]
          },
          "metadata": {
            "tags": []
          },
          "execution_count": 41
        }
      ]
    },
    {
      "metadata": {
        "id": "Gg9pDJdpcibz",
        "colab_type": "code",
        "colab": {}
      },
      "cell_type": "code",
      "source": [
        "clst_w_cmnt.to_csv('clst_w_cmnt.csv',mode='w')"
      ],
      "execution_count": 0,
      "outputs": []
    }
  ]
}