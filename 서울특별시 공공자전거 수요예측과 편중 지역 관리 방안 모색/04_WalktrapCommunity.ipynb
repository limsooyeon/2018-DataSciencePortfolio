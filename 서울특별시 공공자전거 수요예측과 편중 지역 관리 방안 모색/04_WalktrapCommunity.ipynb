{
 "cells": [
  {
   "cell_type": "markdown",
   "metadata": {},
   "source": [
    "# 평일"
   ]
  },
  {
   "cell_type": "markdown",
   "metadata": {},
   "source": [
    "* 출근 시간대"
   ]
  },
  {
   "cell_type": "code",
   "execution_count": null,
   "metadata": {},
   "outputs": [],
   "source": [
    "nonred_chulgeun_mat <- read.csv('C:/Users/student/OneDrive/dr/dh_remove_centers/drr_with_timeAndRed_category/matrix/vol2_nonred_chulgeun_mat_1482x1482.csv'\n",
    "                                , header = FALSE)\n",
    "nonred_chulgeun_mat[is.na(nonred_chulgeun_mat)] <- 0\n",
    "\n",
    "ID <- as.integer(as.character(nonred_chulgeun_mat$V1[-1]))\n",
    "\n",
    "temp_nonred_chulgeun <- nonred_chulgeun_mat[-1,]\n",
    "temp_nonred_chulgeun <- temp_nonred_chulgeun[,-1]\n",
    "\n",
    "colnames(temp_nonred_chulgeun) <- ID\n",
    "rownames(temp_nonred_chulgeun) <- ID\n",
    "\n",
    "graph_nonred_chulgeun <- graph_from_adjacency_matrix(as.matrix(temp_nonred_chulgeun), mode = \"directed\",\n",
    "                                                     weighted = TRUE , diag = TRUE)\n",
    "\n",
    "walktrap_nonred_chulgeun <- walktrap.community(graph_nonred_chulgeun,\n",
    "                                               weight = E(graph_nonred_chulgeun)$weight,\n",
    "                                               merges = T, modularity = T)\n",
    "\n",
    "nonred_chulgeun_group <- cbind(ID,walktrap_nonred_chulgeun$membership)\n",
    "colnames(nonred_chulgeun_group) <- c(\"ID\", \"Membership\")"
   ]
  },
  {
   "cell_type": "markdown",
   "metadata": {},
   "source": [
    "* 낮"
   ]
  },
  {
   "cell_type": "code",
   "execution_count": null,
   "metadata": {},
   "outputs": [],
   "source": [
    "nonred_nat_mat <- read.csv('C:/Users/student/OneDrive/dr/dh_remove_centers/drr_with_timeAndRed_category/matrix/vol2_nonred_nat_mat_1487x1487.csv'\n",
    "                           , header = FALSE)\n",
    "nonred_nat_mat[is.na(nonred_nat_mat)] <- 0\n",
    "\n",
    "ID <- as.integer(as.character(nonred_nat_mat$V1[-1]))\n",
    "\n",
    "temp_nonred_nat <- nonred_nat_mat[-1,]\n",
    "temp_nonred_nat <- temp_nonred_nat[,-1]\n",
    "ID <- as.integer(as.character(nonred_nat_mat$V1[-1]))\n",
    "\n",
    "temp_nonred_nat <- nonred_nat_mat[-1,]\n",
    "temp_nonred_nat <- temp_nonred_nat[,-1]\n",
    "\n",
    "colnames(temp_nonred_nat) <- ID\n",
    "rownames(temp_nonred_nat) <- ID\n",
    "\n",
    "graph_nonred_nat <- graph_from_adjacency_matrix(as.matrix(temp_nonred_nat), mode = \"directed\",\n",
    "                                                     weighted = TRUE , diag = TRUE)\n",
    "\n",
    "walktrap_nonred_nat <- walktrap.community(graph_nonred_nat,\n",
    "                                               weight = E(graph_nonred_nat)$weight,\n",
    "                                               merges = T, modularity = T)\n",
    "\n",
    "nonred_nat_group <- cbind(ID,walktrap_nonred_nat$membership)\n",
    "colnames(nonred_nat_group) <- c(\"ID\", \"Membership\")"
   ]
  },
  {
   "cell_type": "markdown",
   "metadata": {},
   "source": [
    "* 퇴근 시간대"
   ]
  },
  {
   "cell_type": "code",
   "execution_count": null,
   "metadata": {},
   "outputs": [],
   "source": [
    "nonred_toegeun_mat <- read.csv('C:/Users/student/OneDrive/dr/dh_remove_centers/drr_with_timeAndRed_category/matrix/vol2_nonred_toegeun_mat_1487x1487.csv'\n",
    "                               , header = FALSE)\n",
    "nonred_toegeun_mat[is.na(nonred_toegeun_mat)] <- 0\n",
    "\n",
    "ID <- as.integer(as.character(nonred_toegeun_mat$V1[-1]))\n",
    "\n",
    "temp_nonred_toegeun <- nonred_toegeun_mat[-1,]\n",
    "temp_nonred_toegeun <- temp_nonred_toegeun[,-1]\n",
    "ID <- as.integer(as.character(nonred_toegeun_mat$V1[-1]))\n",
    "\n",
    "temp_nonred_toegeun <- nonred_toegeun_mat[-1,]\n",
    "temp_nonred_toegeun <- temp_nonred_toegeun[,-1]\n",
    "\n",
    "colnames(temp_nonred_toegeun) <- ID\n",
    "rownames(temp_nonred_toegeun) <- ID\n",
    "\n",
    "graph_nonred_toegeun <- graph_from_adjacency_matrix(as.matrix(temp_nonred_toegeun), mode = \"directed\",\n",
    "                                                     weighted = TRUE , diag = TRUE)\n",
    "\n",
    "walktrap_nonred_toegeun <- walktrap.community(graph_nonred_toegeun,\n",
    "                                               weight = E(graph_nonred_toegeun)$weight,\n",
    "                                               merges = T, modularity = T)\n",
    "\n",
    "nonred_toegeun_group <- cbind(ID,walktrap_nonred_toegeun$membership)\n",
    "colnames(nonred_toegeun_group) <- c(\"ID\", \"Membership\")"
   ]
  },
  {
   "cell_type": "markdown",
   "metadata": {},
   "source": [
    "* 밤"
   ]
  },
  {
   "cell_type": "code",
   "execution_count": null,
   "metadata": {},
   "outputs": [],
   "source": [
    "nonred_bam_mat <- read.csv('C:/Users/student/OneDrive/dr/dh_remove_centers/drr_with_timeAndRed_category/matrix/vol2_nonred_bam_mat_1484x1484.csv'\n",
    "                           , header = FALSE)\n",
    "nonred_bam_mat[is.na(nonred_bam_mat)] <- 0\n",
    "\n",
    "ID <- as.integer(as.character(nonred_bam_mat$V1[-1]))\n",
    "\n",
    "temp_nonred_bam <- nonred_bam_mat[-1,]\n",
    "temp_nonred_bam <- temp_nonred_bam[,-1]\n",
    "ID <- as.integer(as.character(nonred_bam_mat$V1[-1]))\n",
    "\n",
    "temp_nonred_bam <- nonred_bam_mat[-1,]\n",
    "temp_nonred_bam <- temp_nonred_bam[,-1]\n",
    "\n",
    "colnames(temp_nonred_bam) <- ID\n",
    "rownames(temp_nonred_bam) <- ID\n",
    "\n",
    "graph_nonred_bam <- graph_from_adjacency_matrix(as.matrix(temp_nonred_bam), mode = \"directed\",\n",
    "                                                     weighted = TRUE , diag = TRUE)\n",
    "\n",
    "walktrap_nonred_bam <- walktrap.community(graph_nonred_bam,\n",
    "                                               weight = E(graph_nonred_bam)$weight,\n",
    "                                               merges = T, modularity = T)\n",
    "\n",
    "nonred_bam_group <- cbind(ID,walktrap_nonred_bam$membership)\n",
    "colnames(nonred_bam_group) <- c(\"ID\", \"Membership\")"
   ]
  },
  {
   "cell_type": "markdown",
   "metadata": {},
   "source": [
    "* 심야"
   ]
  },
  {
   "cell_type": "code",
   "execution_count": null,
   "metadata": {},
   "outputs": [],
   "source": [
    "nonred_simya_mat <- read.csv('C:/Users/student/OneDrive/dr/dh_remove_centers/drr_with_timeAndRed_category/matrix/vol2_nonred_simya_mat_1481x1481.csv'\n",
    "                             , header = FALSE)\n",
    "nonred_simya_mat[is.na(nonred_simya_mat)] <- 0\n",
    "\n",
    "ID <- as.integer(as.character(nonred_simya_mat$V1[-1]))\n",
    "\n",
    "temp_nonred_simya <- nonred_simya_mat[-1,]\n",
    "temp_nonred_simya <- temp_nonred_simya[,-1]\n",
    "ID <- as.integer(as.character(nonred_simya_mat$V1[-1]))\n",
    "\n",
    "temp_nonred_simya <- nonred_simya_mat[-1,]\n",
    "temp_nonred_simya <- temp_nonred_simya[,-1]\n",
    "\n",
    "colnames(temp_nonred_simya) <- ID\n",
    "rownames(temp_nonred_simya) <- ID\n",
    "\n",
    "graph_nonred_simya <- graph_from_adjacency_matrix(as.matrix(temp_nonred_simya), mode = \"directed\",\n",
    "                                                     weighted = TRUE , diag = TRUE)\n",
    "\n",
    "walktrap_nonred_simya <- walktrap.community(graph_nonred_simya,\n",
    "                                               weight = E(graph_nonred_simya)$weight,\n",
    "                                               merges = T, modularity = T)\n",
    "\n",
    "nonred_simya_group <- cbind(ID,walktrap_nonred_simya$membership)\n",
    "colnames(nonred_simya_group) <- c(\"ID\", \"Membership\")"
   ]
  },
  {
   "cell_type": "markdown",
   "metadata": {},
   "source": [
    "# 휴일"
   ]
  },
  {
   "cell_type": "markdown",
   "metadata": {},
   "source": [
    "* 출근 시간대"
   ]
  },
  {
   "cell_type": "code",
   "execution_count": null,
   "metadata": {},
   "outputs": [],
   "source": [
    "red_chulgeun_mat <- read.csv('C:/Users/student/OneDrive/dr/dh_remove_centers/drr_with_timeAndRed_category/matrix/vol2_red_chulgeun_mat_1463x1463.csv'\n",
    "                             , header = FALSE)\n",
    "red_chulgeun_mat[is.na(red_chulgeun_mat)] <- 0\n",
    "\n",
    "ID <- as.integer(as.character(red_chulgeun_mat$V1[-1]))\n",
    "\n",
    "\n",
    "ID <- as.integer(as.character(red_chulgeun_mat$V1[-1]))\n",
    "\n",
    "temp_red_chulgeun <- red_chulgeun_mat[-1,]\n",
    "temp_red_chulgeun <- temp_red_chulgeun[,-1]\n",
    "\n",
    "colnames(temp_red_chulgeun) <- ID\n",
    "rownames(temp_red_chulgeun) <- ID\n",
    "\n",
    "graph_red_chulgeun <- graph_from_adjacency_matrix(as.matrix(temp_red_chulgeun), mode = \"directed\",\n",
    "                                                     weighted = TRUE , diag = TRUE)\n",
    "\n",
    "walktrap_red_chulgeun <- walktrap.community(graph_red_chulgeun,\n",
    "                                               weight = E(graph_red_chulgeun)$weight,\n",
    "                                               merges = T, modularity = T)\n",
    "\n",
    "red_chulgeun_group <- cbind(ID,walktrap_red_chulgeun$membership)\n",
    "colnames(red_chulgeun_group) <- c(\"ID\", \"Membership\")"
   ]
  },
  {
   "cell_type": "markdown",
   "metadata": {},
   "source": [
    "* 낮"
   ]
  },
  {
   "cell_type": "code",
   "execution_count": null,
   "metadata": {},
   "outputs": [],
   "source": [
    "red_nat_mat <- read.csv('C:/Users/student/OneDrive/dr/dh_remove_centers/drr_with_timeAndRed_category/matrix/vol2_red_nat_mat_1487x1487.csv'\n",
    "                        , header = FALSE)\n",
    "red_nat_mat[is.na(red_nat_mat)] <- 0\n",
    "\n",
    "ID <- as.integer(as.character(red_nat_mat$V1[-1]))\n",
    "\n",
    "temp_red_nat <- red_nat_mat[-1,]\n",
    "temp_red_nat <- temp_red_nat[,-1]\n",
    "ID <- as.integer(as.character(red_nat_mat$V1[-1]))\n",
    "\n",
    "temp_red_nat <- red_nat_mat[-1,]\n",
    "temp_red_nat <- temp_red_nat[,-1]\n",
    "\n",
    "colnames(temp_red_nat) <- ID\n",
    "rownames(temp_red_nat) <- ID\n",
    "\n",
    "graph_red_nat <- graph_from_adjacency_matrix(as.matrix(temp_red_nat), mode = \"directed\",\n",
    "                                                weighted = TRUE , diag = TRUE)\n",
    "\n",
    "walktrap_red_nat <- walktrap.community(graph_red_nat,\n",
    "                                          weight = E(graph_red_nat)$weight,\n",
    "                                          merges = T, modularity = T)\n",
    "\n",
    "red_nat_group <- cbind(ID,walktrap_red_nat$membership)\n",
    "colnames(red_nat_group) <- c(\"ID\", \"Membership\")"
   ]
  },
  {
   "cell_type": "markdown",
   "metadata": {},
   "source": [
    "* 퇴근 시간대"
   ]
  },
  {
   "cell_type": "code",
   "execution_count": null,
   "metadata": {},
   "outputs": [],
   "source": [
    "red_toegeun_mat <- read.csv('C:/Users/student/OneDrive/dr/dh_remove_centers/drr_with_timeAndRed_category/matrix/vol2_red_toegeun_mat_1476x1476.csv'\n",
    "                            , header = FALSE)\n",
    "red_toegeun_mat[is.na(red_toegeun_mat)] <- 0\n",
    "ID <- as.integer(as.character(red_toegeun_mat$V1[-1]))\n",
    "\n",
    "temp_red_toegeun <- red_toegeun_mat[-1,]\n",
    "temp_red_toegeun <- temp_red_toegeun[,-1]\n",
    "ID <- as.integer(as.character(red_toegeun_mat$V1[-1]))\n",
    "\n",
    "temp_red_toegeun <- red_toegeun_mat[-1,]\n",
    "temp_red_toegeun <- temp_red_toegeun[,-1]\n",
    "\n",
    "colnames(temp_red_toegeun) <- ID\n",
    "rownames(temp_red_toegeun) <- ID\n",
    "\n",
    "graph_red_toegeun <- graph_from_adjacency_matrix(as.matrix(temp_red_toegeun), mode = \"directed\",\n",
    "                                                    weighted = TRUE , diag = TRUE)\n",
    "\n",
    "walktrap_red_toegeun <- walktrap.community(graph_red_toegeun,\n",
    "                                              weight = E(graph_red_toegeun)$weight,\n",
    "                                              merges = T, modularity = T)\n",
    "\n",
    "red_toegeun_group <- cbind(ID,walktrap_red_toegeun$membership)\n",
    "colnames(red_toegeun_group) <- c(\"ID\", \"Membership\")"
   ]
  },
  {
   "cell_type": "markdown",
   "metadata": {},
   "source": [
    "* 밤"
   ]
  },
  {
   "cell_type": "code",
   "execution_count": null,
   "metadata": {},
   "outputs": [],
   "source": [
    "red_bam_mat <- read.csv('C:/Users/student/OneDrive/dr/dh_remove_centers/drr_with_timeAndRed_category/matrix/vol2_red_bam_mat_1474x1474.csv'\n",
    "                        , header = FALSE)\n",
    "red_bam_mat[is.na(red_bam_mat)] <- 0\n",
    "\n",
    "\n",
    "ID <- as.integer(as.character(red_bam_mat$V1[-1]))\n",
    "\n",
    "temp_red_bam <- red_bam_mat[-1,]\n",
    "temp_red_bam <- temp_red_bam[,-1]\n",
    "ID <- as.integer(as.character(red_bam_mat$V1[-1]))\n",
    "\n",
    "temp_red_bam <- red_bam_mat[-1,]\n",
    "temp_red_bam <- temp_red_bam[,-1]\n",
    "\n",
    "colnames(temp_red_bam) <- ID\n",
    "rownames(temp_red_bam) <- ID\n",
    "\n",
    "graph_red_bam <- graph_from_adjacency_matrix(as.matrix(temp_red_bam), mode = \"directed\",\n",
    "                                                weighted = TRUE , diag = TRUE)\n",
    "\n",
    "walktrap_red_bam <- walktrap.community(graph_red_bam,\n",
    "                                          weight = E(graph_red_bam)$weight,\n",
    "                                          merges = T, modularity = T)\n",
    "\n",
    "red_bam_group <- cbind(ID,walktrap_red_bam$membership)\n",
    "colnames(red_bam_group) <- c(\"ID\", \"Membership\")"
   ]
  },
  {
   "cell_type": "markdown",
   "metadata": {},
   "source": [
    "* 심야"
   ]
  },
  {
   "cell_type": "code",
   "execution_count": null,
   "metadata": {},
   "outputs": [],
   "source": [
    "red_simya_mat <- read.csv('C:/Users/student/OneDrive/dr/dh_remove_centers/drr_with_timeAndRed_category/matrix/vol2_red_simya_mat_1475x1475.csv'\n",
    "                          , header = FALSE)\n",
    "red_simya_mat[is.na(red_simya_mat)] <- 0\n",
    "\n",
    "ID <- as.integer(as.character(red_simya_mat$V1[-1]))\n",
    "\n",
    "temp_red_simya <- red_simya_mat[-1,]\n",
    "temp_red_simya <- temp_red_simya[,-1]\n",
    "ID <- as.integer(as.character(red_simya_mat$V1[-1]))\n",
    "\n",
    "temp_red_simya <- red_simya_mat[-1,]\n",
    "temp_red_simya <- temp_red_simya[,-1]\n",
    "\n",
    "colnames(temp_red_simya) <- ID\n",
    "rownames(temp_red_simya) <- ID\n",
    "\n",
    "graph_red_simya <- graph_from_adjacency_matrix(as.matrix(temp_red_simya), mode = \"directed\",\n",
    "                                                  weighted = TRUE , diag = TRUE)\n",
    "\n",
    "walktrap_red_simya <- walktrap.community(graph_red_simya,\n",
    "                                            weight = E(graph_red_simya)$weight,\n",
    "                                            merges = T, modularity = T)\n",
    "\n",
    "red_simya_group <- cbind(ID,walktrap_red_simya$membership)\n",
    "colnames(red_simya_group) <- c(\"ID\", \"Membership\")"
   ]
  }
 ],
 "metadata": {
  "kernelspec": {
   "display_name": "R",
   "language": "R",
   "name": "ir"
  },
  "language_info": {
   "codemirror_mode": "r",
   "file_extension": ".r",
   "mimetype": "text/x-r-source",
   "name": "R",
   "pygments_lexer": "r",
   "version": "3.5.1"
  }
 },
 "nbformat": 4,
 "nbformat_minor": 2
}
