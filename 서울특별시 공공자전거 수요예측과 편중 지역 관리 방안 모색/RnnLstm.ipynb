{
  "nbformat": 4,
  "nbformat_minor": 0,
  "metadata": {
    "colab": {
      "name": "FINAL_v1.ipynb의 사본",
      "version": "0.3.2",
      "provenance": [],
      "collapsed_sections": []
    },
    "kernelspec": {
      "display_name": "Python 3",
      "language": "python",
      "name": "python3"
    }
  },
  "cells": [
    {
      "metadata": {
        "id": "1XsX4ERNcidB",
        "colab_type": "text"
      },
      "cell_type": "markdown",
      "source": [
        "# 수요 예측\n",
        "#### 앞서 그룹화된 출/퇴근 시간대의 주요 대여소들을 추려 특정 대여소의 수요를 예측한다.\n",
        "## train data"
      ]
    },
    {
      "metadata": {
        "id": "t__Y88sgcidC",
        "colab_type": "code",
        "colab": {}
      },
      "cell_type": "code",
      "source": [
        "#날씨 데이터 로드\n",
        "climate = pd.read_csv('climate.csv')\n",
        "dust = pd.read_csv('dust.csv')"
      ],
      "execution_count": 0,
      "outputs": []
    },
    {
      "metadata": {
        "id": "og46AijZcidG",
        "colab_type": "code",
        "colab": {}
      },
      "cell_type": "code",
      "source": [
        "climate = climate[['date', 'temp', 'rain']]\n",
        "dust = dust[['date','PM10','PM25']]"
      ],
      "execution_count": 0,
      "outputs": []
    },
    {
      "metadata": {
        "id": "JmCIH2vPcidJ",
        "colab_type": "code",
        "colab": {}
      },
      "cell_type": "code",
      "source": [
        "climate_dust = pd.merge(climate, dust, left_on = 'date', right_on = 'date')\n",
        "\n",
        "climate_dust['date'] = pd.to_datetime(climate_dust['date'])"
      ],
      "execution_count": 0,
      "outputs": []
    },
    {
      "metadata": {
        "id": "VkdITgIRcidM",
        "colab_type": "code",
        "outputId": "7bd647a4-cfb4-440c-c1ab-08c467bf35ed",
        "colab": {}
      },
      "cell_type": "code",
      "source": [
        "print(len(climate), len(dust), len(climate_dust))"
      ],
      "execution_count": 0,
      "outputs": [
        {
          "output_type": "stream",
          "text": [
            "2190 2190 2190\n"
          ],
          "name": "stdout"
        }
      ]
    },
    {
      "metadata": {
        "id": "LRFnMI5Kcidq",
        "colab_type": "code",
        "outputId": "daba9aab-b4bc-48ce-fe30-92d41c3daf9e",
        "colab": {}
      },
      "cell_type": "code",
      "source": [
        "climate_dust.head(6).append(climate_dust.tail(6))"
      ],
      "execution_count": 0,
      "outputs": [
        {
          "output_type": "execute_result",
          "data": {
            "text/html": [
              "<div>\n",
              "<style scoped>\n",
              "    .dataframe tbody tr th:only-of-type {\n",
              "        vertical-align: middle;\n",
              "    }\n",
              "\n",
              "    .dataframe tbody tr th {\n",
              "        vertical-align: top;\n",
              "    }\n",
              "\n",
              "    .dataframe thead th {\n",
              "        text-align: right;\n",
              "    }\n",
              "</style>\n",
              "<table border=\"1\" class=\"dataframe\">\n",
              "  <thead>\n",
              "    <tr style=\"text-align: right;\">\n",
              "      <th></th>\n",
              "      <th>date</th>\n",
              "      <th>temp</th>\n",
              "      <th>rain</th>\n",
              "      <th>PM10</th>\n",
              "      <th>PM25</th>\n",
              "    </tr>\n",
              "  </thead>\n",
              "  <tbody>\n",
              "    <tr>\n",
              "      <th>0</th>\n",
              "      <td>2017-10-01 07:00:00</td>\n",
              "      <td>17.3</td>\n",
              "      <td>0.0</td>\n",
              "      <td>36</td>\n",
              "      <td>25</td>\n",
              "    </tr>\n",
              "    <tr>\n",
              "      <th>1</th>\n",
              "      <td>2017-10-01 08:00:00</td>\n",
              "      <td>17.6</td>\n",
              "      <td>0.0</td>\n",
              "      <td>36</td>\n",
              "      <td>25</td>\n",
              "    </tr>\n",
              "    <tr>\n",
              "      <th>2</th>\n",
              "      <td>2017-10-01 09:00:00</td>\n",
              "      <td>19.3</td>\n",
              "      <td>0.0</td>\n",
              "      <td>33</td>\n",
              "      <td>22</td>\n",
              "    </tr>\n",
              "    <tr>\n",
              "      <th>3</th>\n",
              "      <td>2017-10-01 17:00:00</td>\n",
              "      <td>18.8</td>\n",
              "      <td>0.0</td>\n",
              "      <td>27</td>\n",
              "      <td>17</td>\n",
              "    </tr>\n",
              "    <tr>\n",
              "      <th>4</th>\n",
              "      <td>2017-10-01 18:00:00</td>\n",
              "      <td>18.5</td>\n",
              "      <td>0.0</td>\n",
              "      <td>26</td>\n",
              "      <td>16</td>\n",
              "    </tr>\n",
              "    <tr>\n",
              "      <th>5</th>\n",
              "      <td>2017-10-01 19:00:00</td>\n",
              "      <td>18.3</td>\n",
              "      <td>0.0</td>\n",
              "      <td>24</td>\n",
              "      <td>16</td>\n",
              "    </tr>\n",
              "    <tr>\n",
              "      <th>2184</th>\n",
              "      <td>2018-09-30 07:00:00</td>\n",
              "      <td>15.1</td>\n",
              "      <td>0.0</td>\n",
              "      <td>14</td>\n",
              "      <td>8</td>\n",
              "    </tr>\n",
              "    <tr>\n",
              "      <th>2185</th>\n",
              "      <td>2018-09-30 08:00:00</td>\n",
              "      <td>16.2</td>\n",
              "      <td>0.0</td>\n",
              "      <td>17</td>\n",
              "      <td>9</td>\n",
              "    </tr>\n",
              "    <tr>\n",
              "      <th>2186</th>\n",
              "      <td>2018-09-30 09:00:00</td>\n",
              "      <td>18.5</td>\n",
              "      <td>0.0</td>\n",
              "      <td>13</td>\n",
              "      <td>7</td>\n",
              "    </tr>\n",
              "    <tr>\n",
              "      <th>2187</th>\n",
              "      <td>2018-09-30 17:00:00</td>\n",
              "      <td>20.4</td>\n",
              "      <td>0.0</td>\n",
              "      <td>18</td>\n",
              "      <td>7</td>\n",
              "    </tr>\n",
              "    <tr>\n",
              "      <th>2188</th>\n",
              "      <td>2018-09-30 18:00:00</td>\n",
              "      <td>18.3</td>\n",
              "      <td>0.0</td>\n",
              "      <td>18</td>\n",
              "      <td>9</td>\n",
              "    </tr>\n",
              "    <tr>\n",
              "      <th>2189</th>\n",
              "      <td>2018-09-30 19:00:00</td>\n",
              "      <td>17.1</td>\n",
              "      <td>0.0</td>\n",
              "      <td>14</td>\n",
              "      <td>6</td>\n",
              "    </tr>\n",
              "  </tbody>\n",
              "</table>\n",
              "</div>"
            ],
            "text/plain": [
              "                    date  temp  rain  PM10  PM25\n",
              "0    2017-10-01 07:00:00  17.3   0.0    36    25\n",
              "1    2017-10-01 08:00:00  17.6   0.0    36    25\n",
              "2    2017-10-01 09:00:00  19.3   0.0    33    22\n",
              "3    2017-10-01 17:00:00  18.8   0.0    27    17\n",
              "4    2017-10-01 18:00:00  18.5   0.0    26    16\n",
              "5    2017-10-01 19:00:00  18.3   0.0    24    16\n",
              "2184 2018-09-30 07:00:00  15.1   0.0    14     8\n",
              "2185 2018-09-30 08:00:00  16.2   0.0    17     9\n",
              "2186 2018-09-30 09:00:00  18.5   0.0    13     7\n",
              "2187 2018-09-30 17:00:00  20.4   0.0    18     7\n",
              "2188 2018-09-30 18:00:00  18.3   0.0    18     9\n",
              "2189 2018-09-30 19:00:00  17.1   0.0    14     6"
            ]
          },
          "metadata": {
            "tags": []
          },
          "execution_count": 45
        }
      ]
    },
    {
      "metadata": {
        "id": "38TfriCucidv",
        "colab_type": "code",
        "outputId": "bea39a7f-a7f3-4e8f-886f-15454556d720",
        "colab": {}
      },
      "cell_type": "code",
      "source": [
        "#출근과 퇴근으로 나눠줌\n",
        "climate_cg = climate_dust[(climate_dust['date'].dt.hour >= 7 ) & (climate_dust['date'].dt.hour<10)] \n",
        "climate_tg = climate_dust[(climate_dust['date'].dt.hour >= 17 ) & (climate_dust['date'].dt.hour<20)] \n",
        "climate_cg.head(6)"
      ],
      "execution_count": 0,
      "outputs": [
        {
          "output_type": "execute_result",
          "data": {
            "text/html": [
              "<div>\n",
              "<style scoped>\n",
              "    .dataframe tbody tr th:only-of-type {\n",
              "        vertical-align: middle;\n",
              "    }\n",
              "\n",
              "    .dataframe tbody tr th {\n",
              "        vertical-align: top;\n",
              "    }\n",
              "\n",
              "    .dataframe thead th {\n",
              "        text-align: right;\n",
              "    }\n",
              "</style>\n",
              "<table border=\"1\" class=\"dataframe\">\n",
              "  <thead>\n",
              "    <tr style=\"text-align: right;\">\n",
              "      <th></th>\n",
              "      <th>date</th>\n",
              "      <th>temp</th>\n",
              "      <th>rain</th>\n",
              "      <th>PM10</th>\n",
              "      <th>PM25</th>\n",
              "    </tr>\n",
              "  </thead>\n",
              "  <tbody>\n",
              "    <tr>\n",
              "      <th>0</th>\n",
              "      <td>2017-10-01 07:00:00</td>\n",
              "      <td>17.3</td>\n",
              "      <td>0.0</td>\n",
              "      <td>36</td>\n",
              "      <td>25</td>\n",
              "    </tr>\n",
              "    <tr>\n",
              "      <th>1</th>\n",
              "      <td>2017-10-01 08:00:00</td>\n",
              "      <td>17.6</td>\n",
              "      <td>0.0</td>\n",
              "      <td>36</td>\n",
              "      <td>25</td>\n",
              "    </tr>\n",
              "    <tr>\n",
              "      <th>2</th>\n",
              "      <td>2017-10-01 09:00:00</td>\n",
              "      <td>19.3</td>\n",
              "      <td>0.0</td>\n",
              "      <td>33</td>\n",
              "      <td>22</td>\n",
              "    </tr>\n",
              "    <tr>\n",
              "      <th>6</th>\n",
              "      <td>2017-10-02 07:00:00</td>\n",
              "      <td>16.9</td>\n",
              "      <td>0.0</td>\n",
              "      <td>12</td>\n",
              "      <td>9</td>\n",
              "    </tr>\n",
              "    <tr>\n",
              "      <th>7</th>\n",
              "      <td>2017-10-02 08:00:00</td>\n",
              "      <td>17.8</td>\n",
              "      <td>0.0</td>\n",
              "      <td>15</td>\n",
              "      <td>10</td>\n",
              "    </tr>\n",
              "    <tr>\n",
              "      <th>8</th>\n",
              "      <td>2017-10-02 09:00:00</td>\n",
              "      <td>20.5</td>\n",
              "      <td>0.0</td>\n",
              "      <td>12</td>\n",
              "      <td>6</td>\n",
              "    </tr>\n",
              "  </tbody>\n",
              "</table>\n",
              "</div>"
            ],
            "text/plain": [
              "                 date  temp  rain  PM10  PM25\n",
              "0 2017-10-01 07:00:00  17.3   0.0    36    25\n",
              "1 2017-10-01 08:00:00  17.6   0.0    36    25\n",
              "2 2017-10-01 09:00:00  19.3   0.0    33    22\n",
              "6 2017-10-02 07:00:00  16.9   0.0    12     9\n",
              "7 2017-10-02 08:00:00  17.8   0.0    15    10\n",
              "8 2017-10-02 09:00:00  20.5   0.0    12     6"
            ]
          },
          "metadata": {
            "tags": []
          },
          "execution_count": 46
        }
      ]
    },
    {
      "metadata": {
        "id": "-kZpYcYqcid1",
        "colab_type": "code",
        "outputId": "ad2f05c4-c34e-4fdc-bff7-833103ab9854",
        "colab": {}
      },
      "cell_type": "code",
      "source": [
        "#시간대의 평균을 구함\n",
        "climate_cg_avg = climate_cg.pivot_table(index = climate_cg['date'].dt.date, aggfunc={'temp' : 'mean', 'rain' : 'mean', 'PM10' : 'mean', 'PM25' : 'mean'})\n",
        "climate_tg_avg = climate_tg.pivot_table(index = climate_tg['date'].dt.date, aggfunc={'temp' : 'mean', 'rain' : 'mean', 'PM10' : 'mean', 'PM25' : 'mean'})\n",
        "\n",
        "climate_cg_avg.head(7)"
      ],
      "execution_count": 0,
      "outputs": [
        {
          "output_type": "execute_result",
          "data": {
            "text/html": [
              "<div>\n",
              "<style scoped>\n",
              "    .dataframe tbody tr th:only-of-type {\n",
              "        vertical-align: middle;\n",
              "    }\n",
              "\n",
              "    .dataframe tbody tr th {\n",
              "        vertical-align: top;\n",
              "    }\n",
              "\n",
              "    .dataframe thead th {\n",
              "        text-align: right;\n",
              "    }\n",
              "</style>\n",
              "<table border=\"1\" class=\"dataframe\">\n",
              "  <thead>\n",
              "    <tr style=\"text-align: right;\">\n",
              "      <th></th>\n",
              "      <th>PM10</th>\n",
              "      <th>PM25</th>\n",
              "      <th>rain</th>\n",
              "      <th>temp</th>\n",
              "    </tr>\n",
              "    <tr>\n",
              "      <th>date</th>\n",
              "      <th></th>\n",
              "      <th></th>\n",
              "      <th></th>\n",
              "      <th></th>\n",
              "    </tr>\n",
              "  </thead>\n",
              "  <tbody>\n",
              "    <tr>\n",
              "      <th>2017-10-01</th>\n",
              "      <td>35.000000</td>\n",
              "      <td>24.000000</td>\n",
              "      <td>0.0</td>\n",
              "      <td>18.066667</td>\n",
              "    </tr>\n",
              "    <tr>\n",
              "      <th>2017-10-02</th>\n",
              "      <td>13.000000</td>\n",
              "      <td>8.333333</td>\n",
              "      <td>0.0</td>\n",
              "      <td>18.400000</td>\n",
              "    </tr>\n",
              "    <tr>\n",
              "      <th>2017-10-03</th>\n",
              "      <td>27.000000</td>\n",
              "      <td>7.333333</td>\n",
              "      <td>0.0</td>\n",
              "      <td>14.500000</td>\n",
              "    </tr>\n",
              "    <tr>\n",
              "      <th>2017-10-04</th>\n",
              "      <td>17.333333</td>\n",
              "      <td>7.333333</td>\n",
              "      <td>0.0</td>\n",
              "      <td>12.566667</td>\n",
              "    </tr>\n",
              "    <tr>\n",
              "      <th>2017-10-05</th>\n",
              "      <td>11.000000</td>\n",
              "      <td>5.333333</td>\n",
              "      <td>0.0</td>\n",
              "      <td>15.500000</td>\n",
              "    </tr>\n",
              "    <tr>\n",
              "      <th>2017-10-06</th>\n",
              "      <td>14.000000</td>\n",
              "      <td>7.333333</td>\n",
              "      <td>0.0</td>\n",
              "      <td>17.933333</td>\n",
              "    </tr>\n",
              "    <tr>\n",
              "      <th>2017-10-07</th>\n",
              "      <td>6.333333</td>\n",
              "      <td>3.000000</td>\n",
              "      <td>0.0</td>\n",
              "      <td>17.766667</td>\n",
              "    </tr>\n",
              "  </tbody>\n",
              "</table>\n",
              "</div>"
            ],
            "text/plain": [
              "                 PM10       PM25  rain       temp\n",
              "date                                             \n",
              "2017-10-01  35.000000  24.000000   0.0  18.066667\n",
              "2017-10-02  13.000000   8.333333   0.0  18.400000\n",
              "2017-10-03  27.000000   7.333333   0.0  14.500000\n",
              "2017-10-04  17.333333   7.333333   0.0  12.566667\n",
              "2017-10-05  11.000000   5.333333   0.0  15.500000\n",
              "2017-10-06  14.000000   7.333333   0.0  17.933333\n",
              "2017-10-07   6.333333   3.000000   0.0  17.766667"
            ]
          },
          "metadata": {
            "tags": []
          },
          "execution_count": 47
        }
      ]
    },
    {
      "metadata": {
        "id": "3Q0Hw7LxcieA",
        "colab_type": "code",
        "outputId": "a9b2f2bc-d7fe-4e5b-fd24-3d91fcd26b6e",
        "colab": {}
      },
      "cell_type": "code",
      "source": [
        "df_pred_cg= df2[(df2['departure'].dt.hour >= 7 ) & (df2['departure'].dt.hour<10)] \n",
        "df_pred_cg.head()"
      ],
      "execution_count": 0,
      "outputs": [
        {
          "output_type": "execute_result",
          "data": {
            "text/html": [
              "<div>\n",
              "<style scoped>\n",
              "    .dataframe tbody tr th:only-of-type {\n",
              "        vertical-align: middle;\n",
              "    }\n",
              "\n",
              "    .dataframe tbody tr th {\n",
              "        vertical-align: top;\n",
              "    }\n",
              "\n",
              "    .dataframe thead th {\n",
              "        text-align: right;\n",
              "    }\n",
              "</style>\n",
              "<table border=\"1\" class=\"dataframe\">\n",
              "  <thead>\n",
              "    <tr style=\"text-align: right;\">\n",
              "      <th></th>\n",
              "      <th>DepartureID</th>\n",
              "      <th>ArrivalID</th>\n",
              "      <th>departure</th>\n",
              "      <th>arrival</th>\n",
              "      <th>depweekday</th>\n",
              "      <th>arrweekday</th>\n",
              "      <th>depweekend</th>\n",
              "      <th>arrweekend</th>\n",
              "      <th>depholiday</th>\n",
              "      <th>arrholiday</th>\n",
              "    </tr>\n",
              "  </thead>\n",
              "  <tbody>\n",
              "    <tr>\n",
              "      <th>3513</th>\n",
              "      <td>1323</td>\n",
              "      <td>312</td>\n",
              "      <td>2017-10-01 07:00:26</td>\n",
              "      <td>2017-10-01 07:43:37</td>\n",
              "      <td>6</td>\n",
              "      <td>6</td>\n",
              "      <td>True</td>\n",
              "      <td>True</td>\n",
              "      <td>False</td>\n",
              "      <td>False</td>\n",
              "    </tr>\n",
              "    <tr>\n",
              "      <th>3514</th>\n",
              "      <td>165</td>\n",
              "      <td>195</td>\n",
              "      <td>2017-10-01 07:01:16</td>\n",
              "      <td>2017-10-01 07:08:06</td>\n",
              "      <td>6</td>\n",
              "      <td>6</td>\n",
              "      <td>True</td>\n",
              "      <td>True</td>\n",
              "      <td>False</td>\n",
              "      <td>False</td>\n",
              "    </tr>\n",
              "    <tr>\n",
              "      <th>3515</th>\n",
              "      <td>1440</td>\n",
              "      <td>1440</td>\n",
              "      <td>2017-10-01 07:01:21</td>\n",
              "      <td>2017-10-01 07:57:11</td>\n",
              "      <td>6</td>\n",
              "      <td>6</td>\n",
              "      <td>True</td>\n",
              "      <td>True</td>\n",
              "      <td>False</td>\n",
              "      <td>False</td>\n",
              "    </tr>\n",
              "    <tr>\n",
              "      <th>3516</th>\n",
              "      <td>247</td>\n",
              "      <td>236</td>\n",
              "      <td>2017-10-01 07:01:34</td>\n",
              "      <td>2017-10-01 07:12:34</td>\n",
              "      <td>6</td>\n",
              "      <td>6</td>\n",
              "      <td>True</td>\n",
              "      <td>True</td>\n",
              "      <td>False</td>\n",
              "      <td>False</td>\n",
              "    </tr>\n",
              "    <tr>\n",
              "      <th>3517</th>\n",
              "      <td>1628</td>\n",
              "      <td>1438</td>\n",
              "      <td>2017-10-01 07:01:42</td>\n",
              "      <td>2017-10-01 07:48:46</td>\n",
              "      <td>6</td>\n",
              "      <td>6</td>\n",
              "      <td>True</td>\n",
              "      <td>True</td>\n",
              "      <td>False</td>\n",
              "      <td>False</td>\n",
              "    </tr>\n",
              "  </tbody>\n",
              "</table>\n",
              "</div>"
            ],
            "text/plain": [
              "      DepartureID  ArrivalID           departure             arrival  \\\n",
              "3513         1323        312 2017-10-01 07:00:26 2017-10-01 07:43:37   \n",
              "3514          165        195 2017-10-01 07:01:16 2017-10-01 07:08:06   \n",
              "3515         1440       1440 2017-10-01 07:01:21 2017-10-01 07:57:11   \n",
              "3516          247        236 2017-10-01 07:01:34 2017-10-01 07:12:34   \n",
              "3517         1628       1438 2017-10-01 07:01:42 2017-10-01 07:48:46   \n",
              "\n",
              "      depweekday  arrweekday  depweekend  arrweekend  depholiday  arrholiday  \n",
              "3513           6           6        True        True       False       False  \n",
              "3514           6           6        True        True       False       False  \n",
              "3515           6           6        True        True       False       False  \n",
              "3516           6           6        True        True       False       False  \n",
              "3517           6           6        True        True       False       False  "
            ]
          },
          "metadata": {
            "tags": []
          },
          "execution_count": 48
        }
      ]
    },
    {
      "metadata": {
        "id": "qcbWTl1RcieM",
        "colab_type": "code",
        "outputId": "b5dd08da-8020-440e-ab7d-712e351704a8",
        "colab": {}
      },
      "cell_type": "code",
      "source": [
        "df_pred_tg= df2[(df2['departure'].dt.hour >= 17 ) & (df2['departure'].dt.hour<20)] \n",
        "df_pred_tg.head()"
      ],
      "execution_count": 0,
      "outputs": [
        {
          "output_type": "execute_result",
          "data": {
            "text/html": [
              "<div>\n",
              "<style scoped>\n",
              "    .dataframe tbody tr th:only-of-type {\n",
              "        vertical-align: middle;\n",
              "    }\n",
              "\n",
              "    .dataframe tbody tr th {\n",
              "        vertical-align: top;\n",
              "    }\n",
              "\n",
              "    .dataframe thead th {\n",
              "        text-align: right;\n",
              "    }\n",
              "</style>\n",
              "<table border=\"1\" class=\"dataframe\">\n",
              "  <thead>\n",
              "    <tr style=\"text-align: right;\">\n",
              "      <th></th>\n",
              "      <th>DepartureID</th>\n",
              "      <th>ArrivalID</th>\n",
              "      <th>departure</th>\n",
              "      <th>arrival</th>\n",
              "      <th>depweekday</th>\n",
              "      <th>arrweekday</th>\n",
              "      <th>depweekend</th>\n",
              "      <th>arrweekend</th>\n",
              "      <th>depholiday</th>\n",
              "      <th>arrholiday</th>\n",
              "    </tr>\n",
              "  </thead>\n",
              "  <tbody>\n",
              "    <tr>\n",
              "      <th>7396</th>\n",
              "      <td>1121</td>\n",
              "      <td>1121</td>\n",
              "      <td>2017-10-01 17:00:08</td>\n",
              "      <td>2017-10-01 18:33:32</td>\n",
              "      <td>6</td>\n",
              "      <td>6</td>\n",
              "      <td>True</td>\n",
              "      <td>True</td>\n",
              "      <td>False</td>\n",
              "      <td>False</td>\n",
              "    </tr>\n",
              "    <tr>\n",
              "      <th>7397</th>\n",
              "      <td>630</td>\n",
              "      <td>559</td>\n",
              "      <td>2017-10-01 17:00:08</td>\n",
              "      <td>2017-10-01 17:08:00</td>\n",
              "      <td>6</td>\n",
              "      <td>6</td>\n",
              "      <td>True</td>\n",
              "      <td>True</td>\n",
              "      <td>False</td>\n",
              "      <td>False</td>\n",
              "    </tr>\n",
              "    <tr>\n",
              "      <th>7398</th>\n",
              "      <td>1414</td>\n",
              "      <td>1414</td>\n",
              "      <td>2017-10-01 17:00:09</td>\n",
              "      <td>2017-10-01 18:48:12</td>\n",
              "      <td>6</td>\n",
              "      <td>6</td>\n",
              "      <td>True</td>\n",
              "      <td>True</td>\n",
              "      <td>False</td>\n",
              "      <td>False</td>\n",
              "    </tr>\n",
              "    <tr>\n",
              "      <th>7399</th>\n",
              "      <td>335</td>\n",
              "      <td>383</td>\n",
              "      <td>2017-10-01 17:00:10</td>\n",
              "      <td>2017-10-01 17:30:26</td>\n",
              "      <td>6</td>\n",
              "      <td>6</td>\n",
              "      <td>True</td>\n",
              "      <td>True</td>\n",
              "      <td>False</td>\n",
              "      <td>False</td>\n",
              "    </tr>\n",
              "    <tr>\n",
              "      <th>7400</th>\n",
              "      <td>1913</td>\n",
              "      <td>1911</td>\n",
              "      <td>2017-10-01 17:00:18</td>\n",
              "      <td>2017-10-01 17:11:42</td>\n",
              "      <td>6</td>\n",
              "      <td>6</td>\n",
              "      <td>True</td>\n",
              "      <td>True</td>\n",
              "      <td>False</td>\n",
              "      <td>False</td>\n",
              "    </tr>\n",
              "  </tbody>\n",
              "</table>\n",
              "</div>"
            ],
            "text/plain": [
              "      DepartureID  ArrivalID           departure             arrival  \\\n",
              "7396         1121       1121 2017-10-01 17:00:08 2017-10-01 18:33:32   \n",
              "7397          630        559 2017-10-01 17:00:08 2017-10-01 17:08:00   \n",
              "7398         1414       1414 2017-10-01 17:00:09 2017-10-01 18:48:12   \n",
              "7399          335        383 2017-10-01 17:00:10 2017-10-01 17:30:26   \n",
              "7400         1913       1911 2017-10-01 17:00:18 2017-10-01 17:11:42   \n",
              "\n",
              "      depweekday  arrweekday  depweekend  arrweekend  depholiday  arrholiday  \n",
              "7396           6           6        True        True       False       False  \n",
              "7397           6           6        True        True       False       False  \n",
              "7398           6           6        True        True       False       False  \n",
              "7399           6           6        True        True       False       False  \n",
              "7400           6           6        True        True       False       False  "
            ]
          },
          "metadata": {
            "tags": []
          },
          "execution_count": 49
        }
      ]
    },
    {
      "metadata": {
        "id": "cdy-Pj-tcieS",
        "colab_type": "text"
      },
      "cell_type": "markdown",
      "source": [
        "### 대여가 제일 많은 113번 대여소의 정보만 뽑아냅니다"
      ]
    },
    {
      "metadata": {
        "id": "yl4ddcwvcieT",
        "colab_type": "code",
        "outputId": "bd810391-1d5b-4ac2-8b53-72080d3557a5",
        "colab": {}
      },
      "cell_type": "code",
      "source": [
        "df_pred_cg_113 = df_pred_cg[(df_pred_cg['DepartureID'] == 113)]\n",
        "df_pred_cg_113_count = df_pred_cg_113['departure'].dt.date.value_counts()\n",
        "df_pred_cg_113_count = pd.DataFrame({'113_dep' : df_pred_cg_113_count.sort_index(ascending=1)})\n",
        "df_pred_cg_113_count.head(7)"
      ],
      "execution_count": 0,
      "outputs": [
        {
          "output_type": "execute_result",
          "data": {
            "text/html": [
              "<div>\n",
              "<style scoped>\n",
              "    .dataframe tbody tr th:only-of-type {\n",
              "        vertical-align: middle;\n",
              "    }\n",
              "\n",
              "    .dataframe tbody tr th {\n",
              "        vertical-align: top;\n",
              "    }\n",
              "\n",
              "    .dataframe thead th {\n",
              "        text-align: right;\n",
              "    }\n",
              "</style>\n",
              "<table border=\"1\" class=\"dataframe\">\n",
              "  <thead>\n",
              "    <tr style=\"text-align: right;\">\n",
              "      <th></th>\n",
              "      <th>113_dep</th>\n",
              "    </tr>\n",
              "  </thead>\n",
              "  <tbody>\n",
              "    <tr>\n",
              "      <th>2017-10-01</th>\n",
              "      <td>4</td>\n",
              "    </tr>\n",
              "    <tr>\n",
              "      <th>2017-10-02</th>\n",
              "      <td>7</td>\n",
              "    </tr>\n",
              "    <tr>\n",
              "      <th>2017-10-03</th>\n",
              "      <td>7</td>\n",
              "    </tr>\n",
              "    <tr>\n",
              "      <th>2017-10-04</th>\n",
              "      <td>2</td>\n",
              "    </tr>\n",
              "    <tr>\n",
              "      <th>2017-10-05</th>\n",
              "      <td>2</td>\n",
              "    </tr>\n",
              "    <tr>\n",
              "      <th>2017-10-06</th>\n",
              "      <td>7</td>\n",
              "    </tr>\n",
              "    <tr>\n",
              "      <th>2017-10-07</th>\n",
              "      <td>3</td>\n",
              "    </tr>\n",
              "  </tbody>\n",
              "</table>\n",
              "</div>"
            ],
            "text/plain": [
              "            113_dep\n",
              "2017-10-01        4\n",
              "2017-10-02        7\n",
              "2017-10-03        7\n",
              "2017-10-04        2\n",
              "2017-10-05        2\n",
              "2017-10-06        7\n",
              "2017-10-07        3"
            ]
          },
          "metadata": {
            "tags": []
          },
          "execution_count": 50
        }
      ]
    },
    {
      "metadata": {
        "id": "5_cbHBDncieX",
        "colab_type": "code",
        "outputId": "c1893275-3cfa-421c-89b6-40dfaada90c8",
        "colab": {}
      },
      "cell_type": "code",
      "source": [
        "test1 = df2[(df2['DepartureID'] == 113)]\n",
        "testdate = test1.pivot_table(index = test1['departure'].dt.date, aggfunc = {'depweekday' : 'mean', 'depweekend' : 'mean', 'depholiday' : 'mean'})\n",
        "testdate.head(7)"
      ],
      "execution_count": 0,
      "outputs": [
        {
          "output_type": "execute_result",
          "data": {
            "text/html": [
              "<div>\n",
              "<style scoped>\n",
              "    .dataframe tbody tr th:only-of-type {\n",
              "        vertical-align: middle;\n",
              "    }\n",
              "\n",
              "    .dataframe tbody tr th {\n",
              "        vertical-align: top;\n",
              "    }\n",
              "\n",
              "    .dataframe thead th {\n",
              "        text-align: right;\n",
              "    }\n",
              "</style>\n",
              "<table border=\"1\" class=\"dataframe\">\n",
              "  <thead>\n",
              "    <tr style=\"text-align: right;\">\n",
              "      <th></th>\n",
              "      <th>depholiday</th>\n",
              "      <th>depweekday</th>\n",
              "      <th>depweekend</th>\n",
              "    </tr>\n",
              "    <tr>\n",
              "      <th>departure</th>\n",
              "      <th></th>\n",
              "      <th></th>\n",
              "      <th></th>\n",
              "    </tr>\n",
              "  </thead>\n",
              "  <tbody>\n",
              "    <tr>\n",
              "      <th>2017-10-01</th>\n",
              "      <td>False</td>\n",
              "      <td>6</td>\n",
              "      <td>True</td>\n",
              "    </tr>\n",
              "    <tr>\n",
              "      <th>2017-10-02</th>\n",
              "      <td>True</td>\n",
              "      <td>0</td>\n",
              "      <td>False</td>\n",
              "    </tr>\n",
              "    <tr>\n",
              "      <th>2017-10-03</th>\n",
              "      <td>True</td>\n",
              "      <td>1</td>\n",
              "      <td>False</td>\n",
              "    </tr>\n",
              "    <tr>\n",
              "      <th>2017-10-04</th>\n",
              "      <td>True</td>\n",
              "      <td>2</td>\n",
              "      <td>False</td>\n",
              "    </tr>\n",
              "    <tr>\n",
              "      <th>2017-10-05</th>\n",
              "      <td>True</td>\n",
              "      <td>3</td>\n",
              "      <td>False</td>\n",
              "    </tr>\n",
              "    <tr>\n",
              "      <th>2017-10-06</th>\n",
              "      <td>True</td>\n",
              "      <td>4</td>\n",
              "      <td>False</td>\n",
              "    </tr>\n",
              "    <tr>\n",
              "      <th>2017-10-07</th>\n",
              "      <td>False</td>\n",
              "      <td>5</td>\n",
              "      <td>True</td>\n",
              "    </tr>\n",
              "  </tbody>\n",
              "</table>\n",
              "</div>"
            ],
            "text/plain": [
              "            depholiday  depweekday  depweekend\n",
              "departure                                     \n",
              "2017-10-01       False           6        True\n",
              "2017-10-02        True           0       False\n",
              "2017-10-03        True           1       False\n",
              "2017-10-04        True           2       False\n",
              "2017-10-05        True           3       False\n",
              "2017-10-06        True           4       False\n",
              "2017-10-07       False           5        True"
            ]
          },
          "metadata": {
            "tags": []
          },
          "execution_count": 51
        }
      ]
    },
    {
      "metadata": {
        "id": "wTYKTAPlciee",
        "colab_type": "code",
        "colab": {}
      },
      "cell_type": "code",
      "source": [
        "m113_1 = pd.merge(testdate, df_pred_cg_113_count, left_index = True, right_index= True, how = 'outer')\n",
        "m113_1.isna().sum() # 빌려지지 않은 개수 세기\n",
        "m113_1 = m113_1.fillna(0)"
      ],
      "execution_count": 0,
      "outputs": []
    },
    {
      "metadata": {
        "id": "u-MMVxKzcieh",
        "colab_type": "code",
        "colab": {}
      },
      "cell_type": "code",
      "source": [
        "mg_113 = pd.merge(m113_1, climate_cg_avg, left_index = True, right_index= True, how = 'inner')"
      ],
      "execution_count": 0,
      "outputs": []
    },
    {
      "metadata": {
        "id": "XGK5luN1ciek",
        "colab_type": "code",
        "outputId": "b5420fef-31b4-4e0a-c439-7fd068f9427f",
        "colab": {}
      },
      "cell_type": "code",
      "source": [
        "mg_113.head()"
      ],
      "execution_count": 0,
      "outputs": [
        {
          "output_type": "execute_result",
          "data": {
            "text/html": [
              "<div>\n",
              "<style scoped>\n",
              "    .dataframe tbody tr th:only-of-type {\n",
              "        vertical-align: middle;\n",
              "    }\n",
              "\n",
              "    .dataframe tbody tr th {\n",
              "        vertical-align: top;\n",
              "    }\n",
              "\n",
              "    .dataframe thead th {\n",
              "        text-align: right;\n",
              "    }\n",
              "</style>\n",
              "<table border=\"1\" class=\"dataframe\">\n",
              "  <thead>\n",
              "    <tr style=\"text-align: right;\">\n",
              "      <th></th>\n",
              "      <th>depholiday</th>\n",
              "      <th>depweekday</th>\n",
              "      <th>depweekend</th>\n",
              "      <th>113_dep</th>\n",
              "      <th>PM10</th>\n",
              "      <th>PM25</th>\n",
              "      <th>rain</th>\n",
              "      <th>temp</th>\n",
              "    </tr>\n",
              "  </thead>\n",
              "  <tbody>\n",
              "    <tr>\n",
              "      <th>2017-10-01</th>\n",
              "      <td>False</td>\n",
              "      <td>6</td>\n",
              "      <td>True</td>\n",
              "      <td>4.0</td>\n",
              "      <td>35.000000</td>\n",
              "      <td>24.000000</td>\n",
              "      <td>0.0</td>\n",
              "      <td>18.066667</td>\n",
              "    </tr>\n",
              "    <tr>\n",
              "      <th>2017-10-02</th>\n",
              "      <td>True</td>\n",
              "      <td>0</td>\n",
              "      <td>False</td>\n",
              "      <td>7.0</td>\n",
              "      <td>13.000000</td>\n",
              "      <td>8.333333</td>\n",
              "      <td>0.0</td>\n",
              "      <td>18.400000</td>\n",
              "    </tr>\n",
              "    <tr>\n",
              "      <th>2017-10-03</th>\n",
              "      <td>True</td>\n",
              "      <td>1</td>\n",
              "      <td>False</td>\n",
              "      <td>7.0</td>\n",
              "      <td>27.000000</td>\n",
              "      <td>7.333333</td>\n",
              "      <td>0.0</td>\n",
              "      <td>14.500000</td>\n",
              "    </tr>\n",
              "    <tr>\n",
              "      <th>2017-10-04</th>\n",
              "      <td>True</td>\n",
              "      <td>2</td>\n",
              "      <td>False</td>\n",
              "      <td>2.0</td>\n",
              "      <td>17.333333</td>\n",
              "      <td>7.333333</td>\n",
              "      <td>0.0</td>\n",
              "      <td>12.566667</td>\n",
              "    </tr>\n",
              "    <tr>\n",
              "      <th>2017-10-05</th>\n",
              "      <td>True</td>\n",
              "      <td>3</td>\n",
              "      <td>False</td>\n",
              "      <td>2.0</td>\n",
              "      <td>11.000000</td>\n",
              "      <td>5.333333</td>\n",
              "      <td>0.0</td>\n",
              "      <td>15.500000</td>\n",
              "    </tr>\n",
              "  </tbody>\n",
              "</table>\n",
              "</div>"
            ],
            "text/plain": [
              "            depholiday  depweekday  depweekend  113_dep       PM10       PM25  \\\n",
              "2017-10-01       False           6        True      4.0  35.000000  24.000000   \n",
              "2017-10-02        True           0       False      7.0  13.000000   8.333333   \n",
              "2017-10-03        True           1       False      7.0  27.000000   7.333333   \n",
              "2017-10-04        True           2       False      2.0  17.333333   7.333333   \n",
              "2017-10-05        True           3       False      2.0  11.000000   5.333333   \n",
              "\n",
              "            rain       temp  \n",
              "2017-10-01   0.0  18.066667  \n",
              "2017-10-02   0.0  18.400000  \n",
              "2017-10-03   0.0  14.500000  \n",
              "2017-10-04   0.0  12.566667  \n",
              "2017-10-05   0.0  15.500000  "
            ]
          },
          "metadata": {
            "tags": []
          },
          "execution_count": 54
        }
      ]
    },
    {
      "metadata": {
        "id": "nEaq66vDciep",
        "colab_type": "code",
        "outputId": "431414f9-d259-4d64-9cc6-65953a6ddad7",
        "colab": {}
      },
      "cell_type": "code",
      "source": [
        "# 요일을 one-hot encoding \n",
        "ohe = pd.get_dummies(mg_113.depweekday)\n",
        "ohe.columns = ['mon','tue','wed','thu','fri','sat','sun']\n",
        "ohe.head()"
      ],
      "execution_count": 0,
      "outputs": [
        {
          "output_type": "execute_result",
          "data": {
            "text/html": [
              "<div>\n",
              "<style scoped>\n",
              "    .dataframe tbody tr th:only-of-type {\n",
              "        vertical-align: middle;\n",
              "    }\n",
              "\n",
              "    .dataframe tbody tr th {\n",
              "        vertical-align: top;\n",
              "    }\n",
              "\n",
              "    .dataframe thead th {\n",
              "        text-align: right;\n",
              "    }\n",
              "</style>\n",
              "<table border=\"1\" class=\"dataframe\">\n",
              "  <thead>\n",
              "    <tr style=\"text-align: right;\">\n",
              "      <th></th>\n",
              "      <th>mon</th>\n",
              "      <th>tue</th>\n",
              "      <th>wed</th>\n",
              "      <th>thu</th>\n",
              "      <th>fri</th>\n",
              "      <th>sat</th>\n",
              "      <th>sun</th>\n",
              "    </tr>\n",
              "  </thead>\n",
              "  <tbody>\n",
              "    <tr>\n",
              "      <th>2017-10-01</th>\n",
              "      <td>0</td>\n",
              "      <td>0</td>\n",
              "      <td>0</td>\n",
              "      <td>0</td>\n",
              "      <td>0</td>\n",
              "      <td>0</td>\n",
              "      <td>1</td>\n",
              "    </tr>\n",
              "    <tr>\n",
              "      <th>2017-10-02</th>\n",
              "      <td>1</td>\n",
              "      <td>0</td>\n",
              "      <td>0</td>\n",
              "      <td>0</td>\n",
              "      <td>0</td>\n",
              "      <td>0</td>\n",
              "      <td>0</td>\n",
              "    </tr>\n",
              "    <tr>\n",
              "      <th>2017-10-03</th>\n",
              "      <td>0</td>\n",
              "      <td>1</td>\n",
              "      <td>0</td>\n",
              "      <td>0</td>\n",
              "      <td>0</td>\n",
              "      <td>0</td>\n",
              "      <td>0</td>\n",
              "    </tr>\n",
              "    <tr>\n",
              "      <th>2017-10-04</th>\n",
              "      <td>0</td>\n",
              "      <td>0</td>\n",
              "      <td>1</td>\n",
              "      <td>0</td>\n",
              "      <td>0</td>\n",
              "      <td>0</td>\n",
              "      <td>0</td>\n",
              "    </tr>\n",
              "    <tr>\n",
              "      <th>2017-10-05</th>\n",
              "      <td>0</td>\n",
              "      <td>0</td>\n",
              "      <td>0</td>\n",
              "      <td>1</td>\n",
              "      <td>0</td>\n",
              "      <td>0</td>\n",
              "      <td>0</td>\n",
              "    </tr>\n",
              "  </tbody>\n",
              "</table>\n",
              "</div>"
            ],
            "text/plain": [
              "            mon  tue  wed  thu  fri  sat  sun\n",
              "2017-10-01    0    0    0    0    0    0    1\n",
              "2017-10-02    1    0    0    0    0    0    0\n",
              "2017-10-03    0    1    0    0    0    0    0\n",
              "2017-10-04    0    0    1    0    0    0    0\n",
              "2017-10-05    0    0    0    1    0    0    0"
            ]
          },
          "metadata": {
            "tags": []
          },
          "execution_count": 55
        }
      ]
    },
    {
      "metadata": {
        "id": "zEn9oJ7Nciey",
        "colab_type": "code",
        "colab": {}
      },
      "cell_type": "code",
      "source": [
        "mg_113_1 = pd.merge(mg_113, ohe,  left_index = True, right_index= True, how = 'left')\n",
        "mg_113_1 = mg_113_1.drop('depweekday', axis = 1)\n",
        "mg_113_1_y = mg_113_1['113_dep']\n",
        "mg_113_1_x = mg_113_1.copy().drop('113_dep', axis = 1)"
      ],
      "execution_count": 0,
      "outputs": []
    },
    {
      "metadata": {
        "id": "92eQb_27cie1",
        "colab_type": "code",
        "outputId": "4c630642-c78e-41f2-acb9-48ca4e649835",
        "colab": {}
      },
      "cell_type": "code",
      "source": [
        "#training x data\n",
        "mg_113_1_x.head()"
      ],
      "execution_count": 0,
      "outputs": [
        {
          "output_type": "execute_result",
          "data": {
            "text/html": [
              "<div>\n",
              "<style scoped>\n",
              "    .dataframe tbody tr th:only-of-type {\n",
              "        vertical-align: middle;\n",
              "    }\n",
              "\n",
              "    .dataframe tbody tr th {\n",
              "        vertical-align: top;\n",
              "    }\n",
              "\n",
              "    .dataframe thead th {\n",
              "        text-align: right;\n",
              "    }\n",
              "</style>\n",
              "<table border=\"1\" class=\"dataframe\">\n",
              "  <thead>\n",
              "    <tr style=\"text-align: right;\">\n",
              "      <th></th>\n",
              "      <th>depholiday</th>\n",
              "      <th>depweekend</th>\n",
              "      <th>PM10</th>\n",
              "      <th>PM25</th>\n",
              "      <th>rain</th>\n",
              "      <th>temp</th>\n",
              "      <th>mon</th>\n",
              "      <th>tue</th>\n",
              "      <th>wed</th>\n",
              "      <th>thu</th>\n",
              "      <th>fri</th>\n",
              "      <th>sat</th>\n",
              "      <th>sun</th>\n",
              "    </tr>\n",
              "  </thead>\n",
              "  <tbody>\n",
              "    <tr>\n",
              "      <th>2017-10-01</th>\n",
              "      <td>False</td>\n",
              "      <td>True</td>\n",
              "      <td>35.000000</td>\n",
              "      <td>24.000000</td>\n",
              "      <td>0.0</td>\n",
              "      <td>18.066667</td>\n",
              "      <td>0</td>\n",
              "      <td>0</td>\n",
              "      <td>0</td>\n",
              "      <td>0</td>\n",
              "      <td>0</td>\n",
              "      <td>0</td>\n",
              "      <td>1</td>\n",
              "    </tr>\n",
              "    <tr>\n",
              "      <th>2017-10-02</th>\n",
              "      <td>True</td>\n",
              "      <td>False</td>\n",
              "      <td>13.000000</td>\n",
              "      <td>8.333333</td>\n",
              "      <td>0.0</td>\n",
              "      <td>18.400000</td>\n",
              "      <td>1</td>\n",
              "      <td>0</td>\n",
              "      <td>0</td>\n",
              "      <td>0</td>\n",
              "      <td>0</td>\n",
              "      <td>0</td>\n",
              "      <td>0</td>\n",
              "    </tr>\n",
              "    <tr>\n",
              "      <th>2017-10-03</th>\n",
              "      <td>True</td>\n",
              "      <td>False</td>\n",
              "      <td>27.000000</td>\n",
              "      <td>7.333333</td>\n",
              "      <td>0.0</td>\n",
              "      <td>14.500000</td>\n",
              "      <td>0</td>\n",
              "      <td>1</td>\n",
              "      <td>0</td>\n",
              "      <td>0</td>\n",
              "      <td>0</td>\n",
              "      <td>0</td>\n",
              "      <td>0</td>\n",
              "    </tr>\n",
              "    <tr>\n",
              "      <th>2017-10-04</th>\n",
              "      <td>True</td>\n",
              "      <td>False</td>\n",
              "      <td>17.333333</td>\n",
              "      <td>7.333333</td>\n",
              "      <td>0.0</td>\n",
              "      <td>12.566667</td>\n",
              "      <td>0</td>\n",
              "      <td>0</td>\n",
              "      <td>1</td>\n",
              "      <td>0</td>\n",
              "      <td>0</td>\n",
              "      <td>0</td>\n",
              "      <td>0</td>\n",
              "    </tr>\n",
              "    <tr>\n",
              "      <th>2017-10-05</th>\n",
              "      <td>True</td>\n",
              "      <td>False</td>\n",
              "      <td>11.000000</td>\n",
              "      <td>5.333333</td>\n",
              "      <td>0.0</td>\n",
              "      <td>15.500000</td>\n",
              "      <td>0</td>\n",
              "      <td>0</td>\n",
              "      <td>0</td>\n",
              "      <td>1</td>\n",
              "      <td>0</td>\n",
              "      <td>0</td>\n",
              "      <td>0</td>\n",
              "    </tr>\n",
              "  </tbody>\n",
              "</table>\n",
              "</div>"
            ],
            "text/plain": [
              "            depholiday  depweekend       PM10       PM25  rain       temp  \\\n",
              "2017-10-01       False        True  35.000000  24.000000   0.0  18.066667   \n",
              "2017-10-02        True       False  13.000000   8.333333   0.0  18.400000   \n",
              "2017-10-03        True       False  27.000000   7.333333   0.0  14.500000   \n",
              "2017-10-04        True       False  17.333333   7.333333   0.0  12.566667   \n",
              "2017-10-05        True       False  11.000000   5.333333   0.0  15.500000   \n",
              "\n",
              "            mon  tue  wed  thu  fri  sat  sun  \n",
              "2017-10-01    0    0    0    0    0    0    1  \n",
              "2017-10-02    1    0    0    0    0    0    0  \n",
              "2017-10-03    0    1    0    0    0    0    0  \n",
              "2017-10-04    0    0    1    0    0    0    0  \n",
              "2017-10-05    0    0    0    1    0    0    0  "
            ]
          },
          "metadata": {
            "tags": []
          },
          "execution_count": 57
        }
      ]
    },
    {
      "metadata": {
        "id": "lFzuarkIcie5",
        "colab_type": "code",
        "outputId": "8357ebef-eacc-46df-adae-fb68b72571a6",
        "colab": {}
      },
      "cell_type": "code",
      "source": [
        "#training y data\n",
        "train_y = pd.DataFrame(mg_113_1_y)\n",
        "train_y.head()\n"
      ],
      "execution_count": 0,
      "outputs": [
        {
          "output_type": "execute_result",
          "data": {
            "text/html": [
              "<div>\n",
              "<style scoped>\n",
              "    .dataframe tbody tr th:only-of-type {\n",
              "        vertical-align: middle;\n",
              "    }\n",
              "\n",
              "    .dataframe tbody tr th {\n",
              "        vertical-align: top;\n",
              "    }\n",
              "\n",
              "    .dataframe thead th {\n",
              "        text-align: right;\n",
              "    }\n",
              "</style>\n",
              "<table border=\"1\" class=\"dataframe\">\n",
              "  <thead>\n",
              "    <tr style=\"text-align: right;\">\n",
              "      <th></th>\n",
              "      <th>113_dep</th>\n",
              "    </tr>\n",
              "  </thead>\n",
              "  <tbody>\n",
              "    <tr>\n",
              "      <th>2017-10-01</th>\n",
              "      <td>4.0</td>\n",
              "    </tr>\n",
              "    <tr>\n",
              "      <th>2017-10-02</th>\n",
              "      <td>7.0</td>\n",
              "    </tr>\n",
              "    <tr>\n",
              "      <th>2017-10-03</th>\n",
              "      <td>7.0</td>\n",
              "    </tr>\n",
              "    <tr>\n",
              "      <th>2017-10-04</th>\n",
              "      <td>2.0</td>\n",
              "    </tr>\n",
              "    <tr>\n",
              "      <th>2017-10-05</th>\n",
              "      <td>2.0</td>\n",
              "    </tr>\n",
              "  </tbody>\n",
              "</table>\n",
              "</div>"
            ],
            "text/plain": [
              "            113_dep\n",
              "2017-10-01      4.0\n",
              "2017-10-02      7.0\n",
              "2017-10-03      7.0\n",
              "2017-10-04      2.0\n",
              "2017-10-05      2.0"
            ]
          },
          "metadata": {
            "tags": []
          },
          "execution_count": 58
        }
      ]
    },
    {
      "metadata": {
        "id": "2JG7bn6Qcie_",
        "colab_type": "code",
        "colab": {}
      },
      "cell_type": "code",
      "source": [
        "#mg_113_1_x.to_csv('pred_x.csv', mode='w')\n",
        "#mg_113_1_y.to_csv('pred_y.csv', mode='w')"
      ],
      "execution_count": 0,
      "outputs": []
    },
    {
      "metadata": {
        "id": "0VcYRsX8cifM",
        "colab_type": "code",
        "colab": {}
      },
      "cell_type": "code",
      "source": [
        "from sklearn.preprocessing import MinMaxScaler"
      ],
      "execution_count": 0,
      "outputs": []
    },
    {
      "metadata": {
        "id": "PWdV-94Tcifn",
        "colab_type": "code",
        "outputId": "e65b7618-7f54-4767-cff8-87a539de97ac",
        "colab": {}
      },
      "cell_type": "code",
      "source": [
        "scaler = MinMaxScaler()\n",
        "scaled_x = pd.DataFrame(scaler.fit_transform(mg_113_1_x.values))\n",
        "scaled_x.columns = ['depholiday',\t'depweekend',\t'scaled_PM10', 'scaled_PM25','scaled_rain'\t,'scaled_temp',\t'mon'\t,'tue'\t,'wed'\t,'thu'\t,'fri',\t'sat'\t,'sun']\n",
        "scaled_x = scaled_x.set_index(mg_113_1_x.index)\n",
        "scaled_x.head(7)"
      ],
      "execution_count": 0,
      "outputs": [
        {
          "output_type": "stream",
          "text": [
            "C:\\Users\\lijbd\\Anaconda3\\lib\\site-packages\\sklearn\\utils\\validation.py:590: DataConversionWarning: Data with input dtype object was converted to float64 by MinMaxScaler.\n",
            "  warnings.warn(msg, DataConversionWarning)\n"
          ],
          "name": "stderr"
        },
        {
          "output_type": "execute_result",
          "data": {
            "text/html": [
              "<div>\n",
              "<style scoped>\n",
              "    .dataframe tbody tr th:only-of-type {\n",
              "        vertical-align: middle;\n",
              "    }\n",
              "\n",
              "    .dataframe tbody tr th {\n",
              "        vertical-align: top;\n",
              "    }\n",
              "\n",
              "    .dataframe thead th {\n",
              "        text-align: right;\n",
              "    }\n",
              "</style>\n",
              "<table border=\"1\" class=\"dataframe\">\n",
              "  <thead>\n",
              "    <tr style=\"text-align: right;\">\n",
              "      <th></th>\n",
              "      <th>depholiday</th>\n",
              "      <th>depweekend</th>\n",
              "      <th>scaled_PM10</th>\n",
              "      <th>scaled_PM25</th>\n",
              "      <th>scaled_rain</th>\n",
              "      <th>scaled_temp</th>\n",
              "      <th>mon</th>\n",
              "      <th>tue</th>\n",
              "      <th>wed</th>\n",
              "      <th>thu</th>\n",
              "      <th>fri</th>\n",
              "      <th>sat</th>\n",
              "      <th>sun</th>\n",
              "    </tr>\n",
              "  </thead>\n",
              "  <tbody>\n",
              "    <tr>\n",
              "      <th>2017-10-01</th>\n",
              "      <td>0.0</td>\n",
              "      <td>1.0</td>\n",
              "      <td>0.263456</td>\n",
              "      <td>0.269531</td>\n",
              "      <td>0.0</td>\n",
              "      <td>0.721024</td>\n",
              "      <td>0.0</td>\n",
              "      <td>0.0</td>\n",
              "      <td>0.0</td>\n",
              "      <td>0.0</td>\n",
              "      <td>0.0</td>\n",
              "      <td>0.0</td>\n",
              "      <td>1.0</td>\n",
              "    </tr>\n",
              "    <tr>\n",
              "      <th>2017-10-02</th>\n",
              "      <td>1.0</td>\n",
              "      <td>0.0</td>\n",
              "      <td>0.076487</td>\n",
              "      <td>0.085938</td>\n",
              "      <td>0.0</td>\n",
              "      <td>0.727763</td>\n",
              "      <td>1.0</td>\n",
              "      <td>0.0</td>\n",
              "      <td>0.0</td>\n",
              "      <td>0.0</td>\n",
              "      <td>0.0</td>\n",
              "      <td>0.0</td>\n",
              "      <td>0.0</td>\n",
              "    </tr>\n",
              "    <tr>\n",
              "      <th>2017-10-03</th>\n",
              "      <td>1.0</td>\n",
              "      <td>0.0</td>\n",
              "      <td>0.195467</td>\n",
              "      <td>0.074219</td>\n",
              "      <td>0.0</td>\n",
              "      <td>0.648922</td>\n",
              "      <td>0.0</td>\n",
              "      <td>1.0</td>\n",
              "      <td>0.0</td>\n",
              "      <td>0.0</td>\n",
              "      <td>0.0</td>\n",
              "      <td>0.0</td>\n",
              "      <td>0.0</td>\n",
              "    </tr>\n",
              "    <tr>\n",
              "      <th>2017-10-04</th>\n",
              "      <td>1.0</td>\n",
              "      <td>0.0</td>\n",
              "      <td>0.113314</td>\n",
              "      <td>0.074219</td>\n",
              "      <td>0.0</td>\n",
              "      <td>0.609838</td>\n",
              "      <td>0.0</td>\n",
              "      <td>0.0</td>\n",
              "      <td>1.0</td>\n",
              "      <td>0.0</td>\n",
              "      <td>0.0</td>\n",
              "      <td>0.0</td>\n",
              "      <td>0.0</td>\n",
              "    </tr>\n",
              "    <tr>\n",
              "      <th>2017-10-05</th>\n",
              "      <td>1.0</td>\n",
              "      <td>0.0</td>\n",
              "      <td>0.059490</td>\n",
              "      <td>0.050781</td>\n",
              "      <td>0.0</td>\n",
              "      <td>0.669137</td>\n",
              "      <td>0.0</td>\n",
              "      <td>0.0</td>\n",
              "      <td>0.0</td>\n",
              "      <td>1.0</td>\n",
              "      <td>0.0</td>\n",
              "      <td>0.0</td>\n",
              "      <td>0.0</td>\n",
              "    </tr>\n",
              "    <tr>\n",
              "      <th>2017-10-06</th>\n",
              "      <td>1.0</td>\n",
              "      <td>0.0</td>\n",
              "      <td>0.084986</td>\n",
              "      <td>0.074219</td>\n",
              "      <td>0.0</td>\n",
              "      <td>0.718329</td>\n",
              "      <td>0.0</td>\n",
              "      <td>0.0</td>\n",
              "      <td>0.0</td>\n",
              "      <td>0.0</td>\n",
              "      <td>1.0</td>\n",
              "      <td>0.0</td>\n",
              "      <td>0.0</td>\n",
              "    </tr>\n",
              "    <tr>\n",
              "      <th>2017-10-07</th>\n",
              "      <td>0.0</td>\n",
              "      <td>1.0</td>\n",
              "      <td>0.019830</td>\n",
              "      <td>0.023438</td>\n",
              "      <td>0.0</td>\n",
              "      <td>0.714960</td>\n",
              "      <td>0.0</td>\n",
              "      <td>0.0</td>\n",
              "      <td>0.0</td>\n",
              "      <td>0.0</td>\n",
              "      <td>0.0</td>\n",
              "      <td>1.0</td>\n",
              "      <td>0.0</td>\n",
              "    </tr>\n",
              "  </tbody>\n",
              "</table>\n",
              "</div>"
            ],
            "text/plain": [
              "            depholiday  depweekend  scaled_PM10  scaled_PM25  scaled_rain  \\\n",
              "2017-10-01         0.0         1.0     0.263456     0.269531          0.0   \n",
              "2017-10-02         1.0         0.0     0.076487     0.085938          0.0   \n",
              "2017-10-03         1.0         0.0     0.195467     0.074219          0.0   \n",
              "2017-10-04         1.0         0.0     0.113314     0.074219          0.0   \n",
              "2017-10-05         1.0         0.0     0.059490     0.050781          0.0   \n",
              "2017-10-06         1.0         0.0     0.084986     0.074219          0.0   \n",
              "2017-10-07         0.0         1.0     0.019830     0.023438          0.0   \n",
              "\n",
              "            scaled_temp  mon  tue  wed  thu  fri  sat  sun  \n",
              "2017-10-01     0.721024  0.0  0.0  0.0  0.0  0.0  0.0  1.0  \n",
              "2017-10-02     0.727763  1.0  0.0  0.0  0.0  0.0  0.0  0.0  \n",
              "2017-10-03     0.648922  0.0  1.0  0.0  0.0  0.0  0.0  0.0  \n",
              "2017-10-04     0.609838  0.0  0.0  1.0  0.0  0.0  0.0  0.0  \n",
              "2017-10-05     0.669137  0.0  0.0  0.0  1.0  0.0  0.0  0.0  \n",
              "2017-10-06     0.718329  0.0  0.0  0.0  0.0  1.0  0.0  0.0  \n",
              "2017-10-07     0.714960  0.0  0.0  0.0  0.0  0.0  1.0  0.0  "
            ]
          },
          "metadata": {
            "tags": []
          },
          "execution_count": 60
        }
      ]
    },
    {
      "metadata": {
        "id": "0j5TwGFycifx",
        "colab_type": "text"
      },
      "cell_type": "markdown",
      "source": [
        "### training data 종합"
      ]
    },
    {
      "metadata": {
        "id": "E5zAdJvRcify",
        "colab_type": "code",
        "outputId": "0cefe9d5-4cbc-473f-bfbe-b476688ccf65",
        "colab": {}
      },
      "cell_type": "code",
      "source": [
        "scaled_data = pd.merge(scaled_x, pd.DataFrame(mg_113_1_y), left_index=True, right_index=True)\n",
        "scaled_data.head()"
      ],
      "execution_count": 0,
      "outputs": [
        {
          "output_type": "execute_result",
          "data": {
            "text/html": [
              "<div>\n",
              "<style scoped>\n",
              "    .dataframe tbody tr th:only-of-type {\n",
              "        vertical-align: middle;\n",
              "    }\n",
              "\n",
              "    .dataframe tbody tr th {\n",
              "        vertical-align: top;\n",
              "    }\n",
              "\n",
              "    .dataframe thead th {\n",
              "        text-align: right;\n",
              "    }\n",
              "</style>\n",
              "<table border=\"1\" class=\"dataframe\">\n",
              "  <thead>\n",
              "    <tr style=\"text-align: right;\">\n",
              "      <th></th>\n",
              "      <th>depholiday</th>\n",
              "      <th>depweekend</th>\n",
              "      <th>scaled_PM10</th>\n",
              "      <th>scaled_PM25</th>\n",
              "      <th>scaled_rain</th>\n",
              "      <th>scaled_temp</th>\n",
              "      <th>mon</th>\n",
              "      <th>tue</th>\n",
              "      <th>wed</th>\n",
              "      <th>thu</th>\n",
              "      <th>fri</th>\n",
              "      <th>sat</th>\n",
              "      <th>sun</th>\n",
              "      <th>113_dep</th>\n",
              "    </tr>\n",
              "  </thead>\n",
              "  <tbody>\n",
              "    <tr>\n",
              "      <th>2017-10-01</th>\n",
              "      <td>0.0</td>\n",
              "      <td>1.0</td>\n",
              "      <td>0.263456</td>\n",
              "      <td>0.269531</td>\n",
              "      <td>0.0</td>\n",
              "      <td>0.721024</td>\n",
              "      <td>0.0</td>\n",
              "      <td>0.0</td>\n",
              "      <td>0.0</td>\n",
              "      <td>0.0</td>\n",
              "      <td>0.0</td>\n",
              "      <td>0.0</td>\n",
              "      <td>1.0</td>\n",
              "      <td>4.0</td>\n",
              "    </tr>\n",
              "    <tr>\n",
              "      <th>2017-10-02</th>\n",
              "      <td>1.0</td>\n",
              "      <td>0.0</td>\n",
              "      <td>0.076487</td>\n",
              "      <td>0.085938</td>\n",
              "      <td>0.0</td>\n",
              "      <td>0.727763</td>\n",
              "      <td>1.0</td>\n",
              "      <td>0.0</td>\n",
              "      <td>0.0</td>\n",
              "      <td>0.0</td>\n",
              "      <td>0.0</td>\n",
              "      <td>0.0</td>\n",
              "      <td>0.0</td>\n",
              "      <td>7.0</td>\n",
              "    </tr>\n",
              "    <tr>\n",
              "      <th>2017-10-03</th>\n",
              "      <td>1.0</td>\n",
              "      <td>0.0</td>\n",
              "      <td>0.195467</td>\n",
              "      <td>0.074219</td>\n",
              "      <td>0.0</td>\n",
              "      <td>0.648922</td>\n",
              "      <td>0.0</td>\n",
              "      <td>1.0</td>\n",
              "      <td>0.0</td>\n",
              "      <td>0.0</td>\n",
              "      <td>0.0</td>\n",
              "      <td>0.0</td>\n",
              "      <td>0.0</td>\n",
              "      <td>7.0</td>\n",
              "    </tr>\n",
              "    <tr>\n",
              "      <th>2017-10-04</th>\n",
              "      <td>1.0</td>\n",
              "      <td>0.0</td>\n",
              "      <td>0.113314</td>\n",
              "      <td>0.074219</td>\n",
              "      <td>0.0</td>\n",
              "      <td>0.609838</td>\n",
              "      <td>0.0</td>\n",
              "      <td>0.0</td>\n",
              "      <td>1.0</td>\n",
              "      <td>0.0</td>\n",
              "      <td>0.0</td>\n",
              "      <td>0.0</td>\n",
              "      <td>0.0</td>\n",
              "      <td>2.0</td>\n",
              "    </tr>\n",
              "    <tr>\n",
              "      <th>2017-10-05</th>\n",
              "      <td>1.0</td>\n",
              "      <td>0.0</td>\n",
              "      <td>0.059490</td>\n",
              "      <td>0.050781</td>\n",
              "      <td>0.0</td>\n",
              "      <td>0.669137</td>\n",
              "      <td>0.0</td>\n",
              "      <td>0.0</td>\n",
              "      <td>0.0</td>\n",
              "      <td>1.0</td>\n",
              "      <td>0.0</td>\n",
              "      <td>0.0</td>\n",
              "      <td>0.0</td>\n",
              "      <td>2.0</td>\n",
              "    </tr>\n",
              "  </tbody>\n",
              "</table>\n",
              "</div>"
            ],
            "text/plain": [
              "            depholiday  depweekend  scaled_PM10  scaled_PM25  scaled_rain  \\\n",
              "2017-10-01         0.0         1.0     0.263456     0.269531          0.0   \n",
              "2017-10-02         1.0         0.0     0.076487     0.085938          0.0   \n",
              "2017-10-03         1.0         0.0     0.195467     0.074219          0.0   \n",
              "2017-10-04         1.0         0.0     0.113314     0.074219          0.0   \n",
              "2017-10-05         1.0         0.0     0.059490     0.050781          0.0   \n",
              "\n",
              "            scaled_temp  mon  tue  wed  thu  fri  sat  sun  113_dep  \n",
              "2017-10-01     0.721024  0.0  0.0  0.0  0.0  0.0  0.0  1.0      4.0  \n",
              "2017-10-02     0.727763  1.0  0.0  0.0  0.0  0.0  0.0  0.0      7.0  \n",
              "2017-10-03     0.648922  0.0  1.0  0.0  0.0  0.0  0.0  0.0      7.0  \n",
              "2017-10-04     0.609838  0.0  0.0  1.0  0.0  0.0  0.0  0.0      2.0  \n",
              "2017-10-05     0.669137  0.0  0.0  0.0  1.0  0.0  0.0  0.0      2.0  "
            ]
          },
          "metadata": {
            "tags": []
          },
          "execution_count": 61
        }
      ]
    },
    {
      "metadata": {
        "id": "z_N3tYD7cif3",
        "colab_type": "text"
      },
      "cell_type": "markdown",
      "source": [
        "## test data\n",
        "### 2018.10.23 ~ 2018. 11.22 의 데이터"
      ]
    },
    {
      "metadata": {
        "id": "u6fr3VJ4cif4",
        "colab_type": "code",
        "colab": {}
      },
      "cell_type": "code",
      "source": [
        "testy = pd.read_csv('test_y.csv')"
      ],
      "execution_count": 0,
      "outputs": []
    },
    {
      "metadata": {
        "id": "s5dy4VT5cif7",
        "colab_type": "code",
        "outputId": "bcc041ef-2592-48f8-9338-5110f3a4bcc1",
        "colab": {}
      },
      "cell_type": "code",
      "source": [
        "testy = testy.set_index(['Unnamed: 0'])\n",
        "testy.head()"
      ],
      "execution_count": 0,
      "outputs": [
        {
          "output_type": "execute_result",
          "data": {
            "text/html": [
              "<div>\n",
              "<style scoped>\n",
              "    .dataframe tbody tr th:only-of-type {\n",
              "        vertical-align: middle;\n",
              "    }\n",
              "\n",
              "    .dataframe tbody tr th {\n",
              "        vertical-align: top;\n",
              "    }\n",
              "\n",
              "    .dataframe thead th {\n",
              "        text-align: right;\n",
              "    }\n",
              "</style>\n",
              "<table border=\"1\" class=\"dataframe\">\n",
              "  <thead>\n",
              "    <tr style=\"text-align: right;\">\n",
              "      <th></th>\n",
              "      <th>113_dep</th>\n",
              "    </tr>\n",
              "    <tr>\n",
              "      <th>Unnamed: 0</th>\n",
              "      <th></th>\n",
              "    </tr>\n",
              "  </thead>\n",
              "  <tbody>\n",
              "    <tr>\n",
              "      <th>2018-10-23</th>\n",
              "      <td>19</td>\n",
              "    </tr>\n",
              "    <tr>\n",
              "      <th>2018-10-24</th>\n",
              "      <td>25</td>\n",
              "    </tr>\n",
              "    <tr>\n",
              "      <th>2018-10-25</th>\n",
              "      <td>23</td>\n",
              "    </tr>\n",
              "    <tr>\n",
              "      <th>2018-10-26</th>\n",
              "      <td>6</td>\n",
              "    </tr>\n",
              "    <tr>\n",
              "      <th>2018-10-27</th>\n",
              "      <td>8</td>\n",
              "    </tr>\n",
              "  </tbody>\n",
              "</table>\n",
              "</div>"
            ],
            "text/plain": [
              "            113_dep\n",
              "Unnamed: 0         \n",
              "2018-10-23       19\n",
              "2018-10-24       25\n",
              "2018-10-25       23\n",
              "2018-10-26        6\n",
              "2018-10-27        8"
            ]
          },
          "metadata": {
            "tags": []
          },
          "execution_count": 63
        }
      ]
    },
    {
      "metadata": {
        "id": "KQWO_N6ucigG",
        "colab_type": "code",
        "outputId": "903c06ed-f626-4e40-d7e7-cabbcae076af",
        "colab": {}
      },
      "cell_type": "code",
      "source": [
        "testx = pd.read_csv('test_x.csv')\n",
        "testx = testx.set_index(['Unnamed: 0'])\n",
        "\n",
        "testx.head()"
      ],
      "execution_count": 0,
      "outputs": [
        {
          "output_type": "execute_result",
          "data": {
            "text/html": [
              "<div>\n",
              "<style scoped>\n",
              "    .dataframe tbody tr th:only-of-type {\n",
              "        vertical-align: middle;\n",
              "    }\n",
              "\n",
              "    .dataframe tbody tr th {\n",
              "        vertical-align: top;\n",
              "    }\n",
              "\n",
              "    .dataframe thead th {\n",
              "        text-align: right;\n",
              "    }\n",
              "</style>\n",
              "<table border=\"1\" class=\"dataframe\">\n",
              "  <thead>\n",
              "    <tr style=\"text-align: right;\">\n",
              "      <th></th>\n",
              "      <th>depholiday</th>\n",
              "      <th>depweekend</th>\n",
              "      <th>PM10</th>\n",
              "      <th>PM25</th>\n",
              "      <th>rain</th>\n",
              "      <th>temp</th>\n",
              "      <th>mon</th>\n",
              "      <th>tue</th>\n",
              "      <th>wed</th>\n",
              "      <th>thu</th>\n",
              "      <th>fri</th>\n",
              "      <th>sat</th>\n",
              "      <th>sun</th>\n",
              "    </tr>\n",
              "    <tr>\n",
              "      <th>Unnamed: 0</th>\n",
              "      <th></th>\n",
              "      <th></th>\n",
              "      <th></th>\n",
              "      <th></th>\n",
              "      <th></th>\n",
              "      <th></th>\n",
              "      <th></th>\n",
              "      <th></th>\n",
              "      <th></th>\n",
              "      <th></th>\n",
              "      <th></th>\n",
              "      <th></th>\n",
              "      <th></th>\n",
              "    </tr>\n",
              "  </thead>\n",
              "  <tbody>\n",
              "    <tr>\n",
              "      <th>2018-10-23</th>\n",
              "      <td>False</td>\n",
              "      <td>False</td>\n",
              "      <td>54.666667</td>\n",
              "      <td>39.000000</td>\n",
              "      <td>0.000000</td>\n",
              "      <td>11.033333</td>\n",
              "      <td>0</td>\n",
              "      <td>1</td>\n",
              "      <td>0</td>\n",
              "      <td>0</td>\n",
              "      <td>0</td>\n",
              "      <td>0</td>\n",
              "      <td>0</td>\n",
              "    </tr>\n",
              "    <tr>\n",
              "      <th>2018-10-24</th>\n",
              "      <td>False</td>\n",
              "      <td>False</td>\n",
              "      <td>37.666667</td>\n",
              "      <td>17.666667</td>\n",
              "      <td>0.000000</td>\n",
              "      <td>8.666667</td>\n",
              "      <td>0</td>\n",
              "      <td>0</td>\n",
              "      <td>1</td>\n",
              "      <td>0</td>\n",
              "      <td>0</td>\n",
              "      <td>0</td>\n",
              "      <td>0</td>\n",
              "    </tr>\n",
              "    <tr>\n",
              "      <th>2018-10-25</th>\n",
              "      <td>False</td>\n",
              "      <td>False</td>\n",
              "      <td>30.333333</td>\n",
              "      <td>15.333333</td>\n",
              "      <td>0.000000</td>\n",
              "      <td>8.500000</td>\n",
              "      <td>0</td>\n",
              "      <td>0</td>\n",
              "      <td>0</td>\n",
              "      <td>1</td>\n",
              "      <td>0</td>\n",
              "      <td>0</td>\n",
              "      <td>0</td>\n",
              "    </tr>\n",
              "    <tr>\n",
              "      <th>2018-10-26</th>\n",
              "      <td>False</td>\n",
              "      <td>False</td>\n",
              "      <td>38.666667</td>\n",
              "      <td>22.333333</td>\n",
              "      <td>0.333333</td>\n",
              "      <td>12.233333</td>\n",
              "      <td>0</td>\n",
              "      <td>0</td>\n",
              "      <td>0</td>\n",
              "      <td>0</td>\n",
              "      <td>1</td>\n",
              "      <td>0</td>\n",
              "      <td>0</td>\n",
              "    </tr>\n",
              "    <tr>\n",
              "      <th>2018-10-27</th>\n",
              "      <td>False</td>\n",
              "      <td>True</td>\n",
              "      <td>21.333333</td>\n",
              "      <td>5.666667</td>\n",
              "      <td>0.000000</td>\n",
              "      <td>7.766667</td>\n",
              "      <td>0</td>\n",
              "      <td>0</td>\n",
              "      <td>0</td>\n",
              "      <td>0</td>\n",
              "      <td>0</td>\n",
              "      <td>1</td>\n",
              "      <td>0</td>\n",
              "    </tr>\n",
              "  </tbody>\n",
              "</table>\n",
              "</div>"
            ],
            "text/plain": [
              "            depholiday  depweekend       PM10       PM25      rain       temp  \\\n",
              "Unnamed: 0                                                                      \n",
              "2018-10-23       False       False  54.666667  39.000000  0.000000  11.033333   \n",
              "2018-10-24       False       False  37.666667  17.666667  0.000000   8.666667   \n",
              "2018-10-25       False       False  30.333333  15.333333  0.000000   8.500000   \n",
              "2018-10-26       False       False  38.666667  22.333333  0.333333  12.233333   \n",
              "2018-10-27       False        True  21.333333   5.666667  0.000000   7.766667   \n",
              "\n",
              "            mon  tue  wed  thu  fri  sat  sun  \n",
              "Unnamed: 0                                     \n",
              "2018-10-23    0    1    0    0    0    0    0  \n",
              "2018-10-24    0    0    1    0    0    0    0  \n",
              "2018-10-25    0    0    0    1    0    0    0  \n",
              "2018-10-26    0    0    0    0    1    0    0  \n",
              "2018-10-27    0    0    0    0    0    1    0  "
            ]
          },
          "metadata": {
            "tags": []
          },
          "execution_count": 76
        }
      ]
    },
    {
      "metadata": {
        "id": "d37Ly4K4cigM",
        "colab_type": "code",
        "outputId": "7631fcfe-a1bb-4f21-87f4-1bd6183dec88",
        "colab": {}
      },
      "cell_type": "code",
      "source": [
        "scaled_testx = pd.DataFrame(scaler.transform(testx.values))\n",
        "scaled_testx.columns = ['depholiday',\t'depweekend',\t'scaled_PM10', 'scaled_PM25','scaled_rain'\t,'scaled_temp',\t'mon'\t,'tue'\t,'wed'\t,'thu'\t,'fri',\t'sat'\t,'sun']\n",
        "scaled_testx = scaled_testx.set_index(testx.index)\n",
        "scaled_testx.head()"
      ],
      "execution_count": 0,
      "outputs": [
        {
          "output_type": "execute_result",
          "data": {
            "text/html": [
              "<div>\n",
              "<style scoped>\n",
              "    .dataframe tbody tr th:only-of-type {\n",
              "        vertical-align: middle;\n",
              "    }\n",
              "\n",
              "    .dataframe tbody tr th {\n",
              "        vertical-align: top;\n",
              "    }\n",
              "\n",
              "    .dataframe thead th {\n",
              "        text-align: right;\n",
              "    }\n",
              "</style>\n",
              "<table border=\"1\" class=\"dataframe\">\n",
              "  <thead>\n",
              "    <tr style=\"text-align: right;\">\n",
              "      <th></th>\n",
              "      <th>depholiday</th>\n",
              "      <th>depweekend</th>\n",
              "      <th>scaled_PM10</th>\n",
              "      <th>scaled_PM25</th>\n",
              "      <th>scaled_rain</th>\n",
              "      <th>scaled_temp</th>\n",
              "      <th>mon</th>\n",
              "      <th>tue</th>\n",
              "      <th>wed</th>\n",
              "      <th>thu</th>\n",
              "      <th>fri</th>\n",
              "      <th>sat</th>\n",
              "      <th>sun</th>\n",
              "    </tr>\n",
              "    <tr>\n",
              "      <th>Unnamed: 0</th>\n",
              "      <th></th>\n",
              "      <th></th>\n",
              "      <th></th>\n",
              "      <th></th>\n",
              "      <th></th>\n",
              "      <th></th>\n",
              "      <th></th>\n",
              "      <th></th>\n",
              "      <th></th>\n",
              "      <th></th>\n",
              "      <th></th>\n",
              "      <th></th>\n",
              "      <th></th>\n",
              "    </tr>\n",
              "  </thead>\n",
              "  <tbody>\n",
              "    <tr>\n",
              "      <th>2018-10-23</th>\n",
              "      <td>0.0</td>\n",
              "      <td>0.0</td>\n",
              "      <td>0.430595</td>\n",
              "      <td>0.445312</td>\n",
              "      <td>0.000000</td>\n",
              "      <td>0.578841</td>\n",
              "      <td>0.0</td>\n",
              "      <td>1.0</td>\n",
              "      <td>0.0</td>\n",
              "      <td>0.0</td>\n",
              "      <td>0.0</td>\n",
              "      <td>0.0</td>\n",
              "      <td>0.0</td>\n",
              "    </tr>\n",
              "    <tr>\n",
              "      <th>2018-10-24</th>\n",
              "      <td>0.0</td>\n",
              "      <td>0.0</td>\n",
              "      <td>0.286119</td>\n",
              "      <td>0.195313</td>\n",
              "      <td>0.000000</td>\n",
              "      <td>0.530997</td>\n",
              "      <td>0.0</td>\n",
              "      <td>0.0</td>\n",
              "      <td>1.0</td>\n",
              "      <td>0.0</td>\n",
              "      <td>0.0</td>\n",
              "      <td>0.0</td>\n",
              "      <td>0.0</td>\n",
              "    </tr>\n",
              "    <tr>\n",
              "      <th>2018-10-25</th>\n",
              "      <td>0.0</td>\n",
              "      <td>0.0</td>\n",
              "      <td>0.223796</td>\n",
              "      <td>0.167969</td>\n",
              "      <td>0.000000</td>\n",
              "      <td>0.527628</td>\n",
              "      <td>0.0</td>\n",
              "      <td>0.0</td>\n",
              "      <td>0.0</td>\n",
              "      <td>1.0</td>\n",
              "      <td>0.0</td>\n",
              "      <td>0.0</td>\n",
              "      <td>0.0</td>\n",
              "    </tr>\n",
              "    <tr>\n",
              "      <th>2018-10-26</th>\n",
              "      <td>0.0</td>\n",
              "      <td>0.0</td>\n",
              "      <td>0.294618</td>\n",
              "      <td>0.250000</td>\n",
              "      <td>0.037736</td>\n",
              "      <td>0.603100</td>\n",
              "      <td>0.0</td>\n",
              "      <td>0.0</td>\n",
              "      <td>0.0</td>\n",
              "      <td>0.0</td>\n",
              "      <td>1.0</td>\n",
              "      <td>0.0</td>\n",
              "      <td>0.0</td>\n",
              "    </tr>\n",
              "    <tr>\n",
              "      <th>2018-10-27</th>\n",
              "      <td>0.0</td>\n",
              "      <td>1.0</td>\n",
              "      <td>0.147309</td>\n",
              "      <td>0.054688</td>\n",
              "      <td>0.000000</td>\n",
              "      <td>0.512803</td>\n",
              "      <td>0.0</td>\n",
              "      <td>0.0</td>\n",
              "      <td>0.0</td>\n",
              "      <td>0.0</td>\n",
              "      <td>0.0</td>\n",
              "      <td>1.0</td>\n",
              "      <td>0.0</td>\n",
              "    </tr>\n",
              "  </tbody>\n",
              "</table>\n",
              "</div>"
            ],
            "text/plain": [
              "            depholiday  depweekend  scaled_PM10  scaled_PM25  scaled_rain  \\\n",
              "Unnamed: 0                                                                  \n",
              "2018-10-23         0.0         0.0     0.430595     0.445312     0.000000   \n",
              "2018-10-24         0.0         0.0     0.286119     0.195313     0.000000   \n",
              "2018-10-25         0.0         0.0     0.223796     0.167969     0.000000   \n",
              "2018-10-26         0.0         0.0     0.294618     0.250000     0.037736   \n",
              "2018-10-27         0.0         1.0     0.147309     0.054688     0.000000   \n",
              "\n",
              "            scaled_temp  mon  tue  wed  thu  fri  sat  sun  \n",
              "Unnamed: 0                                                  \n",
              "2018-10-23     0.578841  0.0  1.0  0.0  0.0  0.0  0.0  0.0  \n",
              "2018-10-24     0.530997  0.0  0.0  1.0  0.0  0.0  0.0  0.0  \n",
              "2018-10-25     0.527628  0.0  0.0  0.0  1.0  0.0  0.0  0.0  \n",
              "2018-10-26     0.603100  0.0  0.0  0.0  0.0  1.0  0.0  0.0  \n",
              "2018-10-27     0.512803  0.0  0.0  0.0  0.0  0.0  1.0  0.0  "
            ]
          },
          "metadata": {
            "tags": []
          },
          "execution_count": 83
        }
      ]
    },
    {
      "metadata": {
        "id": "xkA3oZL4cigQ",
        "colab_type": "text"
      },
      "cell_type": "markdown",
      "source": [
        "### test data 종합"
      ]
    },
    {
      "metadata": {
        "id": "Il1Y7qDYcigR",
        "colab_type": "code",
        "outputId": "a7a840c8-816c-4db3-d0f2-fed67cc6cdfd",
        "colab": {}
      },
      "cell_type": "code",
      "source": [
        "scaled_testdata = pd.merge(scaled_testx, testy, left_index=True, right_index=True)\n",
        "scaled_testdata.head()"
      ],
      "execution_count": 0,
      "outputs": [
        {
          "output_type": "execute_result",
          "data": {
            "text/html": [
              "<div>\n",
              "<style scoped>\n",
              "    .dataframe tbody tr th:only-of-type {\n",
              "        vertical-align: middle;\n",
              "    }\n",
              "\n",
              "    .dataframe tbody tr th {\n",
              "        vertical-align: top;\n",
              "    }\n",
              "\n",
              "    .dataframe thead th {\n",
              "        text-align: right;\n",
              "    }\n",
              "</style>\n",
              "<table border=\"1\" class=\"dataframe\">\n",
              "  <thead>\n",
              "    <tr style=\"text-align: right;\">\n",
              "      <th></th>\n",
              "      <th>depholiday</th>\n",
              "      <th>depweekend</th>\n",
              "      <th>scaled_PM10</th>\n",
              "      <th>scaled_PM25</th>\n",
              "      <th>scaled_rain</th>\n",
              "      <th>scaled_temp</th>\n",
              "      <th>mon</th>\n",
              "      <th>tue</th>\n",
              "      <th>wed</th>\n",
              "      <th>thu</th>\n",
              "      <th>fri</th>\n",
              "      <th>sat</th>\n",
              "      <th>sun</th>\n",
              "      <th>113_dep</th>\n",
              "    </tr>\n",
              "    <tr>\n",
              "      <th>Unnamed: 0</th>\n",
              "      <th></th>\n",
              "      <th></th>\n",
              "      <th></th>\n",
              "      <th></th>\n",
              "      <th></th>\n",
              "      <th></th>\n",
              "      <th></th>\n",
              "      <th></th>\n",
              "      <th></th>\n",
              "      <th></th>\n",
              "      <th></th>\n",
              "      <th></th>\n",
              "      <th></th>\n",
              "      <th></th>\n",
              "    </tr>\n",
              "  </thead>\n",
              "  <tbody>\n",
              "    <tr>\n",
              "      <th>2018-10-23</th>\n",
              "      <td>0.0</td>\n",
              "      <td>0.0</td>\n",
              "      <td>0.430595</td>\n",
              "      <td>0.445312</td>\n",
              "      <td>0.000000</td>\n",
              "      <td>0.578841</td>\n",
              "      <td>0.0</td>\n",
              "      <td>1.0</td>\n",
              "      <td>0.0</td>\n",
              "      <td>0.0</td>\n",
              "      <td>0.0</td>\n",
              "      <td>0.0</td>\n",
              "      <td>0.0</td>\n",
              "      <td>19</td>\n",
              "    </tr>\n",
              "    <tr>\n",
              "      <th>2018-10-24</th>\n",
              "      <td>0.0</td>\n",
              "      <td>0.0</td>\n",
              "      <td>0.286119</td>\n",
              "      <td>0.195313</td>\n",
              "      <td>0.000000</td>\n",
              "      <td>0.530997</td>\n",
              "      <td>0.0</td>\n",
              "      <td>0.0</td>\n",
              "      <td>1.0</td>\n",
              "      <td>0.0</td>\n",
              "      <td>0.0</td>\n",
              "      <td>0.0</td>\n",
              "      <td>0.0</td>\n",
              "      <td>25</td>\n",
              "    </tr>\n",
              "    <tr>\n",
              "      <th>2018-10-25</th>\n",
              "      <td>0.0</td>\n",
              "      <td>0.0</td>\n",
              "      <td>0.223796</td>\n",
              "      <td>0.167969</td>\n",
              "      <td>0.000000</td>\n",
              "      <td>0.527628</td>\n",
              "      <td>0.0</td>\n",
              "      <td>0.0</td>\n",
              "      <td>0.0</td>\n",
              "      <td>1.0</td>\n",
              "      <td>0.0</td>\n",
              "      <td>0.0</td>\n",
              "      <td>0.0</td>\n",
              "      <td>23</td>\n",
              "    </tr>\n",
              "    <tr>\n",
              "      <th>2018-10-26</th>\n",
              "      <td>0.0</td>\n",
              "      <td>0.0</td>\n",
              "      <td>0.294618</td>\n",
              "      <td>0.250000</td>\n",
              "      <td>0.037736</td>\n",
              "      <td>0.603100</td>\n",
              "      <td>0.0</td>\n",
              "      <td>0.0</td>\n",
              "      <td>0.0</td>\n",
              "      <td>0.0</td>\n",
              "      <td>1.0</td>\n",
              "      <td>0.0</td>\n",
              "      <td>0.0</td>\n",
              "      <td>6</td>\n",
              "    </tr>\n",
              "    <tr>\n",
              "      <th>2018-10-27</th>\n",
              "      <td>0.0</td>\n",
              "      <td>1.0</td>\n",
              "      <td>0.147309</td>\n",
              "      <td>0.054688</td>\n",
              "      <td>0.000000</td>\n",
              "      <td>0.512803</td>\n",
              "      <td>0.0</td>\n",
              "      <td>0.0</td>\n",
              "      <td>0.0</td>\n",
              "      <td>0.0</td>\n",
              "      <td>0.0</td>\n",
              "      <td>1.0</td>\n",
              "      <td>0.0</td>\n",
              "      <td>8</td>\n",
              "    </tr>\n",
              "  </tbody>\n",
              "</table>\n",
              "</div>"
            ],
            "text/plain": [
              "            depholiday  depweekend  scaled_PM10  scaled_PM25  scaled_rain  \\\n",
              "Unnamed: 0                                                                  \n",
              "2018-10-23         0.0         0.0     0.430595     0.445312     0.000000   \n",
              "2018-10-24         0.0         0.0     0.286119     0.195313     0.000000   \n",
              "2018-10-25         0.0         0.0     0.223796     0.167969     0.000000   \n",
              "2018-10-26         0.0         0.0     0.294618     0.250000     0.037736   \n",
              "2018-10-27         0.0         1.0     0.147309     0.054688     0.000000   \n",
              "\n",
              "            scaled_temp  mon  tue  wed  thu  fri  sat  sun  113_dep  \n",
              "Unnamed: 0                                                           \n",
              "2018-10-23     0.578841  0.0  1.0  0.0  0.0  0.0  0.0  0.0       19  \n",
              "2018-10-24     0.530997  0.0  0.0  1.0  0.0  0.0  0.0  0.0       25  \n",
              "2018-10-25     0.527628  0.0  0.0  0.0  1.0  0.0  0.0  0.0       23  \n",
              "2018-10-26     0.603100  0.0  0.0  0.0  0.0  1.0  0.0  0.0        6  \n",
              "2018-10-27     0.512803  0.0  0.0  0.0  0.0  0.0  1.0  0.0        8  "
            ]
          },
          "metadata": {
            "tags": []
          },
          "execution_count": 78
        }
      ]
    },
    {
      "metadata": {
        "id": "MsFNN9Rlcigd",
        "colab_type": "text"
      },
      "cell_type": "markdown",
      "source": [
        "## 깊은 MLP (multilayerperceptron )"
      ]
    },
    {
      "metadata": {
        "id": "AG1wRFeIcige",
        "colab_type": "code",
        "outputId": "fe82bfb5-57aa-44ff-da41-7cb39de5c197",
        "colab": {}
      },
      "cell_type": "code",
      "source": [
        "from sklearn.model_selection import train_test_split\n",
        "from sklearn.preprocessing import PolynomialFeatures\n",
        "from keras.models import Sequential\n",
        "from keras.layers import Dense, Embedding, LSTM, Flatten, Dropout\n",
        "from keras.callbacks import EarlyStopping"
      ],
      "execution_count": 0,
      "outputs": [
        {
          "output_type": "stream",
          "text": [
            "Using TensorFlow backend.\n"
          ],
          "name": "stderr"
        }
      ]
    },
    {
      "metadata": {
        "id": "RaJZROtscigl",
        "colab_type": "code",
        "colab": {}
      },
      "cell_type": "code",
      "source": [
        "#1 1차 \n",
        "model = Sequential()\n",
        "model.add(Dense(64, input_dim=13, activation= 'relu'))\n",
        "for i in range(3):\n",
        "    model.add(Dense(64, activation= 'relu'))\n",
        "    #model.add(Dropout(0.3))\n",
        "model.add(Dense(1))\n",
        "\n",
        "model.compile(optimizer = 'rmsprop', loss='mse', metrics=['accuracy'])\n",
        "early_stopping = EarlyStopping(patience= 20)\n",
        "hist = model.fit(scaled_x, train_y, epochs=3000, batch_size = 10)"
      ],
      "execution_count": 0,
      "outputs": []
    },
    {
      "metadata": {
        "id": "chVhZmPFcign",
        "colab_type": "code",
        "outputId": "3b542169-20cd-4655-e10e-6b254d88e6d6",
        "colab": {}
      },
      "cell_type": "code",
      "source": [
        "%matplotlib inline\n",
        "\n",
        "fig, loss_ax = plt.subplots()\n",
        "acc_ax = loss_ax.twinx()\n",
        "\n",
        "loss_ax.plot(hist.history['loss'], 'b', label='train loss' )\n",
        "acc_ax.plot(hist.history['acc'], 'r', label='train acc')\n",
        "\n",
        "loss_ax.set_xlabel('epoch')\n",
        "loss_ax.set_ylabel('loss')\n",
        "acc_ax.set_ylabel('accuracy')\n",
        "\n",
        "plt.show()"
      ],
      "execution_count": 0,
      "outputs": [
        {
          "output_type": "display_data",
          "data": {
            "image/png": "[encoded data removed]",
            "text/plain": [
              "<Figure size 432x288 with 2 Axes>"
            ]
          },
          "metadata": {
            "tags": [],
            "needs_background": "light"
          }
        }
      ]
    },
    {
      "metadata": {
        "id": "_EUV3WWtcigq",
        "colab_type": "code",
        "colab": {}
      },
      "cell_type": "code",
      "source": [
        "y = model.predict(scaled_testx)"
      ],
      "execution_count": 0,
      "outputs": []
    },
    {
      "metadata": {
        "id": "2Qjm2s2jcigt",
        "colab_type": "code",
        "colab": {}
      },
      "cell_type": "code",
      "source": [
        "ANNplot = pd.DataFrame(scaled_testx)\n",
        "ANNplot['y'] = testy.values\n",
        "ANNplot['y_pred'] = y"
      ],
      "execution_count": 0,
      "outputs": []
    },
    {
      "metadata": {
        "id": "WDstX7jgcigv",
        "colab_type": "code",
        "outputId": "b461b6cb-5bf8-4d2d-d07e-618ed67c0f99",
        "colab": {}
      },
      "cell_type": "code",
      "source": [
        "%matplotlib inline\n",
        "with plt.style.context('ggplot'):\n",
        "    fig, ax = plt.subplots(figsize=(15,5))\n",
        "    \n",
        "    ANNplot[['y','y_pred']].plot(ax=ax, label = ['y','y_pred'], xticks = np.arange(1,31)) #pd.date_range('2018-10-23', periods=31).to_pydatetime())\n",
        "    plt.legend()\n",
        "    plt.xticks(rotation=30)\n",
        "    #plt.xticks(pd.date_range('2018-10-23', periods=31).to_pydatetime())\n",
        "    plt.ylabel('usage')\n",
        "    plt.xlabel('')\n",
        "    plt.title('The number of DDAREUNGYI dep by day')  "
      ],
      "execution_count": 0,
      "outputs": [
        {
          "output_type": "display_data",
          "data": {
            "image/png": "[encoded data removed]",
            "text/plain": [
              "<Figure size 1080x360 with 1 Axes>"
            ]
          },
          "metadata": {
            "tags": []
          }
        }
      ]
    },
    {
      "metadata": {
        "id": "uJxZCHvxcig1",
        "colab_type": "code",
        "outputId": "c6dd0def-304c-478e-adc7-22669f7e917a",
        "colab": {}
      },
      "cell_type": "code",
      "source": [
        "loss_and_metrics = model.evaluate(scaled_testx, testy)\n",
        "print('')\n",
        "print('loss: ' + str(loss_and_metrics[0]))\n",
        "print('accuracy: ' + str(loss_and_metrics[1]))"
      ],
      "execution_count": 0,
      "outputs": [
        {
          "output_type": "stream",
          "text": [
            "31/31 [==============================] - 0s 1ms/step\n",
            "\n",
            "loss: 51.72427749633789\n",
            "accuracy: 0.09677419066429138\n"
          ],
          "name": "stdout"
        }
      ]
    },
    {
      "metadata": {
        "id": "JPt9MoAwcig5",
        "colab_type": "code",
        "colab": {}
      },
      "cell_type": "code",
      "source": [
        "poly = PolynomialFeatures(degree=2)\n",
        "scaled_x_poly = poly.fit_transform(scaled_x)"
      ],
      "execution_count": 0,
      "outputs": []
    },
    {
      "metadata": {
        "id": "cPgKmbMOcig8",
        "colab_type": "code",
        "colab": {}
      },
      "cell_type": "code",
      "source": [
        "#2 2차 poly\n",
        "model = Sequential()\n",
        "model.add(Dense(64, input_dim=105, activation= 'relu'))\n",
        "for i in range(3):\n",
        "    model.add(Dense(64, activation= 'relu'))\n",
        "    #model.add(Dropout(0.3))\n",
        "model.add(Dense(1))\n",
        "\n",
        "model.compile(optimizer = 'rmsprop', loss='mse', metrics=['accuracy'])\n",
        "early_stopping = EarlyStopping(patience= 20)\n",
        "hist = model.fit(scaled_x_poly, pd.DataFrame(mg_113_1_y), epochs=3000, batch_size = 10)"
      ],
      "execution_count": 0,
      "outputs": []
    },
    {
      "metadata": {
        "id": "bfjuL3lTcig_",
        "colab_type": "code",
        "outputId": "3a27d9e3-6153-428d-8e24-701dd1b46939",
        "colab": {}
      },
      "cell_type": "code",
      "source": [
        "%matplotlib inline\n",
        "\n",
        "fig, loss_ax = plt.subplots()\n",
        "acc_ax = loss_ax.twinx()\n",
        "\n",
        "loss_ax.plot(hist.history['loss'], 'b', label='train loss' )\n",
        "acc_ax.plot(hist.history['acc'], 'r', label='train acc')\n",
        "\n",
        "loss_ax.set_xlabel('epoch')\n",
        "loss_ax.set_ylabel('loss')\n",
        "acc_ax.set_ylabel('accuracy')\n",
        "\n",
        "plt.show()"
      ],
      "execution_count": 0,
      "outputs": [
        {
          "output_type": "display_data",
          "data": {
            "image/png": "[encoded data removed]",
            "text/plain": [
              "<Figure size 432x288 with 2 Axes>"
            ]
          },
          "metadata": {
            "tags": [],
            "needs_background": "light"
          }
        }
      ]
    },
    {
      "metadata": {
        "id": "PJCErgPkcihD",
        "colab_type": "code",
        "colab": {}
      },
      "cell_type": "code",
      "source": [
        "scaled_testx_poly = poly.fit_transform(scaled_testx)"
      ],
      "execution_count": 0,
      "outputs": []
    },
    {
      "metadata": {
        "id": "Ukv8Hbo9cihG",
        "colab_type": "code",
        "colab": {}
      },
      "cell_type": "code",
      "source": [
        "y = model.predict(scaled_testx_poly)"
      ],
      "execution_count": 0,
      "outputs": []
    },
    {
      "metadata": {
        "id": "2wuhDV-VcihI",
        "colab_type": "code",
        "colab": {}
      },
      "cell_type": "code",
      "source": [
        "ANNplot = pd.DataFrame(scaled_testx)\n",
        "ANNplot['y'] = testy.values\n",
        "ANNplot['y_pred'] = y"
      ],
      "execution_count": 0,
      "outputs": []
    },
    {
      "metadata": {
        "id": "S-zI7Xw-cihL",
        "colab_type": "code",
        "outputId": "61c81177-b484-43cf-eccb-d97a9f63cda5",
        "colab": {}
      },
      "cell_type": "code",
      "source": [
        "%matplotlib inline\n",
        "with plt.style.context('ggplot'):\n",
        "    fig, ax = plt.subplots(figsize=(15,5))\n",
        "    \n",
        "    ANNplot[['y','y_pred']].plot(ax=ax, label = ['y','y_pred'], xticks = np.arange(1,31))\n",
        "    plt.legend()\n",
        "    \n",
        "    plt.ylabel('usage')\n",
        "    plt.xlabel('')\n",
        "    plt.xticks(rotation=30)\n",
        "    plt.title('The number of DDAREUNGYI dep by day')  "
      ],
      "execution_count": 0,
      "outputs": [
        {
          "output_type": "display_data",
          "data": {
            "image/png": "[encoded data removed]",
            "text/plain": [
              "<Figure size 1080x360 with 1 Axes>"
            ]
          },
          "metadata": {
            "tags": []
          }
        }
      ]
    },
    {
      "metadata": {
        "id": "u-KG61GKcihR",
        "colab_type": "code",
        "outputId": "f17b8ea0-6e20-4fcb-c664-245abba21d3f",
        "colab": {}
      },
      "cell_type": "code",
      "source": [
        "loss_and_metrics = model.evaluate(scaled_testx_poly, testy)\n",
        "print('')\n",
        "print('loss: ' + str(loss_and_metrics[0]))\n",
        "print('accuracy: ' + str(loss_and_metrics[1]))"
      ],
      "execution_count": 0,
      "outputs": [
        {
          "output_type": "stream",
          "text": [
            "31/31 [==============================] - 0s 1ms/step\n",
            "\n",
            "loss: 41.90095138549805\n",
            "accuracy: 0.09677419066429138\n"
          ],
          "name": "stdout"
        }
      ]
    },
    {
      "metadata": {
        "id": "WaG0XMZDcihV",
        "colab_type": "text"
      },
      "cell_type": "markdown",
      "source": [
        "## multivariate LSTM time series data prediction"
      ]
    },
    {
      "metadata": {
        "id": "9JKr48jucihV",
        "colab_type": "code",
        "colab": {}
      },
      "cell_type": "code",
      "source": [
        "from numpy import array"
      ],
      "execution_count": 0,
      "outputs": []
    },
    {
      "metadata": {
        "id": "lQVRY43QcihY",
        "colab_type": "code",
        "colab": {}
      },
      "cell_type": "code",
      "source": [
        "# split a multivariate sequence into samples\n",
        "def split_sequences(sequences, n_steps):\n",
        "\tX, y = list(), list()\n",
        "\tfor i in range(len(sequences)):\n",
        "\t\t# find the end of this pattern\n",
        "\t\tend_ix = i + n_steps\n",
        "\t\t# check if we are beyond the dataset\n",
        "\t\tif end_ix > len(sequences):\n",
        "\t\t\tbreak\n",
        "\t\t# gather input and output parts of the pattern\n",
        "\t\tseq_x, seq_y = sequences.iloc[i:end_ix, :-1].as_matrix(), sequences.iloc[end_ix-1, -1]\n",
        "\t\tX.append(seq_x)\n",
        "\t\ty.append(seq_y)\n",
        "\treturn array(X), array(y)"
      ],
      "execution_count": 0,
      "outputs": []
    },
    {
      "metadata": {
        "id": "viuLOkK2ciha",
        "colab_type": "code",
        "outputId": "294f24b8-54be-410b-cf36-61cb7844857a",
        "colab": {}
      },
      "cell_type": "code",
      "source": [
        "# choose a number of time steps\n",
        "n_steps = 7\n",
        "# convert into input/output\n",
        "X, y = split_sequences(scaled_data, n_steps)\n",
        "\n",
        "# summarize the data\n",
        "#for i in range(3):\n",
        "#\tprint(X[i], y[i])"
      ],
      "execution_count": 0,
      "outputs": [
        {
          "output_type": "stream",
          "text": [
            "C:\\Users\\lijbd\\Anaconda3\\lib\\site-packages\\ipykernel_launcher.py:11: FutureWarning: Method .as_matrix will be removed in a future version. Use .values instead.\n",
            "  # This is added back by InteractiveShellApp.init_path()\n"
          ],
          "name": "stderr"
        }
      ]
    },
    {
      "metadata": {
        "id": "6mYoYDi_cihj",
        "colab_type": "code",
        "colab": {}
      },
      "cell_type": "code",
      "source": [
        "# define model\n",
        "model = Sequential()\n",
        "model.add(LSTM(50, activation='relu', input_shape=(n_steps, 13)))\n",
        "model.add(Dense(1))\n",
        "model.compile(optimizer='adam', loss='mse', metrics=['accuracy'])\n",
        "\n",
        "hist = model.fit(X, y, epochs=500, batch_size = 10)"
      ],
      "execution_count": 0,
      "outputs": []
    },
    {
      "metadata": {
        "id": "cFgNTBqWcihl",
        "colab_type": "code",
        "outputId": "ed5297a9-186e-4da9-85f8-57823a91da37",
        "colab": {}
      },
      "cell_type": "code",
      "source": [
        "%matplotlib inline\n",
        "\n",
        "fig, loss_ax = plt.subplots()\n",
        "acc_ax = loss_ax.twinx()\n",
        "\n",
        "loss_ax.plot(hist.history['loss'], 'b',label='train loss')\n",
        "acc_ax.plot(hist.history['acc'], 'r', label='train acc')\n",
        "loss_ax.set_xlabel('epoch')\n",
        "loss_ax.set_ylabel('loss')\n",
        "acc_ax.set_ylabel('accuracy')\n",
        "\n",
        "plt.show()"
      ],
      "execution_count": 0,
      "outputs": [
        {
          "output_type": "display_data",
          "data": {
            "image/png": "[encoded data removed]",
            "text/plain": [
              "<Figure size 432x288 with 2 Axes>"
            ]
          },
          "metadata": {
            "tags": [],
            "needs_background": "light"
          }
        }
      ]
    },
    {
      "metadata": {
        "id": "tCk5igvrcihu",
        "colab_type": "code",
        "colab": {}
      },
      "cell_type": "code",
      "source": [
        "yhat = model.predict(X, verbose=0)"
      ],
      "execution_count": 0,
      "outputs": []
    },
    {
      "metadata": {
        "id": "N4pTVpi1cih1",
        "colab_type": "code",
        "outputId": "25ae9af8-734e-480b-a1d6-f6748eb990e4",
        "colab": {}
      },
      "cell_type": "code",
      "source": [
        "X_ts, y_ts = split_sequences(scaled_testdata, n_steps)\n"
      ],
      "execution_count": 0,
      "outputs": [
        {
          "output_type": "stream",
          "text": [
            "C:\\Users\\lijbd\\Anaconda3\\lib\\site-packages\\ipykernel_launcher.py:11: FutureWarning: Method .as_matrix will be removed in a future version. Use .values instead.\n",
            "  # This is added back by InteractiveShellApp.init_path()\n"
          ],
          "name": "stderr"
        }
      ]
    },
    {
      "metadata": {
        "id": "l7o2Ztwncih4",
        "colab_type": "code",
        "colab": {}
      },
      "cell_type": "code",
      "source": [
        "yhat = model.predict(X_ts, verbose=0)\n"
      ],
      "execution_count": 0,
      "outputs": []
    },
    {
      "metadata": {
        "id": "2POcjseRcih6",
        "colab_type": "code",
        "outputId": "c786f60c-4ade-4a04-ac06-b897b7d62669",
        "colab": {}
      },
      "cell_type": "code",
      "source": [
        "%matplotlib inline\n",
        "with plt.style.context('ggplot'):\n",
        "    fig, ax = plt.subplots(figsize=(15,5))\n",
        "    \n",
        "    plt.plot(testy[6:], label = 'y')\n",
        "    #plt.plot(y_ts, label = 'y')\n",
        "    plt.plot(yhat, label = 'y_predict')\n",
        "\n",
        "    plt.legend()\n",
        "    plt.xticks(rotation = 30)\n",
        "    \n",
        "    plt.ylabel('usage')\n",
        "  "
      ],
      "execution_count": 0,
      "outputs": [
        {
          "output_type": "display_data",
          "data": {
            "image/png": "[encoded data removed]",
            "text/plain": [
              "<Figure size 1080x360 with 1 Axes>"
            ]
          },
          "metadata": {
            "tags": []
          }
        }
      ]
    },
    {
      "metadata": {
        "id": "hlERQjmIciiC",
        "colab_type": "code",
        "outputId": "ffe27e10-35b5-4283-a295-6753205642bd",
        "colab": {}
      },
      "cell_type": "code",
      "source": [
        "loss_and_metrics = model.evaluate(X_ts, testy[6:])\n",
        "print('')\n",
        "print('loss: ' + str(loss_and_metrics[0]))\n",
        "print('accuracy: ' + str(loss_and_metrics[1]))"
      ],
      "execution_count": 0,
      "outputs": [
        {
          "output_type": "stream",
          "text": [
            "25/25 [==============================] - 0s 5ms/step\n",
            "\n",
            "loss: 29.03619956970215\n",
            "accuracy: 0.03999999910593033\n"
          ],
          "name": "stdout"
        }
      ]
    }
  ]
}